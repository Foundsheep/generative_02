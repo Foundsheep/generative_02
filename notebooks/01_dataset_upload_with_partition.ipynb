{
 "cells": [
  {
   "cell_type": "code",
   "execution_count": 85,
   "metadata": {},
   "outputs": [],
   "source": [
    "import pandas as pd\n",
    "import numpy as np\n",
    "from pathlib import Path\n",
    "from PIL import Image\n",
    "import matplotlib.pyplot as plt"
   ]
  },
  {
   "cell_type": "markdown",
   "metadata": {},
   "source": [
    "#### Get images"
   ]
  },
  {
   "cell_type": "code",
   "execution_count": 86,
   "metadata": {},
   "outputs": [
    {
     "name": "stdout",
     "output_type": "stream",
     "text": [
      "344\n"
     ]
    }
   ],
   "source": [
    "root_path = Path(r\"/mnt/c/users/msi/Desktop/spr_datasets\")\n",
    "image_path_list = list(root_path.glob(\"*/annotated/*.png\"))\n",
    "print(len(image_path_list))"
   ]
  },
  {
   "cell_type": "markdown",
   "metadata": {},
   "source": [
    "#### Define image-resizing function"
   ]
  },
  {
   "cell_type": "code",
   "execution_count": 87,
   "metadata": {},
   "outputs": [],
   "source": [
    "def adjust_ratio_and_resize_image(path, to_h, to_w, save_folder_path=None):\n",
    "    # load an image\n",
    "    img = Image.open(path)\n",
    "\n",
    "    # set the basic info\n",
    "    target_ratio = 0.75\n",
    "    h = img.height\n",
    "    w = img.width\n",
    "    ratio = h / w\n",
    "    new_ratio = 0.00\n",
    "\n",
    "    # get new length according to the target ratio\n",
    "    if ratio != target_ratio:\n",
    "        if ratio < target_ratio:\n",
    "            new_length = int(w * target_ratio)\n",
    "            half = (new_length - h) // 2\n",
    "        elif ratio > target_ratio:\n",
    "            new_length = int(h / target_ratio)\n",
    "            half = (new_length - w) // 2\n",
    "\n",
    "        another_half = new_length - half - h if 2 * half != new_length else half\n",
    "\n",
    "        # adjust ratio by padding in reflection mode\n",
    "        img_np = np.array(img)\n",
    "        if ratio < target_ratio:\n",
    "            img_padded = np.pad(img_np, ((half, another_half), (0, 0), (0, 0)), \"reflect\")\n",
    "        elif ratio > target_ratio:\n",
    "            img_padded = np.pad(img_np, ((0, 0), (half, another_half), (0, 0)), \"reflect\")\n",
    "\n",
    "        new_ratio = img_padded.shape[0] / img_padded.shape[1]\n",
    "        assert f\"{target_ratio :.2f}\" == f\"{new_ratio :.2f}\", f\"{target_ratio =}, {new_ratio =}\"\n",
    "        img = Image.fromarray(img_padded)\n",
    "        \n",
    "    # downsize the image\n",
    "    img = img.resize((to_w, to_h), Image.Resampling.NEAREST)\n",
    "    if save_folder_path is None:\n",
    "        return img\n",
    "        \n",
    "    # if to save\n",
    "    save_folder = Path(save_folder_path)\n",
    "    if save_folder.exists():\n",
    "        # print(\"... folder exists already\")\n",
    "        pass\n",
    "    else:\n",
    "        save_folder.mkdir()\n",
    "        # print(f\"...{save_folder} made!\")\n",
    "\n",
    "    # save\n",
    "    img.save(save_folder / path.parts[-1])\n",
    "    return img\n",
    "\n"
   ]
  },
  {
   "cell_type": "markdown",
   "metadata": {},
   "source": [
    "#### Head height function"
   ]
  },
  {
   "cell_type": "code",
   "execution_count": 88,
   "metadata": {},
   "outputs": [],
   "source": [
    "from PIL import Image\n",
    "import matplotlib.pyplot as plt\n",
    "import numpy as np\n",
    "import math\n",
    "from copy import deepcopy\n",
    "from pathlib import Path\n",
    "import datetime\n",
    "import argparse\n",
    "import torch\n",
    "\n",
    "BACKGROUND = [0, 0, 0]\n",
    "LOWER = [255, 96, 55]\n",
    "MIDDLE = [221, 255, 51]\n",
    "RIVET = [61, 245, 61]\n",
    "UPPER = [61, 61, 245]\n",
    "COLOUR_NAMES = {\n",
    "    \"BACKGROUND\": BACKGROUND,\n",
    "    \"LOWER\": LOWER,\n",
    "    \"MIDDLE\": MIDDLE,\n",
    "    \"RIVET\": RIVET,\n",
    "    \"UPPER\": UPPER,\n",
    "    }\n",
    "RIVET_DIAMETER = 7.75\n",
    "\n",
    "def get_image_array(path):\n",
    "    img_arr = None\n",
    "    \n",
    "    img = Image.open(path)\n",
    "    if img is not None:\n",
    "        img_arr = np.array(img)\n",
    "    \n",
    "    return img_arr\n",
    "\n",
    "def colour_quantisation(arr_original):\n",
    "    arr = deepcopy(arr_original)\n",
    "    colours = [BACKGROUND, LOWER, MIDDLE, RIVET, UPPER]\n",
    "\n",
    "    # print(f\"...before quantisation: {len(np.unique(arr)) = }\")\n",
    "    for w in range(arr.shape[0]):\n",
    "        for h in range(arr.shape[1]):\n",
    "            max_diff = 255 * 3\n",
    "            temp_diff = 0\n",
    "            current_pixel = arr[w, h]\n",
    "            quantised_pixel = [255, 255, 255]\n",
    "            set_channel_idx = None\n",
    "            # print(current_pixel)\n",
    "            \n",
    "            # 있는지 확인\n",
    "            matching_flag = False\n",
    "            for c in colours:\n",
    "                if (current_pixel == c).all():\n",
    "                    matching_flag = True\n",
    "            if matching_flag:\n",
    "                continue       \n",
    "                    \n",
    "            for colour_idx, c in enumerate(colours):\n",
    "                # print(f\"[{COLOUR_NAMES[colour_idx]}] : {c}\")\n",
    "                \n",
    "                for channel_idx in range(arr.shape[2]):\n",
    "                    temp_diff += np.abs(current_pixel[channel_idx] - c[channel_idx])\n",
    "                    # print(f\"{temp_diff = }\")\n",
    "                \n",
    "                if temp_diff == 0:\n",
    "                    continue\n",
    "                \n",
    "                elif temp_diff < max_diff:\n",
    "                    # print(f\"It's smaller!, [{colour_idx}] colour, [{COLOUR_NAMES[colour_idx]}]\")\n",
    "                    max_diff = temp_diff\n",
    "                    quantised_pixel = colours[colour_idx]\n",
    "                    set_channel_idx = colour_idx\n",
    "                \n",
    "                temp_diff = 0\n",
    "                # print(f\"[{max_diff = }]\")\n",
    "            arr[w, h] = quantised_pixel\n",
    "            # print(f\"before: {current_pixel}, after: {quantised_pixel} -> [{COLOUR_NAMES[set_channel_idx]}]\")\n",
    "\n",
    "    # print(f\"...after quantisation: {len(np.unique(arr)) = }\")\n",
    "    return arr\n",
    "\n",
    "def get_line_coords_via_corners(img_arr, colour, is_upper_corner=True):\n",
    "    condition_1 = img_arr[:, :, 0] == colour[0]\n",
    "    condition_2 = img_arr[:, :, 1] == colour[1]\n",
    "    condition_3 = img_arr[:, :, 2] == colour[2]\n",
    "    \n",
    "    channel_1_coords, channel_2_coords = np.where(condition_1 & condition_2 & condition_3)\n",
    "    \n",
    "    # 모서리 기준점 좌표 설정\n",
    "    h = img_arr.shape[0]\n",
    "    w = img_arr.shape[1]\n",
    "    if is_upper_corner:\n",
    "        left_coord = [0, 0]\n",
    "        right_coord = [w - 1, 0]\n",
    "    else:\n",
    "        left_coord = [0, h - 1]\n",
    "        right_coord = [w - 1, h - 1]\n",
    "    \n",
    "    # 최대 거리 설정\n",
    "    max_diff_left = h * w\n",
    "    max_diff_right = h * w\n",
    "    \n",
    "    # 찾아낸 좌표들 기본값 설정\n",
    "    left_x = None\n",
    "    left_y = None\n",
    "\n",
    "    right_x = None\n",
    "    right_y = None\n",
    "\n",
    "    # 좌표 값마다 모서리 기준점과 거리(L1) 비교\n",
    "    # --- 이미지 표현에서 첫번째 채널 값은 y축, 두번째 채널 값은 x축을 표현\n",
    "    for y, x in zip(channel_1_coords, channel_2_coords):\n",
    "        left_distance = np.abs(left_coord[0] - x) + np.abs(left_coord[1] - y)\n",
    "        right_distance = np.abs(right_coord[0] - x) + np.abs(right_coord[1] - y)\n",
    "        \n",
    "        if left_distance < max_diff_left:\n",
    "            left_x = x\n",
    "            left_y = y\n",
    "            # print(f\"left coords found [{left_y}, {left_x}]\")\n",
    "            max_diff_left = left_distance\n",
    "            \n",
    "        elif right_distance < max_diff_right:\n",
    "            right_x = x\n",
    "            right_y = y\n",
    "            max_diff_right = right_distance\n",
    "            # print(f\"right coords found [{right_y}, {right_x}]\")\n",
    "\n",
    "    # visualise(img_arr, [left_x, right_x], [left_y, right_y], fig_save_folder, True)    \n",
    "    return left_x, left_y, right_x, right_y\n",
    "\n",
    "def get_matrix(x1, y1, x2, y2):\n",
    "    matrix = np.array([\n",
    "        [x1, x2],\n",
    "        [y1, y2]\n",
    "    ])\n",
    "    \n",
    "    return matrix\n",
    "\n",
    "\n",
    "def rotate_vector_around_origin(vector, rad):\n",
    "    x, y = vector\n",
    "    if rad > 0:\n",
    "        xx = x * math.cos(rad) + y * math.sin(rad)\n",
    "        yy = -x * math.sin(rad) + y * math.cos(rad)\n",
    "    elif rad < 0:\n",
    "        xx = x * math.cos(rad) + -y * math.sin(rad)\n",
    "        yy = x * math.sin(rad) + y * math.cos(rad)\n",
    "    else:\n",
    "        xx = x\n",
    "        yy = y        \n",
    "    \n",
    "    rotated_vector = np.array([xx, yy])\n",
    "    # print(\"====== rotate ======\")\n",
    "    # print(f\"original vector: \\n{vector}\\nrad: {rad}\\n\")\n",
    "    # print(f\"rotated vector: \\n{rotated_vector}\")\n",
    "    # print(\"====================\")\n",
    "    return rotated_vector\n",
    "\n",
    "def rotate_vector(vector, two_y_points, rad):\n",
    "    x, y = vector\n",
    "    left_y, right_y = two_y_points\n",
    "    c, s = np.cos(rad), np.sin(rad)\n",
    "    \n",
    "    # y축에서 0이 더 높이 위치한 이미지상에서 left_y 가 right_y보다 더 높은 값을 갖는다면,\n",
    "    # 더 낮게 위치하고 있으므로 clockwise로 진행 필요\n",
    "    if left_y > right_y:\n",
    "        j = np.matrix([\n",
    "            [c, -s],\n",
    "            [s, c]\n",
    "        ])\n",
    "        \n",
    "    # 반대로 counter-clockwise\n",
    "    elif left_y < right_y:\n",
    "        j = np.matrix([\n",
    "            [c, s],\n",
    "            [-s, c]\n",
    "        ])\n",
    "    else:\n",
    "        j = np.matrix([\n",
    "            [1, 0],\n",
    "            [0, 1]\n",
    "        ])\n",
    "        \n",
    "    m = np.dot(j, [x, y])\n",
    "    rotated_vector = np.array([m.T[0].item(), m.T[1].item()], dtype=float)\n",
    "\n",
    "    # print(\"====== rotate ======\")\n",
    "    # print(f\"original vector: \\n{vector}\\nrad: {rad}\\n\")\n",
    "    # print(f\"rotated vector: \\n{rotated_vector}\")\n",
    "    # print(\"====================\")\n",
    "    \n",
    "    return rotated_vector\n",
    "\n",
    "def get_angle_between_two_vectors_from_origin(u, v):\n",
    "    cos_theta = np.dot(u, v) / (np.linalg.norm(u) * np.linalg.norm(v))\n",
    "    rad = np.arccos(np.clip(cos_theta, -1.0, 1.0))\n",
    "    deg = np.degrees(rad)\n",
    "    \n",
    "    # apply minus multiplication if the image should be rotated clockwise\n",
    "    if u[1] < v[1]:\n",
    "        rad = -rad\n",
    "        deg = -deg\n",
    "    \n",
    "    # print(\"--- get angle between two vectors ---\")\n",
    "    # print(f\"u: \\n{u}\\nv: \\n{v}\")\n",
    "    # print(f\"rad: {rad}, deg: {deg}\")\n",
    "    # print(\"-------------------------------------\")\n",
    "    return rad, deg\n",
    "\n",
    "def move_to_origin(matrix, x1, y1):\n",
    "    matrix_copy = deepcopy(matrix)\n",
    "\n",
    "    # 0,0 으로 origin(x1, y1) 옮기기\n",
    "    matrix_copy[0, 0] -= x1\n",
    "    matrix_copy[0, 1] -= x1\n",
    "    matrix_copy[1, 0] -= y1\n",
    "    matrix_copy[1, 1] -= y1\n",
    "    # print(\"--- move to origin ---\")\n",
    "    # print(f\"before: \\n{matrix}\\nafter: \\n{matrix_copy}\")\n",
    "    # print(\"----------------------\")\n",
    "    return matrix_copy\n",
    "\n",
    "def move_to_x_axis_with_origin_anchored(matrix):\n",
    "    # x축으로 거리 유지하며 vector 옮기기\n",
    "    vector_length = np.sqrt((matrix[0, 1] - matrix[0, 0]) ** 2 + (matrix[1, 1] - matrix[1, 0]) ** 2)\n",
    "    matrix_on_x_axis = [\n",
    "        [0, vector_length],\n",
    "        [0, 0]\n",
    "    ]\n",
    "\n",
    "    matrix_on_x_axis = np.array(matrix_on_x_axis)\n",
    "\n",
    "    # print(\"--- move to x axis ---\")\n",
    "    # print(f\"length: {vector_length}\\nafter: \\n{matrix_on_x_axis}\")\n",
    "    # print(\"----------------------\")\n",
    "    \n",
    "    return matrix_on_x_axis\n",
    "\n",
    "def get_rotated_image_rivet_coords(img_arr):\n",
    "    # 리벳 직경 좌표 구하기\n",
    "    left_x_rivet, left_y_rivet, right_x_rivet, right_y_rivet = get_line_coords_via_corners(img_arr, RIVET, True)\n",
    "\n",
    "    # 리벳 직경 좌표 매트릭스로 변형\n",
    "    rivet_matrix = get_matrix(left_x_rivet, left_y_rivet, right_x_rivet, right_y_rivet)\n",
    "\n",
    "    # origin으로 보낼 때 필요한 x축, y축 차이\n",
    "    x_diff = rivet_matrix[0, 0]\n",
    "    y_diff = rivet_matrix[1, 0]\n",
    "\n",
    "    # origin으로 보내진 리벳 직경 매트릭스\n",
    "    rivet_origin = move_to_origin(rivet_matrix, x_diff, y_diff)\n",
    "\n",
    "    # origin을 기점으로 x축으로 내려온 리벳 직경 매트릭스\n",
    "    rivet_on_x_axis = move_to_x_axis_with_origin_anchored(rivet_origin)\n",
    "\n",
    "    # 두 벡터 간 각도 계산\n",
    "    rad, deg = get_angle_between_two_vectors_from_origin(rivet_origin.T[1], rivet_on_x_axis.T[1])\n",
    "\n",
    "    # rotate\n",
    "    img = Image.fromarray(img_arr)\n",
    "    img_rotated = img.rotate(deg)\n",
    "    img_rotated_arr = np.array(img_rotated)\n",
    "    return img_rotated_arr, (left_x_rivet, left_y_rivet, right_x_rivet, right_y_rivet)\n",
    "\n",
    "def get_thickness_of_plate(coords, img_arr, colour):\n",
    "    result_coords = []\n",
    "    result_lengths = []\n",
    "    \n",
    "    for x, y in coords:\n",
    "        original_x = x\n",
    "        original_y = y\n",
    "\n",
    "        tmp_length = 0\n",
    "        tmp_coords = (x, y)\n",
    "        reached = False\n",
    "        \n",
    "        while not reached:\n",
    "            \n",
    "            # assume drawing a line needs to be done from top to bottom\n",
    "            y += 1\n",
    "            \n",
    "            if all(img_arr[y, x, :] == colour):\n",
    "                tmp_coords = (x, y)\n",
    "            else:\n",
    "                tmp_length = abs((y - 1) - original_y)\n",
    "                \n",
    "                if tmp_length > 0:\n",
    "                    result_lengths.append(tmp_length)\n",
    "                    result_coords.append(tmp_coords)\n",
    "                else:\n",
    "                    result_lengths.append(None)\n",
    "                    result_coords.append(None)\n",
    "                \n",
    "                reached = True\n",
    "    # if result_coords[0] is not None:\n",
    "    #     for idx, (c, rc) in enumerate(zip(coords, result_coords)):\n",
    "    #         if idx == 0:\n",
    "    #             visualise(img_arr, [c[0], rc[0]], [c[1], rc[1]], fig_save_folder, True)\n",
    "    #         else:\n",
    "    #             visualise(img_arr, [c[0], rc[0]], [c[1], rc[1]], fig_save_folder, False)\n",
    "    return result_coords, result_lengths\n",
    "\n",
    "def calculate_weighted_mm_per_pixel(img_rotated_arr: np.array, \n",
    "                                    plates: list | tuple, \n",
    "                                    mms: list | tuple,\n",
    "                                    weights: list | tuple=None,\n",
    "                                    ):\n",
    "    \"\"\"\n",
    "    This function assumes the elements for calculation put in as an argument\n",
    "    are ordered where the rivet info is placed at first.\n",
    "    Other elements don't need to be considered in the order.\n",
    "    \"\"\"\n",
    "    weighted_mm_per_pixel = 0.0\n",
    "    \n",
    "    left_xs = []\n",
    "    left_ys = []\n",
    "    right_xs = []\n",
    "    right_ys = []\n",
    "\n",
    "    # 가중치가 주어지지 않은 경우 균등한 가중치 적용    \n",
    "    # print(f\"...weights received: {weights = }\")\n",
    "    if weights is None:\n",
    "        value = 1 / len(mms)\n",
    "        weights = [value] * len(mms)\n",
    "        \n",
    "        # to sum up to 1\n",
    "        if sum(weights) != 1:\n",
    "            weights[0] = 1 - sum(weights[1:])\n",
    "\n",
    "        # print(f\"...weights modified: {weights = }\")\n",
    "\n",
    "    for idx, plate_colour in enumerate(plates):        \n",
    "        lx, ly, rx, ry = get_line_coords_via_corners(img_rotated_arr, plate_colour, True)\n",
    "        left_xs.append(lx)\n",
    "        left_ys.append(ly)\n",
    "        right_xs.append(rx)\n",
    "        right_ys.append(ry)\n",
    "\n",
    "        weight = weights[idx]\n",
    "        mm = mms[idx]\n",
    "        \n",
    "        # 리벳일 경우 직경을 통해 mm per pixel 산출\n",
    "        if plate_colour == RIVET and idx == 0:\n",
    "            pixel = abs(rx - lx)\n",
    "        # 그 외의 경우 두께를 통해 mm per pixel 산출\n",
    "        else:\n",
    "            tmp_coords, tmp_lengths = get_thickness_of_plate([[lx, ly], [rx, ry]], img_rotated_arr, plate_colour)\n",
    "            tmp_lengths = [x for x in tmp_lengths if x is not None]\n",
    "            pixel = max(tmp_lengths)\n",
    "        \n",
    "        tmp_mm_per_pixel = mm / pixel\n",
    "        # print(f\"...{idx = } / {plate_colour = } / {tmp_mm_per_pixel = }\")\n",
    "        tmp_weighted_mm_per_pixel = tmp_mm_per_pixel * weight\n",
    "        # print(f\"...{idx = } / {plate_colour = } / {tmp_weighted_mm_per_pixel = }\")\n",
    "        weighted_mm_per_pixel += tmp_weighted_mm_per_pixel\n",
    "    \n",
    "    # print(f\"...... {weighted_mm_per_pixel = }\")\n",
    "    return weighted_mm_per_pixel\n",
    "\n",
    "\n",
    "def get_middle_coords(lx, ly, rx, ry):\n",
    "    middle_x = int((lx + rx) / 2)\n",
    "    middle_y = int((ly + ry) / 2)\n",
    "    return middle_x, middle_y\n",
    "\n",
    "def get_coords_from_centre_for_both_sides(diameter_mm, middle_x, weighted_mm_per_pixel):\n",
    "    \"\"\"\n",
    "    This function assumes the aim is to get coords that are distanced\n",
    "    from the center by a certain mm, and when trying to distance the coordinates,\n",
    "    y-axis value doesn't need to be considered, because they are all aligned in parallel\n",
    "    to x-axis\n",
    "    \"\"\"\n",
    "    half_mm = diameter_mm / 2\n",
    "    half_pixel = half_mm / weighted_mm_per_pixel\n",
    "\n",
    "    left_x_further = int(middle_x - half_pixel)\n",
    "    right_x_further = int(middle_x + half_pixel)\n",
    "    return left_x_further, right_x_further\n",
    "\n",
    "def get_colour_touching_coords_by_moving_on_x_axis(img_rotated_arr, x, y, colour, towards_left):\n",
    "    is_not_on_colour = any(img_rotated_arr[y, x, :] != colour)\n",
    "    \n",
    "    if towards_left:\n",
    "        while is_not_on_colour:\n",
    "            x -= 1\n",
    "            is_not_on_colour = all(img_rotated_arr[y, x, :] != colour)\n",
    "    else:\n",
    "        while is_not_on_colour:\n",
    "            x += 1\n",
    "            is_not_on_colour = all(img_rotated_arr[y, x, :] != colour)\n",
    "    # print(f\"...modified {x = } / {y = }\")   \n",
    "    return x, y    \n",
    "\n",
    "def get_colour_touching_coords_by_moving_on_y_axis(img_rotated_arr, x, y, colour):\n",
    "    if x < 0:\n",
    "        # print(f\"... x value goes beyond the fig / {x = }\")\n",
    "        x = 0\n",
    "        x, y = get_colour_touching_coords_by_moving_on_x_axis(img_rotated_arr, x, y, colour, False)\n",
    "    elif x >= img_rotated_arr.shape[1]:\n",
    "        # print(f\"... x value goes beyond the fig / {x = }\")\n",
    "        x = img_rotated_arr.shape[1] - 1\n",
    "        x, y = get_colour_touching_coords_by_moving_on_x_axis(img_rotated_arr, x, y, colour, True)\n",
    "\n",
    "    is_hovering = any(img_rotated_arr[y, x, :] != colour)\n",
    "    \n",
    "    if is_hovering:\n",
    "        while is_hovering:\n",
    "            y += 1\n",
    "            is_hovering = all(img_rotated_arr[y, x, :] != colour)\n",
    "    else:\n",
    "        is_on_colour = not is_hovering\n",
    "        while is_on_colour:\n",
    "            y -= 1\n",
    "            is_on_colour = all(img_rotated_arr[y, x, :] == colour)\n",
    "    return x, y\n",
    "\n",
    "def create_base_image(path, is_from_gen):\n",
    "\n",
    "    # 이미지 어레이 가져오기\n",
    "    img_arr = None\n",
    "    if isinstance(path, str) or isinstance(path, Path):\n",
    "        img_arr = get_image_array(path)\n",
    "    elif isinstance(path, np.ndarray):\n",
    "        img_arr = path\n",
    "    elif isinstance(path, torch.Tensor):\n",
    "        img_arr = path.numpy().transpose(1, 2, 0)\n",
    "    \n",
    "    # 생성된 이미지일 경우 양자화\n",
    "    if is_from_gen:\n",
    "        img_arr = colour_quantisation(img_arr)\n",
    "\n",
    "    # 이미지를 rivet 직경에 수평하게 rotate\n",
    "    img_rotated_arr, (left_x_rivet, left_y_rivet, right_x_rivet, right_y_rivet) = get_rotated_image_rivet_coords(img_arr)\n",
    "    return img_rotated_arr, (left_x_rivet, left_y_rivet, right_x_rivet, right_y_rivet)\n",
    "\n",
    "def select_plates_for_mm_calculation(upper_type, \n",
    "                                     upper_thickness,\n",
    "                                     middle_type, \n",
    "                                     middle_thickness,\n",
    "                                     lower_type,\n",
    "                                     lower_thickness):\n",
    "    plates = [RIVET]\n",
    "    mms = [RIVET_DIAMETER]\n",
    "    \n",
    "    if upper_type.lower().startswith(\"s\"):\n",
    "        plates.append(UPPER)\n",
    "        mms.append(upper_thickness)\n",
    "    \n",
    "    if middle_type is not None and middle_type.lower().startswith(\"s\"):\n",
    "        plates.append(MIDDLE)\n",
    "        mms.append(middle_thickness)\n",
    "    \n",
    "    if lower_type.lower().startswith(\"s\"):\n",
    "        plates.append(LOWER)\n",
    "        mms.append(lower_thickness)\n",
    "    \n",
    "    plate_names = [list(COLOUR_NAMES.keys())[list(COLOUR_NAMES.values()).index(p)] for p in plates]\n",
    "    # print(f\"...selected: {plate_names = } / {mms = }\")\n",
    "    return plates, mms\n",
    "\n",
    "\n",
    "def get_head_height(img_rotated_arr, \n",
    "                    lx_rivet, \n",
    "                    ly_rivet, \n",
    "                    rx_rivet, \n",
    "                    ry_rivet, \n",
    "                    diameter_mm, \n",
    "                    weighted_mm_per_pixel,\n",
    "                    to_save_fig=False):    \n",
    "    \n",
    "    # 리벳 중간점 구하기\n",
    "    middle_x, middle_y = get_middle_coords(lx_rivet, ly_rivet, rx_rivet, ry_rivet)\n",
    "    # visualise(img_rotated_arr, [middle_x], [middle_y], fig_save_folder, True)\n",
    "    \n",
    "    # 리벳에서 양쪽으로 떨어진 두 점 구하기\n",
    "    lx_further, rx_further = get_coords_from_centre_for_both_sides(diameter_mm, middle_x, weighted_mm_per_pixel)\n",
    "    # visualise(img_rotated_arr, [lx_further, rx_further], [middle_y, middle_y], fig_save_folder, True)\n",
    "\n",
    "    # 리벳 양쪽 두 점이 upper와 만나는 점 구하기\n",
    "    lx_further, ly_touching = get_colour_touching_coords_by_moving_on_y_axis(img_rotated_arr, lx_further, middle_y, UPPER)\n",
    "    rx_further, ry_touching = get_colour_touching_coords_by_moving_on_y_axis(img_rotated_arr, rx_further, middle_y, UPPER)\n",
    "    \n",
    "    # visualise(img_rotated_arr, [lx_further, rx_further], [ly_touching, ry_touching], fig_save_folder, True)\n",
    "    \n",
    "    # upper 위 두 점의 중간점 구하기\n",
    "    upper_middle_x_on_line, upper_middle_y_on_line = get_middle_coords(lx_further, ly_touching, rx_further, ry_touching)\n",
    "    # visualise(img_rotated_arr, [upper_middle_x_on_line], [upper_middle_y_on_line], fig_save_folder, False)\n",
    "\n",
    "    # upper 기준선 위 중간점이 리벳에 닿는 점 구하기\n",
    "    rivet_x_touching, rivet_y_touching = get_colour_touching_coords_by_moving_on_y_axis(img_rotated_arr, upper_middle_x_on_line, upper_middle_y_on_line, RIVET)\n",
    "    # visualise(img_rotated_arr, [upper_middle_x_on_line, rivet_x_touching], [upper_middle_y_on_line, rivet_y_touching], fig_save_folder, False, True)\n",
    "    \n",
    "    # 계산\n",
    "    pixel_length = (upper_middle_y_on_line - rivet_y_touching)\n",
    "    # print(f\"...{pixel_length = }\")\n",
    "    head_height = pixel_length * weighted_mm_per_pixel\n",
    "    # print(head_height)\n",
    "    return head_height\n",
    "\n",
    "\n",
    "def get_perp_coords(left_x, left_y, right_x, right_y, length, divider):\n",
    "    x_length = right_x - left_x\n",
    "    y_length = right_y - left_y\n",
    "\n",
    "    mag = math.sqrt(x_length**2 + y_length**2)    \n",
    "    x_length_norm = x_length / mag\n",
    "    y_length_norm = y_length / mag\n",
    "    \n",
    "    # middle point\n",
    "    middle_x = round((left_x + right_x) / 2)\n",
    "    middle_y = round((left_y + right_y) / 2)\n",
    "    \n",
    "    # switch\n",
    "    temp = x_length_norm\n",
    "    x_length_norm = -1 * y_length_norm\n",
    "    y_length_norm = temp\n",
    "    \n",
    "    # get coords\n",
    "    ratio = 1 / divider\n",
    "    new_x_1 = middle_x + x_length_norm * length * ratio\n",
    "    new_y_1 = middle_y + y_length_norm * length * ratio\n",
    "    new_x_2 = middle_x - x_length_norm * length * (1 - ratio)\n",
    "    new_y_2 = middle_y - y_length_norm * length * (1 - ratio)\n",
    "    \n",
    "    # if coords goes beyond the original coordinate system\n",
    "    if new_x_1 < 0 or new_y_1 < 0 or new_x_2 < 0 or new_y_2 < 0:\n",
    "        ratio = 1 - ratio\n",
    "        new_x_1 = middle_x + x_length_norm * length * ratio\n",
    "        new_y_1 = middle_y + y_length_norm * length * ratio\n",
    "        new_x_2 = middle_x - x_length_norm * length * (1 - ratio)\n",
    "        new_y_2 = middle_y - y_length_norm * length * (1 - ratio)\n",
    "        \n",
    "    return int(new_x_1), int(new_y_1), int(new_x_2), int(new_y_2)\n",
    "\n",
    "def count_image_files(folder_name):\n",
    "    folder = Path(folder_name)\n",
    "    image_files = list(folder.glob(\"*.png\"))\n",
    "    image_count = len(image_files)\n",
    "    # print(f\"... current {image_count =}\")\n",
    "    return image_count\n",
    "\n",
    "def get_zfill_index(image_count):\n",
    "    return f\"{image_count + 1}\".zfill(3)\n",
    "\n",
    "def visualise(img_rotated_arr: np.array, \n",
    "              xs: list | tuple, \n",
    "              ys: list | tuple,\n",
    "              fig_save_folder: str,\n",
    "              is_new_figure: bool=True,\n",
    "              is_no_dot=False) -> None:\n",
    "    # 시각화\n",
    "    if is_new_figure:\n",
    "        plt.figure()\n",
    "    plt.imshow(img_rotated_arr)    \n",
    "    plt.plot(xs, ys, \"w\" if is_no_dot else \"wo\", linestyle=\"--\")\n",
    "    \n",
    "    # get index\n",
    "    idx = get_zfill_index(count_image_files(fig_save_folder))\n",
    "    plt.savefig(f\"{fig_save_folder}/{idx}.png\")\n",
    "    \n",
    "    # print(f\"...fig saved with {idx} number\")\n",
    "\n",
    "def head_height_wrapper(path,\n",
    "                        upper_type,\n",
    "                        upper_thickness,\n",
    "                        middle_type,\n",
    "                        middle_thickness,\n",
    "                        lower_type,\n",
    "                        lower_thickness,\n",
    "                        weights,\n",
    "                        head_diameter):\n",
    "        \n",
    "    # timestamp = datetime.datetime.now().strftime('%Y%m%d_%H%M%S')\n",
    "    # fig_save_folder = Path(f\"figs/{timestamp}\")\n",
    "    # if not fig_save_folder.exists():\n",
    "    #     fig_save_folder.mkdir(parents=True)\n",
    "    \n",
    "    img_rotated_arr, (left_x_rivet, left_y_rivet, right_x_rivet, right_y_rivet) = create_base_image(path, False)\n",
    "    plates, mms = select_plates_for_mm_calculation(\n",
    "        upper_type,\n",
    "        upper_thickness,\n",
    "        middle_type,\n",
    "        middle_thickness,\n",
    "        lower_type,\n",
    "        lower_thickness\n",
    "    )\n",
    "    weighted_mm_per_pixel = calculate_weighted_mm_per_pixel(\n",
    "        img_rotated_arr,\n",
    "        plates,\n",
    "        mms,\n",
    "        weights,\n",
    "    )\n",
    "    \n",
    "    head_height = get_head_height(\n",
    "        img_rotated_arr, \n",
    "        left_x_rivet, \n",
    "        left_y_rivet, \n",
    "        right_x_rivet, \n",
    "        right_y_rivet,\n",
    "        head_diameter,\n",
    "        weighted_mm_per_pixel,\n",
    "        True\n",
    "    )\n",
    "    return head_height\n",
    "    \n",
    "    "
   ]
  },
  {
   "cell_type": "markdown",
   "metadata": {},
   "source": [
    "#### Define parsing function"
   ]
  },
  {
   "cell_type": "code",
   "execution_count": 96,
   "metadata": {},
   "outputs": [],
   "source": [
    "HEAD_DIAMETER = 13.5\n",
    "\n",
    "def parse_file_name(path):\n",
    "    def parse_type_and_thickness(string):\n",
    "        by_idx = string.find(\"(\")\n",
    "        type_ = string[:by_idx]\n",
    "        thickness = float(string[by_idx+1:-2])\n",
    "        return type_, thickness\n",
    "\n",
    "    # get the file name and split\n",
    "    file_name = path.parts[-1]\n",
    "    production_number = path.parts[-3]\n",
    "    splits = file_name.split(\"_\")\n",
    "\n",
    "    # get 'plate_count'\n",
    "    idx_plate = 0\n",
    "    plate_count = int(splits[idx_plate][-1])\n",
    "\n",
    "    # set other indices\n",
    "    idx_rivet = idx_plate + 1\n",
    "\n",
    "    if \"(\" in splits[idx_rivet]:\n",
    "        tmp = splits[idx_rivet].replace(\")\", \"\").split(\"(\")\n",
    "        splits.insert(1, tmp[0])\n",
    "        splits.insert(2, tmp[1])\n",
    "        splits.pop(3)\n",
    "\n",
    "    idx_die = idx_rivet + 1\n",
    "    idx_upper = idx_die + 1\n",
    "    idx_middle = idx_upper + 1 if plate_count == 3 else None\n",
    "    idx_lower = idx_upper + 1 if idx_middle is None else idx_middle + 1\n",
    "\n",
    "        \n",
    "    rivet = splits[idx_rivet]\n",
    "    die = splits[idx_die]\n",
    "    upper_type, upper_thickness = parse_type_and_thickness(splits[idx_upper])\n",
    "\n",
    "    middle_type, middle_thickness = parse_type_and_thickness(splits[idx_middle]) if idx_middle is not None else (None, None)\n",
    "    lower_type, lower_thickness = parse_type_and_thickness(splits[idx_lower])\n",
    "    \n",
    "    head_height = head_height_wrapper(\n",
    "        path,\n",
    "        upper_type,\n",
    "        upper_thickness,\n",
    "        middle_type,\n",
    "        middle_thickness,\n",
    "        lower_type,\n",
    "        lower_thickness,\n",
    "        None,\n",
    "        HEAD_DIAMETER,\n",
    "    )\n",
    "    \n",
    "    \n",
    "    # caption = splits[:-1] + [str(head_height)[:8]]\n",
    "    # caption = \"_\".join(caption)\n",
    "\n",
    "    # print(f\"{rivet = } / {die = } / {upper_type = } / {upper_thickness = } / {middle_type = } / {middle_thickness = }\")\n",
    "    # print(f\"{lower_type = } / {lower_thickness = } / {head_height = }\")\n",
    "    # print(f\"{caption = }\")\n",
    "    return [file_name, production_number, plate_count, rivet, die, upper_type, upper_thickness, middle_type, middle_thickness, lower_type, lower_thickness, head_height]"
   ]
  },
  {
   "cell_type": "markdown",
   "metadata": {},
   "source": [
    "#### Make a DataFrame"
   ]
  },
  {
   "cell_type": "code",
   "execution_count": 133,
   "metadata": {},
   "outputs": [
    {
     "data": {
      "text/html": [
       "<div>\n",
       "<style scoped>\n",
       "    .dataframe tbody tr th:only-of-type {\n",
       "        vertical-align: middle;\n",
       "    }\n",
       "\n",
       "    .dataframe tbody tr th {\n",
       "        vertical-align: top;\n",
       "    }\n",
       "\n",
       "    .dataframe thead th {\n",
       "        text-align: right;\n",
       "    }\n",
       "</style>\n",
       "<table border=\"1\" class=\"dataframe\">\n",
       "  <thead>\n",
       "    <tr style=\"text-align: right;\">\n",
       "      <th></th>\n",
       "      <th>file_name</th>\n",
       "      <th>production_number</th>\n",
       "      <th>plate_count</th>\n",
       "      <th>rivet</th>\n",
       "      <th>die</th>\n",
       "      <th>upper_type</th>\n",
       "      <th>upper_thickness</th>\n",
       "      <th>middle_type</th>\n",
       "      <th>middle_thickness</th>\n",
       "      <th>lower_type</th>\n",
       "      <th>lower_thickness</th>\n",
       "      <th>head_height</th>\n",
       "      <th>caption</th>\n",
       "    </tr>\n",
       "  </thead>\n",
       "  <tbody>\n",
       "  </tbody>\n",
       "</table>\n",
       "</div>"
      ],
      "text/plain": [
       "Empty DataFrame\n",
       "Columns: [file_name, production_number, plate_count, rivet, die, upper_type, upper_thickness, middle_type, middle_thickness, lower_type, lower_thickness, head_height, caption]\n",
       "Index: []"
      ]
     },
     "execution_count": 133,
     "metadata": {},
     "output_type": "execute_result"
    }
   ],
   "source": [
    "columns = [\"file_name\", \"production_number\", \"plate_count\", \"rivet\", \"die\", \"upper_type\", \"upper_thickness\", \"middle_type\", \"middle_thickness\", \"lower_type\", \"lower_thickness\", \"head_height\", \"caption\"]\n",
    "df = pd.DataFrame(columns=columns)\n",
    "\n",
    "df.head()"
   ]
  },
  {
   "cell_type": "markdown",
   "metadata": {},
   "source": [
    "#### Prepare prompts"
   ]
  },
  {
   "cell_type": "code",
   "execution_count": 134,
   "metadata": {},
   "outputs": [],
   "source": [
    "plate_count = 2\n",
    "rivet_type = \"rivet_type\"\n",
    "die_type = \"die_type\"\n",
    "upper_type = \"upper_type\"\n",
    "upper_thickness = 2.22\n",
    "middle_type = None\n",
    "middle_thickness = None\n",
    "lower_type = \"lower_type\"\n",
    "lower_thickness = 3.33\n",
    "head_height = -0.343432\n",
    "\n",
    "def make_prompt(plate_count,\n",
    "                rivet_type,\n",
    "                die_type,\n",
    "                upper_type,\n",
    "                upper_thickness,\n",
    "                middle_type,\n",
    "                middle_thickness,\n",
    "                lower_type,\n",
    "                lower_thickness,\n",
    "                head_height,\n",
    "                part_name=None):\n",
    "    \n",
    "    prompt_base = \"a simple masking image of self-piercing rivet \\\n",
    "consisting of {} plates. The combination consists of rivet type {}, \\\n",
    "die type {}, upper plate type {} with {} mm thickness, \\\n",
    "middle plate type {} with {} mm thickness, lower plate type {} \\\n",
    "with {} mm thickness and its head height from upper plate \\\n",
    "to rivet's top is {} mm\"\n",
    "    \n",
    "    if part_name is not None:\n",
    "        prompt_base = prompt_base.replace(\"The combination\", \"Here only {} part is shown and others are treated as background. The original combination\")\n",
    "        prompt_formatted = prompt_base.format(\n",
    "            plate_count,\n",
    "            part_name,\n",
    "            rivet_type,\n",
    "            die_type,\n",
    "            upper_type,\n",
    "            upper_thickness,\n",
    "            middle_type,\n",
    "            middle_thickness,\n",
    "            lower_type,\n",
    "            lower_thickness,\n",
    "            head_height\n",
    "        )\n",
    "    else:\n",
    "        prompt_formatted = prompt_base.format(\n",
    "            plate_count,\n",
    "            rivet_type,\n",
    "            die_type,\n",
    "            upper_type,\n",
    "            upper_thickness,\n",
    "            middle_type,\n",
    "            middle_thickness,\n",
    "            lower_type,\n",
    "            lower_thickness,\n",
    "            head_height\n",
    "        )\n",
    "    prompt_formatted = prompt_formatted if middle_type is not None else prompt_formatted.replace(\"middle plate type None with None mm thickness, \", \"\")\n",
    "    return prompt_formatted"
   ]
  },
  {
   "cell_type": "markdown",
   "metadata": {},
   "source": [
    "#### Save images & populate the DataFrame"
   ]
  },
  {
   "cell_type": "code",
   "execution_count": null,
   "metadata": {},
   "outputs": [],
   "source": [
    "save_folder_path = \"/mnt/c/users/msi/Desktop/spr_datasets_resized_and_partitioned\""
   ]
  },
  {
   "cell_type": "code",
   "execution_count": null,
   "metadata": {},
   "outputs": [
    {
     "name": "stdout",
     "output_type": "stream",
     "text": [
      "......0001 files done\n",
      "......0002 files done\n",
      "......0003 files done\n",
      "......0004 files done\n",
      "......0005 files done\n",
      "......0006 files done\n",
      "......0007 files done\n",
      "......0008 files done\n",
      "......0009 files done\n",
      "......0010 files done\n",
      "......0011 files done\n",
      "......0012 files done\n",
      "......0013 files done\n",
      "......0014 files done\n",
      "......0015 files done\n",
      "......0016 files done\n",
      "......0017 files done\n",
      "......0018 files done\n",
      "......0019 files done\n",
      "......0020 files done\n",
      "......0021 files done\n",
      "......0022 files done\n",
      "......0023 files done\n",
      "......0024 files done\n",
      "......0025 files done\n",
      "......0026 files done\n",
      "......0027 files done\n",
      "......0028 files done\n"
     ]
    },
    {
     "name": "stderr",
     "output_type": "stream",
     "text": [
      "/tmp/ipykernel_53691/1253261533.py:28: FutureWarning: The behavior of DataFrame concatenation with empty or all-NA entries is deprecated. In a future version, this will no longer exclude empty or all-NA columns when determining the result dtypes. To retain the old behavior, exclude the relevant entries before the concat operation.\n",
      "  df.loc[len(df)] = tmp_row\n"
     ]
    },
    {
     "name": "stdout",
     "output_type": "stream",
     "text": [
      "......0029 files done\n",
      "......0030 files done\n",
      "......0031 files done\n",
      "......0032 files done\n",
      "......0033 files done\n",
      "......0034 files done\n",
      "......0035 files done\n",
      "......0036 files done\n",
      "......0037 files done\n",
      "......0038 files done\n",
      "......0039 files done\n",
      "......0040 files done\n",
      "......0041 files done\n",
      "......0042 files done\n",
      "......0043 files done\n",
      "......0044 files done\n",
      "......0045 files done\n",
      "......0046 files done\n",
      "......0047 files done\n",
      "......0048 files done\n",
      "......0049 files done\n",
      "......0050 files done\n",
      "......0051 files done\n",
      "......0052 files done\n",
      "......0053 files done\n",
      "......0054 files done\n",
      "......0055 files done\n",
      "......0056 files done\n",
      "......0057 files done\n",
      "......0058 files done\n",
      "......0059 files done\n",
      "......0060 files done\n",
      "......0061 files done\n",
      "......0062 files done\n",
      "......0063 files done\n",
      "......0064 files done\n",
      "......0065 files done\n",
      "......0066 files done\n",
      "......0067 files done\n",
      "......0068 files done\n",
      "......0069 files done\n",
      "......0070 files done\n",
      "......0071 files done\n",
      "......0072 files done\n",
      "......0073 files done\n",
      "......0074 files done\n",
      "......0075 files done\n",
      "......0076 files done\n",
      "......0077 files done\n",
      "......0078 files done\n",
      "......0079 files done\n",
      "......0080 files done\n",
      "......0081 files done\n",
      "......0082 files done\n",
      "......0083 files done\n",
      "......0084 files done\n",
      "......0085 files done\n",
      "......0086 files done\n",
      "......0087 files done\n",
      "......0088 files done\n",
      "......0089 files done\n",
      "......0090 files done\n",
      "......0091 files done\n",
      "......0092 files done\n",
      "......0093 files done\n",
      "......0094 files done\n"
     ]
    },
    {
     "name": "stderr",
     "output_type": "stream",
     "text": [
      "/tmp/ipykernel_53691/1253261533.py:28: FutureWarning: The behavior of DataFrame concatenation with empty or all-NA entries is deprecated. In a future version, this will no longer exclude empty or all-NA columns when determining the result dtypes. To retain the old behavior, exclude the relevant entries before the concat operation.\n",
      "  df.loc[len(df)] = tmp_row\n",
      "/tmp/ipykernel_53691/1253261533.py:77: FutureWarning: The behavior of DataFrame concatenation with empty or all-NA entries is deprecated. In a future version, this will no longer exclude empty or all-NA columns when determining the result dtypes. To retain the old behavior, exclude the relevant entries before the concat operation.\n",
      "  df.loc[len(df)] = tmp_row\n",
      "/tmp/ipykernel_53691/1253261533.py:77: FutureWarning: The behavior of DataFrame concatenation with empty or all-NA entries is deprecated. In a future version, this will no longer exclude empty or all-NA columns when determining the result dtypes. To retain the old behavior, exclude the relevant entries before the concat operation.\n",
      "  df.loc[len(df)] = tmp_row\n",
      "/tmp/ipykernel_53691/1253261533.py:77: FutureWarning: The behavior of DataFrame concatenation with empty or all-NA entries is deprecated. In a future version, this will no longer exclude empty or all-NA columns when determining the result dtypes. To retain the old behavior, exclude the relevant entries before the concat operation.\n",
      "  df.loc[len(df)] = tmp_row\n"
     ]
    },
    {
     "name": "stdout",
     "output_type": "stream",
     "text": [
      "......0095 files done\n"
     ]
    },
    {
     "name": "stderr",
     "output_type": "stream",
     "text": [
      "/tmp/ipykernel_53691/1253261533.py:28: FutureWarning: The behavior of DataFrame concatenation with empty or all-NA entries is deprecated. In a future version, this will no longer exclude empty or all-NA columns when determining the result dtypes. To retain the old behavior, exclude the relevant entries before the concat operation.\n",
      "  df.loc[len(df)] = tmp_row\n",
      "/tmp/ipykernel_53691/1253261533.py:77: FutureWarning: The behavior of DataFrame concatenation with empty or all-NA entries is deprecated. In a future version, this will no longer exclude empty or all-NA columns when determining the result dtypes. To retain the old behavior, exclude the relevant entries before the concat operation.\n",
      "  df.loc[len(df)] = tmp_row\n",
      "/tmp/ipykernel_53691/1253261533.py:77: FutureWarning: The behavior of DataFrame concatenation with empty or all-NA entries is deprecated. In a future version, this will no longer exclude empty or all-NA columns when determining the result dtypes. To retain the old behavior, exclude the relevant entries before the concat operation.\n",
      "  df.loc[len(df)] = tmp_row\n",
      "/tmp/ipykernel_53691/1253261533.py:77: FutureWarning: The behavior of DataFrame concatenation with empty or all-NA entries is deprecated. In a future version, this will no longer exclude empty or all-NA columns when determining the result dtypes. To retain the old behavior, exclude the relevant entries before the concat operation.\n",
      "  df.loc[len(df)] = tmp_row\n"
     ]
    },
    {
     "name": "stdout",
     "output_type": "stream",
     "text": [
      "......0096 files done\n"
     ]
    },
    {
     "name": "stderr",
     "output_type": "stream",
     "text": [
      "/tmp/ipykernel_53691/1253261533.py:28: FutureWarning: The behavior of DataFrame concatenation with empty or all-NA entries is deprecated. In a future version, this will no longer exclude empty or all-NA columns when determining the result dtypes. To retain the old behavior, exclude the relevant entries before the concat operation.\n",
      "  df.loc[len(df)] = tmp_row\n",
      "/tmp/ipykernel_53691/1253261533.py:77: FutureWarning: The behavior of DataFrame concatenation with empty or all-NA entries is deprecated. In a future version, this will no longer exclude empty or all-NA columns when determining the result dtypes. To retain the old behavior, exclude the relevant entries before the concat operation.\n",
      "  df.loc[len(df)] = tmp_row\n",
      "/tmp/ipykernel_53691/1253261533.py:77: FutureWarning: The behavior of DataFrame concatenation with empty or all-NA entries is deprecated. In a future version, this will no longer exclude empty or all-NA columns when determining the result dtypes. To retain the old behavior, exclude the relevant entries before the concat operation.\n",
      "  df.loc[len(df)] = tmp_row\n",
      "/tmp/ipykernel_53691/1253261533.py:77: FutureWarning: The behavior of DataFrame concatenation with empty or all-NA entries is deprecated. In a future version, this will no longer exclude empty or all-NA columns when determining the result dtypes. To retain the old behavior, exclude the relevant entries before the concat operation.\n",
      "  df.loc[len(df)] = tmp_row\n"
     ]
    },
    {
     "name": "stdout",
     "output_type": "stream",
     "text": [
      "......0097 files done\n"
     ]
    },
    {
     "name": "stderr",
     "output_type": "stream",
     "text": [
      "/tmp/ipykernel_53691/1253261533.py:28: FutureWarning: The behavior of DataFrame concatenation with empty or all-NA entries is deprecated. In a future version, this will no longer exclude empty or all-NA columns when determining the result dtypes. To retain the old behavior, exclude the relevant entries before the concat operation.\n",
      "  df.loc[len(df)] = tmp_row\n",
      "/tmp/ipykernel_53691/1253261533.py:77: FutureWarning: The behavior of DataFrame concatenation with empty or all-NA entries is deprecated. In a future version, this will no longer exclude empty or all-NA columns when determining the result dtypes. To retain the old behavior, exclude the relevant entries before the concat operation.\n",
      "  df.loc[len(df)] = tmp_row\n",
      "/tmp/ipykernel_53691/1253261533.py:77: FutureWarning: The behavior of DataFrame concatenation with empty or all-NA entries is deprecated. In a future version, this will no longer exclude empty or all-NA columns when determining the result dtypes. To retain the old behavior, exclude the relevant entries before the concat operation.\n",
      "  df.loc[len(df)] = tmp_row\n",
      "/tmp/ipykernel_53691/1253261533.py:77: FutureWarning: The behavior of DataFrame concatenation with empty or all-NA entries is deprecated. In a future version, this will no longer exclude empty or all-NA columns when determining the result dtypes. To retain the old behavior, exclude the relevant entries before the concat operation.\n",
      "  df.loc[len(df)] = tmp_row\n"
     ]
    },
    {
     "name": "stdout",
     "output_type": "stream",
     "text": [
      "......0098 files done\n"
     ]
    },
    {
     "name": "stderr",
     "output_type": "stream",
     "text": [
      "/tmp/ipykernel_53691/1253261533.py:28: FutureWarning: The behavior of DataFrame concatenation with empty or all-NA entries is deprecated. In a future version, this will no longer exclude empty or all-NA columns when determining the result dtypes. To retain the old behavior, exclude the relevant entries before the concat operation.\n",
      "  df.loc[len(df)] = tmp_row\n",
      "/tmp/ipykernel_53691/1253261533.py:77: FutureWarning: The behavior of DataFrame concatenation with empty or all-NA entries is deprecated. In a future version, this will no longer exclude empty or all-NA columns when determining the result dtypes. To retain the old behavior, exclude the relevant entries before the concat operation.\n",
      "  df.loc[len(df)] = tmp_row\n",
      "/tmp/ipykernel_53691/1253261533.py:77: FutureWarning: The behavior of DataFrame concatenation with empty or all-NA entries is deprecated. In a future version, this will no longer exclude empty or all-NA columns when determining the result dtypes. To retain the old behavior, exclude the relevant entries before the concat operation.\n",
      "  df.loc[len(df)] = tmp_row\n",
      "/tmp/ipykernel_53691/1253261533.py:77: FutureWarning: The behavior of DataFrame concatenation with empty or all-NA entries is deprecated. In a future version, this will no longer exclude empty or all-NA columns when determining the result dtypes. To retain the old behavior, exclude the relevant entries before the concat operation.\n",
      "  df.loc[len(df)] = tmp_row\n"
     ]
    },
    {
     "name": "stdout",
     "output_type": "stream",
     "text": [
      "......0099 files done\n"
     ]
    },
    {
     "name": "stderr",
     "output_type": "stream",
     "text": [
      "/tmp/ipykernel_53691/1253261533.py:28: FutureWarning: The behavior of DataFrame concatenation with empty or all-NA entries is deprecated. In a future version, this will no longer exclude empty or all-NA columns when determining the result dtypes. To retain the old behavior, exclude the relevant entries before the concat operation.\n",
      "  df.loc[len(df)] = tmp_row\n",
      "/tmp/ipykernel_53691/1253261533.py:77: FutureWarning: The behavior of DataFrame concatenation with empty or all-NA entries is deprecated. In a future version, this will no longer exclude empty or all-NA columns when determining the result dtypes. To retain the old behavior, exclude the relevant entries before the concat operation.\n",
      "  df.loc[len(df)] = tmp_row\n",
      "/tmp/ipykernel_53691/1253261533.py:77: FutureWarning: The behavior of DataFrame concatenation with empty or all-NA entries is deprecated. In a future version, this will no longer exclude empty or all-NA columns when determining the result dtypes. To retain the old behavior, exclude the relevant entries before the concat operation.\n",
      "  df.loc[len(df)] = tmp_row\n",
      "/tmp/ipykernel_53691/1253261533.py:77: FutureWarning: The behavior of DataFrame concatenation with empty or all-NA entries is deprecated. In a future version, this will no longer exclude empty or all-NA columns when determining the result dtypes. To retain the old behavior, exclude the relevant entries before the concat operation.\n",
      "  df.loc[len(df)] = tmp_row\n"
     ]
    },
    {
     "name": "stdout",
     "output_type": "stream",
     "text": [
      "......0100 files done\n"
     ]
    },
    {
     "name": "stderr",
     "output_type": "stream",
     "text": [
      "/tmp/ipykernel_53691/1253261533.py:28: FutureWarning: The behavior of DataFrame concatenation with empty or all-NA entries is deprecated. In a future version, this will no longer exclude empty or all-NA columns when determining the result dtypes. To retain the old behavior, exclude the relevant entries before the concat operation.\n",
      "  df.loc[len(df)] = tmp_row\n",
      "/tmp/ipykernel_53691/1253261533.py:77: FutureWarning: The behavior of DataFrame concatenation with empty or all-NA entries is deprecated. In a future version, this will no longer exclude empty or all-NA columns when determining the result dtypes. To retain the old behavior, exclude the relevant entries before the concat operation.\n",
      "  df.loc[len(df)] = tmp_row\n",
      "/tmp/ipykernel_53691/1253261533.py:77: FutureWarning: The behavior of DataFrame concatenation with empty or all-NA entries is deprecated. In a future version, this will no longer exclude empty or all-NA columns when determining the result dtypes. To retain the old behavior, exclude the relevant entries before the concat operation.\n",
      "  df.loc[len(df)] = tmp_row\n",
      "/tmp/ipykernel_53691/1253261533.py:77: FutureWarning: The behavior of DataFrame concatenation with empty or all-NA entries is deprecated. In a future version, this will no longer exclude empty or all-NA columns when determining the result dtypes. To retain the old behavior, exclude the relevant entries before the concat operation.\n",
      "  df.loc[len(df)] = tmp_row\n"
     ]
    },
    {
     "name": "stdout",
     "output_type": "stream",
     "text": [
      "......0101 files done\n"
     ]
    },
    {
     "name": "stderr",
     "output_type": "stream",
     "text": [
      "/tmp/ipykernel_53691/1253261533.py:28: FutureWarning: The behavior of DataFrame concatenation with empty or all-NA entries is deprecated. In a future version, this will no longer exclude empty or all-NA columns when determining the result dtypes. To retain the old behavior, exclude the relevant entries before the concat operation.\n",
      "  df.loc[len(df)] = tmp_row\n",
      "/tmp/ipykernel_53691/1253261533.py:77: FutureWarning: The behavior of DataFrame concatenation with empty or all-NA entries is deprecated. In a future version, this will no longer exclude empty or all-NA columns when determining the result dtypes. To retain the old behavior, exclude the relevant entries before the concat operation.\n",
      "  df.loc[len(df)] = tmp_row\n",
      "/tmp/ipykernel_53691/1253261533.py:77: FutureWarning: The behavior of DataFrame concatenation with empty or all-NA entries is deprecated. In a future version, this will no longer exclude empty or all-NA columns when determining the result dtypes. To retain the old behavior, exclude the relevant entries before the concat operation.\n",
      "  df.loc[len(df)] = tmp_row\n",
      "/tmp/ipykernel_53691/1253261533.py:77: FutureWarning: The behavior of DataFrame concatenation with empty or all-NA entries is deprecated. In a future version, this will no longer exclude empty or all-NA columns when determining the result dtypes. To retain the old behavior, exclude the relevant entries before the concat operation.\n",
      "  df.loc[len(df)] = tmp_row\n"
     ]
    },
    {
     "name": "stdout",
     "output_type": "stream",
     "text": [
      "......0102 files done\n"
     ]
    },
    {
     "name": "stderr",
     "output_type": "stream",
     "text": [
      "/tmp/ipykernel_53691/1253261533.py:28: FutureWarning: The behavior of DataFrame concatenation with empty or all-NA entries is deprecated. In a future version, this will no longer exclude empty or all-NA columns when determining the result dtypes. To retain the old behavior, exclude the relevant entries before the concat operation.\n",
      "  df.loc[len(df)] = tmp_row\n",
      "/tmp/ipykernel_53691/1253261533.py:77: FutureWarning: The behavior of DataFrame concatenation with empty or all-NA entries is deprecated. In a future version, this will no longer exclude empty or all-NA columns when determining the result dtypes. To retain the old behavior, exclude the relevant entries before the concat operation.\n",
      "  df.loc[len(df)] = tmp_row\n",
      "/tmp/ipykernel_53691/1253261533.py:77: FutureWarning: The behavior of DataFrame concatenation with empty or all-NA entries is deprecated. In a future version, this will no longer exclude empty or all-NA columns when determining the result dtypes. To retain the old behavior, exclude the relevant entries before the concat operation.\n",
      "  df.loc[len(df)] = tmp_row\n",
      "/tmp/ipykernel_53691/1253261533.py:77: FutureWarning: The behavior of DataFrame concatenation with empty or all-NA entries is deprecated. In a future version, this will no longer exclude empty or all-NA columns when determining the result dtypes. To retain the old behavior, exclude the relevant entries before the concat operation.\n",
      "  df.loc[len(df)] = tmp_row\n"
     ]
    },
    {
     "name": "stdout",
     "output_type": "stream",
     "text": [
      "......0103 files done\n"
     ]
    },
    {
     "name": "stderr",
     "output_type": "stream",
     "text": [
      "/tmp/ipykernel_53691/1253261533.py:28: FutureWarning: The behavior of DataFrame concatenation with empty or all-NA entries is deprecated. In a future version, this will no longer exclude empty or all-NA columns when determining the result dtypes. To retain the old behavior, exclude the relevant entries before the concat operation.\n",
      "  df.loc[len(df)] = tmp_row\n",
      "/tmp/ipykernel_53691/1253261533.py:77: FutureWarning: The behavior of DataFrame concatenation with empty or all-NA entries is deprecated. In a future version, this will no longer exclude empty or all-NA columns when determining the result dtypes. To retain the old behavior, exclude the relevant entries before the concat operation.\n",
      "  df.loc[len(df)] = tmp_row\n",
      "/tmp/ipykernel_53691/1253261533.py:77: FutureWarning: The behavior of DataFrame concatenation with empty or all-NA entries is deprecated. In a future version, this will no longer exclude empty or all-NA columns when determining the result dtypes. To retain the old behavior, exclude the relevant entries before the concat operation.\n",
      "  df.loc[len(df)] = tmp_row\n",
      "/tmp/ipykernel_53691/1253261533.py:77: FutureWarning: The behavior of DataFrame concatenation with empty or all-NA entries is deprecated. In a future version, this will no longer exclude empty or all-NA columns when determining the result dtypes. To retain the old behavior, exclude the relevant entries before the concat operation.\n",
      "  df.loc[len(df)] = tmp_row\n"
     ]
    },
    {
     "name": "stdout",
     "output_type": "stream",
     "text": [
      "......0104 files done\n"
     ]
    },
    {
     "name": "stderr",
     "output_type": "stream",
     "text": [
      "/tmp/ipykernel_53691/1253261533.py:28: FutureWarning: The behavior of DataFrame concatenation with empty or all-NA entries is deprecated. In a future version, this will no longer exclude empty or all-NA columns when determining the result dtypes. To retain the old behavior, exclude the relevant entries before the concat operation.\n",
      "  df.loc[len(df)] = tmp_row\n",
      "/tmp/ipykernel_53691/1253261533.py:77: FutureWarning: The behavior of DataFrame concatenation with empty or all-NA entries is deprecated. In a future version, this will no longer exclude empty or all-NA columns when determining the result dtypes. To retain the old behavior, exclude the relevant entries before the concat operation.\n",
      "  df.loc[len(df)] = tmp_row\n",
      "/tmp/ipykernel_53691/1253261533.py:77: FutureWarning: The behavior of DataFrame concatenation with empty or all-NA entries is deprecated. In a future version, this will no longer exclude empty or all-NA columns when determining the result dtypes. To retain the old behavior, exclude the relevant entries before the concat operation.\n",
      "  df.loc[len(df)] = tmp_row\n",
      "/tmp/ipykernel_53691/1253261533.py:77: FutureWarning: The behavior of DataFrame concatenation with empty or all-NA entries is deprecated. In a future version, this will no longer exclude empty or all-NA columns when determining the result dtypes. To retain the old behavior, exclude the relevant entries before the concat operation.\n",
      "  df.loc[len(df)] = tmp_row\n"
     ]
    },
    {
     "name": "stdout",
     "output_type": "stream",
     "text": [
      "......0105 files done\n"
     ]
    },
    {
     "name": "stderr",
     "output_type": "stream",
     "text": [
      "/tmp/ipykernel_53691/1253261533.py:28: FutureWarning: The behavior of DataFrame concatenation with empty or all-NA entries is deprecated. In a future version, this will no longer exclude empty or all-NA columns when determining the result dtypes. To retain the old behavior, exclude the relevant entries before the concat operation.\n",
      "  df.loc[len(df)] = tmp_row\n",
      "/tmp/ipykernel_53691/1253261533.py:77: FutureWarning: The behavior of DataFrame concatenation with empty or all-NA entries is deprecated. In a future version, this will no longer exclude empty or all-NA columns when determining the result dtypes. To retain the old behavior, exclude the relevant entries before the concat operation.\n",
      "  df.loc[len(df)] = tmp_row\n",
      "/tmp/ipykernel_53691/1253261533.py:77: FutureWarning: The behavior of DataFrame concatenation with empty or all-NA entries is deprecated. In a future version, this will no longer exclude empty or all-NA columns when determining the result dtypes. To retain the old behavior, exclude the relevant entries before the concat operation.\n",
      "  df.loc[len(df)] = tmp_row\n",
      "/tmp/ipykernel_53691/1253261533.py:77: FutureWarning: The behavior of DataFrame concatenation with empty or all-NA entries is deprecated. In a future version, this will no longer exclude empty or all-NA columns when determining the result dtypes. To retain the old behavior, exclude the relevant entries before the concat operation.\n",
      "  df.loc[len(df)] = tmp_row\n"
     ]
    },
    {
     "name": "stdout",
     "output_type": "stream",
     "text": [
      "......0106 files done\n"
     ]
    },
    {
     "name": "stderr",
     "output_type": "stream",
     "text": [
      "/tmp/ipykernel_53691/1253261533.py:28: FutureWarning: The behavior of DataFrame concatenation with empty or all-NA entries is deprecated. In a future version, this will no longer exclude empty or all-NA columns when determining the result dtypes. To retain the old behavior, exclude the relevant entries before the concat operation.\n",
      "  df.loc[len(df)] = tmp_row\n",
      "/tmp/ipykernel_53691/1253261533.py:77: FutureWarning: The behavior of DataFrame concatenation with empty or all-NA entries is deprecated. In a future version, this will no longer exclude empty or all-NA columns when determining the result dtypes. To retain the old behavior, exclude the relevant entries before the concat operation.\n",
      "  df.loc[len(df)] = tmp_row\n",
      "/tmp/ipykernel_53691/1253261533.py:77: FutureWarning: The behavior of DataFrame concatenation with empty or all-NA entries is deprecated. In a future version, this will no longer exclude empty or all-NA columns when determining the result dtypes. To retain the old behavior, exclude the relevant entries before the concat operation.\n",
      "  df.loc[len(df)] = tmp_row\n",
      "/tmp/ipykernel_53691/1253261533.py:77: FutureWarning: The behavior of DataFrame concatenation with empty or all-NA entries is deprecated. In a future version, this will no longer exclude empty or all-NA columns when determining the result dtypes. To retain the old behavior, exclude the relevant entries before the concat operation.\n",
      "  df.loc[len(df)] = tmp_row\n"
     ]
    },
    {
     "name": "stdout",
     "output_type": "stream",
     "text": [
      "......0107 files done\n"
     ]
    },
    {
     "name": "stderr",
     "output_type": "stream",
     "text": [
      "/tmp/ipykernel_53691/1253261533.py:28: FutureWarning: The behavior of DataFrame concatenation with empty or all-NA entries is deprecated. In a future version, this will no longer exclude empty or all-NA columns when determining the result dtypes. To retain the old behavior, exclude the relevant entries before the concat operation.\n",
      "  df.loc[len(df)] = tmp_row\n",
      "/tmp/ipykernel_53691/1253261533.py:77: FutureWarning: The behavior of DataFrame concatenation with empty or all-NA entries is deprecated. In a future version, this will no longer exclude empty or all-NA columns when determining the result dtypes. To retain the old behavior, exclude the relevant entries before the concat operation.\n",
      "  df.loc[len(df)] = tmp_row\n",
      "/tmp/ipykernel_53691/1253261533.py:77: FutureWarning: The behavior of DataFrame concatenation with empty or all-NA entries is deprecated. In a future version, this will no longer exclude empty or all-NA columns when determining the result dtypes. To retain the old behavior, exclude the relevant entries before the concat operation.\n",
      "  df.loc[len(df)] = tmp_row\n",
      "/tmp/ipykernel_53691/1253261533.py:77: FutureWarning: The behavior of DataFrame concatenation with empty or all-NA entries is deprecated. In a future version, this will no longer exclude empty or all-NA columns when determining the result dtypes. To retain the old behavior, exclude the relevant entries before the concat operation.\n",
      "  df.loc[len(df)] = tmp_row\n"
     ]
    },
    {
     "name": "stdout",
     "output_type": "stream",
     "text": [
      "......0108 files done\n"
     ]
    },
    {
     "name": "stderr",
     "output_type": "stream",
     "text": [
      "/tmp/ipykernel_53691/1253261533.py:28: FutureWarning: The behavior of DataFrame concatenation with empty or all-NA entries is deprecated. In a future version, this will no longer exclude empty or all-NA columns when determining the result dtypes. To retain the old behavior, exclude the relevant entries before the concat operation.\n",
      "  df.loc[len(df)] = tmp_row\n",
      "/tmp/ipykernel_53691/1253261533.py:77: FutureWarning: The behavior of DataFrame concatenation with empty or all-NA entries is deprecated. In a future version, this will no longer exclude empty or all-NA columns when determining the result dtypes. To retain the old behavior, exclude the relevant entries before the concat operation.\n",
      "  df.loc[len(df)] = tmp_row\n",
      "/tmp/ipykernel_53691/1253261533.py:77: FutureWarning: The behavior of DataFrame concatenation with empty or all-NA entries is deprecated. In a future version, this will no longer exclude empty or all-NA columns when determining the result dtypes. To retain the old behavior, exclude the relevant entries before the concat operation.\n",
      "  df.loc[len(df)] = tmp_row\n",
      "/tmp/ipykernel_53691/1253261533.py:77: FutureWarning: The behavior of DataFrame concatenation with empty or all-NA entries is deprecated. In a future version, this will no longer exclude empty or all-NA columns when determining the result dtypes. To retain the old behavior, exclude the relevant entries before the concat operation.\n",
      "  df.loc[len(df)] = tmp_row\n"
     ]
    },
    {
     "name": "stdout",
     "output_type": "stream",
     "text": [
      "......0109 files done\n"
     ]
    },
    {
     "name": "stderr",
     "output_type": "stream",
     "text": [
      "/tmp/ipykernel_53691/1253261533.py:28: FutureWarning: The behavior of DataFrame concatenation with empty or all-NA entries is deprecated. In a future version, this will no longer exclude empty or all-NA columns when determining the result dtypes. To retain the old behavior, exclude the relevant entries before the concat operation.\n",
      "  df.loc[len(df)] = tmp_row\n",
      "/tmp/ipykernel_53691/1253261533.py:77: FutureWarning: The behavior of DataFrame concatenation with empty or all-NA entries is deprecated. In a future version, this will no longer exclude empty or all-NA columns when determining the result dtypes. To retain the old behavior, exclude the relevant entries before the concat operation.\n",
      "  df.loc[len(df)] = tmp_row\n",
      "/tmp/ipykernel_53691/1253261533.py:77: FutureWarning: The behavior of DataFrame concatenation with empty or all-NA entries is deprecated. In a future version, this will no longer exclude empty or all-NA columns when determining the result dtypes. To retain the old behavior, exclude the relevant entries before the concat operation.\n",
      "  df.loc[len(df)] = tmp_row\n",
      "/tmp/ipykernel_53691/1253261533.py:77: FutureWarning: The behavior of DataFrame concatenation with empty or all-NA entries is deprecated. In a future version, this will no longer exclude empty or all-NA columns when determining the result dtypes. To retain the old behavior, exclude the relevant entries before the concat operation.\n",
      "  df.loc[len(df)] = tmp_row\n"
     ]
    },
    {
     "name": "stdout",
     "output_type": "stream",
     "text": [
      "......0110 files done\n"
     ]
    },
    {
     "name": "stderr",
     "output_type": "stream",
     "text": [
      "/tmp/ipykernel_53691/1253261533.py:28: FutureWarning: The behavior of DataFrame concatenation with empty or all-NA entries is deprecated. In a future version, this will no longer exclude empty or all-NA columns when determining the result dtypes. To retain the old behavior, exclude the relevant entries before the concat operation.\n",
      "  df.loc[len(df)] = tmp_row\n",
      "/tmp/ipykernel_53691/1253261533.py:77: FutureWarning: The behavior of DataFrame concatenation with empty or all-NA entries is deprecated. In a future version, this will no longer exclude empty or all-NA columns when determining the result dtypes. To retain the old behavior, exclude the relevant entries before the concat operation.\n",
      "  df.loc[len(df)] = tmp_row\n",
      "/tmp/ipykernel_53691/1253261533.py:77: FutureWarning: The behavior of DataFrame concatenation with empty or all-NA entries is deprecated. In a future version, this will no longer exclude empty or all-NA columns when determining the result dtypes. To retain the old behavior, exclude the relevant entries before the concat operation.\n",
      "  df.loc[len(df)] = tmp_row\n",
      "/tmp/ipykernel_53691/1253261533.py:77: FutureWarning: The behavior of DataFrame concatenation with empty or all-NA entries is deprecated. In a future version, this will no longer exclude empty or all-NA columns when determining the result dtypes. To retain the old behavior, exclude the relevant entries before the concat operation.\n",
      "  df.loc[len(df)] = tmp_row\n"
     ]
    },
    {
     "name": "stdout",
     "output_type": "stream",
     "text": [
      "......0111 files done\n"
     ]
    },
    {
     "name": "stderr",
     "output_type": "stream",
     "text": [
      "/tmp/ipykernel_53691/1253261533.py:28: FutureWarning: The behavior of DataFrame concatenation with empty or all-NA entries is deprecated. In a future version, this will no longer exclude empty or all-NA columns when determining the result dtypes. To retain the old behavior, exclude the relevant entries before the concat operation.\n",
      "  df.loc[len(df)] = tmp_row\n",
      "/tmp/ipykernel_53691/1253261533.py:77: FutureWarning: The behavior of DataFrame concatenation with empty or all-NA entries is deprecated. In a future version, this will no longer exclude empty or all-NA columns when determining the result dtypes. To retain the old behavior, exclude the relevant entries before the concat operation.\n",
      "  df.loc[len(df)] = tmp_row\n",
      "/tmp/ipykernel_53691/1253261533.py:77: FutureWarning: The behavior of DataFrame concatenation with empty or all-NA entries is deprecated. In a future version, this will no longer exclude empty or all-NA columns when determining the result dtypes. To retain the old behavior, exclude the relevant entries before the concat operation.\n",
      "  df.loc[len(df)] = tmp_row\n",
      "/tmp/ipykernel_53691/1253261533.py:77: FutureWarning: The behavior of DataFrame concatenation with empty or all-NA entries is deprecated. In a future version, this will no longer exclude empty or all-NA columns when determining the result dtypes. To retain the old behavior, exclude the relevant entries before the concat operation.\n",
      "  df.loc[len(df)] = tmp_row\n"
     ]
    },
    {
     "name": "stdout",
     "output_type": "stream",
     "text": [
      "......0112 files done\n"
     ]
    },
    {
     "name": "stderr",
     "output_type": "stream",
     "text": [
      "/tmp/ipykernel_53691/1253261533.py:28: FutureWarning: The behavior of DataFrame concatenation with empty or all-NA entries is deprecated. In a future version, this will no longer exclude empty or all-NA columns when determining the result dtypes. To retain the old behavior, exclude the relevant entries before the concat operation.\n",
      "  df.loc[len(df)] = tmp_row\n",
      "/tmp/ipykernel_53691/1253261533.py:77: FutureWarning: The behavior of DataFrame concatenation with empty or all-NA entries is deprecated. In a future version, this will no longer exclude empty or all-NA columns when determining the result dtypes. To retain the old behavior, exclude the relevant entries before the concat operation.\n",
      "  df.loc[len(df)] = tmp_row\n",
      "/tmp/ipykernel_53691/1253261533.py:77: FutureWarning: The behavior of DataFrame concatenation with empty or all-NA entries is deprecated. In a future version, this will no longer exclude empty or all-NA columns when determining the result dtypes. To retain the old behavior, exclude the relevant entries before the concat operation.\n",
      "  df.loc[len(df)] = tmp_row\n",
      "/tmp/ipykernel_53691/1253261533.py:77: FutureWarning: The behavior of DataFrame concatenation with empty or all-NA entries is deprecated. In a future version, this will no longer exclude empty or all-NA columns when determining the result dtypes. To retain the old behavior, exclude the relevant entries before the concat operation.\n",
      "  df.loc[len(df)] = tmp_row\n"
     ]
    },
    {
     "name": "stdout",
     "output_type": "stream",
     "text": [
      "......0113 files done\n"
     ]
    },
    {
     "name": "stderr",
     "output_type": "stream",
     "text": [
      "/tmp/ipykernel_53691/1253261533.py:28: FutureWarning: The behavior of DataFrame concatenation with empty or all-NA entries is deprecated. In a future version, this will no longer exclude empty or all-NA columns when determining the result dtypes. To retain the old behavior, exclude the relevant entries before the concat operation.\n",
      "  df.loc[len(df)] = tmp_row\n",
      "/tmp/ipykernel_53691/1253261533.py:77: FutureWarning: The behavior of DataFrame concatenation with empty or all-NA entries is deprecated. In a future version, this will no longer exclude empty or all-NA columns when determining the result dtypes. To retain the old behavior, exclude the relevant entries before the concat operation.\n",
      "  df.loc[len(df)] = tmp_row\n",
      "/tmp/ipykernel_53691/1253261533.py:77: FutureWarning: The behavior of DataFrame concatenation with empty or all-NA entries is deprecated. In a future version, this will no longer exclude empty or all-NA columns when determining the result dtypes. To retain the old behavior, exclude the relevant entries before the concat operation.\n",
      "  df.loc[len(df)] = tmp_row\n",
      "/tmp/ipykernel_53691/1253261533.py:77: FutureWarning: The behavior of DataFrame concatenation with empty or all-NA entries is deprecated. In a future version, this will no longer exclude empty or all-NA columns when determining the result dtypes. To retain the old behavior, exclude the relevant entries before the concat operation.\n",
      "  df.loc[len(df)] = tmp_row\n"
     ]
    },
    {
     "name": "stdout",
     "output_type": "stream",
     "text": [
      "......0114 files done\n"
     ]
    },
    {
     "name": "stderr",
     "output_type": "stream",
     "text": [
      "/tmp/ipykernel_53691/1253261533.py:28: FutureWarning: The behavior of DataFrame concatenation with empty or all-NA entries is deprecated. In a future version, this will no longer exclude empty or all-NA columns when determining the result dtypes. To retain the old behavior, exclude the relevant entries before the concat operation.\n",
      "  df.loc[len(df)] = tmp_row\n",
      "/tmp/ipykernel_53691/1253261533.py:77: FutureWarning: The behavior of DataFrame concatenation with empty or all-NA entries is deprecated. In a future version, this will no longer exclude empty or all-NA columns when determining the result dtypes. To retain the old behavior, exclude the relevant entries before the concat operation.\n",
      "  df.loc[len(df)] = tmp_row\n",
      "/tmp/ipykernel_53691/1253261533.py:77: FutureWarning: The behavior of DataFrame concatenation with empty or all-NA entries is deprecated. In a future version, this will no longer exclude empty or all-NA columns when determining the result dtypes. To retain the old behavior, exclude the relevant entries before the concat operation.\n",
      "  df.loc[len(df)] = tmp_row\n",
      "/tmp/ipykernel_53691/1253261533.py:77: FutureWarning: The behavior of DataFrame concatenation with empty or all-NA entries is deprecated. In a future version, this will no longer exclude empty or all-NA columns when determining the result dtypes. To retain the old behavior, exclude the relevant entries before the concat operation.\n",
      "  df.loc[len(df)] = tmp_row\n"
     ]
    },
    {
     "name": "stdout",
     "output_type": "stream",
     "text": [
      "......0115 files done\n"
     ]
    },
    {
     "name": "stderr",
     "output_type": "stream",
     "text": [
      "/tmp/ipykernel_53691/1253261533.py:28: FutureWarning: The behavior of DataFrame concatenation with empty or all-NA entries is deprecated. In a future version, this will no longer exclude empty or all-NA columns when determining the result dtypes. To retain the old behavior, exclude the relevant entries before the concat operation.\n",
      "  df.loc[len(df)] = tmp_row\n",
      "/tmp/ipykernel_53691/1253261533.py:77: FutureWarning: The behavior of DataFrame concatenation with empty or all-NA entries is deprecated. In a future version, this will no longer exclude empty or all-NA columns when determining the result dtypes. To retain the old behavior, exclude the relevant entries before the concat operation.\n",
      "  df.loc[len(df)] = tmp_row\n",
      "/tmp/ipykernel_53691/1253261533.py:77: FutureWarning: The behavior of DataFrame concatenation with empty or all-NA entries is deprecated. In a future version, this will no longer exclude empty or all-NA columns when determining the result dtypes. To retain the old behavior, exclude the relevant entries before the concat operation.\n",
      "  df.loc[len(df)] = tmp_row\n",
      "/tmp/ipykernel_53691/1253261533.py:77: FutureWarning: The behavior of DataFrame concatenation with empty or all-NA entries is deprecated. In a future version, this will no longer exclude empty or all-NA columns when determining the result dtypes. To retain the old behavior, exclude the relevant entries before the concat operation.\n",
      "  df.loc[len(df)] = tmp_row\n"
     ]
    },
    {
     "name": "stdout",
     "output_type": "stream",
     "text": [
      "......0116 files done\n"
     ]
    },
    {
     "name": "stderr",
     "output_type": "stream",
     "text": [
      "/tmp/ipykernel_53691/1253261533.py:28: FutureWarning: The behavior of DataFrame concatenation with empty or all-NA entries is deprecated. In a future version, this will no longer exclude empty or all-NA columns when determining the result dtypes. To retain the old behavior, exclude the relevant entries before the concat operation.\n",
      "  df.loc[len(df)] = tmp_row\n",
      "/tmp/ipykernel_53691/1253261533.py:77: FutureWarning: The behavior of DataFrame concatenation with empty or all-NA entries is deprecated. In a future version, this will no longer exclude empty or all-NA columns when determining the result dtypes. To retain the old behavior, exclude the relevant entries before the concat operation.\n",
      "  df.loc[len(df)] = tmp_row\n",
      "/tmp/ipykernel_53691/1253261533.py:77: FutureWarning: The behavior of DataFrame concatenation with empty or all-NA entries is deprecated. In a future version, this will no longer exclude empty or all-NA columns when determining the result dtypes. To retain the old behavior, exclude the relevant entries before the concat operation.\n",
      "  df.loc[len(df)] = tmp_row\n",
      "/tmp/ipykernel_53691/1253261533.py:77: FutureWarning: The behavior of DataFrame concatenation with empty or all-NA entries is deprecated. In a future version, this will no longer exclude empty or all-NA columns when determining the result dtypes. To retain the old behavior, exclude the relevant entries before the concat operation.\n",
      "  df.loc[len(df)] = tmp_row\n"
     ]
    },
    {
     "name": "stdout",
     "output_type": "stream",
     "text": [
      "......0117 files done\n"
     ]
    },
    {
     "name": "stderr",
     "output_type": "stream",
     "text": [
      "/tmp/ipykernel_53691/1253261533.py:28: FutureWarning: The behavior of DataFrame concatenation with empty or all-NA entries is deprecated. In a future version, this will no longer exclude empty or all-NA columns when determining the result dtypes. To retain the old behavior, exclude the relevant entries before the concat operation.\n",
      "  df.loc[len(df)] = tmp_row\n",
      "/tmp/ipykernel_53691/1253261533.py:77: FutureWarning: The behavior of DataFrame concatenation with empty or all-NA entries is deprecated. In a future version, this will no longer exclude empty or all-NA columns when determining the result dtypes. To retain the old behavior, exclude the relevant entries before the concat operation.\n",
      "  df.loc[len(df)] = tmp_row\n",
      "/tmp/ipykernel_53691/1253261533.py:77: FutureWarning: The behavior of DataFrame concatenation with empty or all-NA entries is deprecated. In a future version, this will no longer exclude empty or all-NA columns when determining the result dtypes. To retain the old behavior, exclude the relevant entries before the concat operation.\n",
      "  df.loc[len(df)] = tmp_row\n",
      "/tmp/ipykernel_53691/1253261533.py:77: FutureWarning: The behavior of DataFrame concatenation with empty or all-NA entries is deprecated. In a future version, this will no longer exclude empty or all-NA columns when determining the result dtypes. To retain the old behavior, exclude the relevant entries before the concat operation.\n",
      "  df.loc[len(df)] = tmp_row\n"
     ]
    },
    {
     "name": "stdout",
     "output_type": "stream",
     "text": [
      "......0118 files done\n"
     ]
    },
    {
     "name": "stderr",
     "output_type": "stream",
     "text": [
      "/tmp/ipykernel_53691/1253261533.py:28: FutureWarning: The behavior of DataFrame concatenation with empty or all-NA entries is deprecated. In a future version, this will no longer exclude empty or all-NA columns when determining the result dtypes. To retain the old behavior, exclude the relevant entries before the concat operation.\n",
      "  df.loc[len(df)] = tmp_row\n",
      "/tmp/ipykernel_53691/1253261533.py:77: FutureWarning: The behavior of DataFrame concatenation with empty or all-NA entries is deprecated. In a future version, this will no longer exclude empty or all-NA columns when determining the result dtypes. To retain the old behavior, exclude the relevant entries before the concat operation.\n",
      "  df.loc[len(df)] = tmp_row\n",
      "/tmp/ipykernel_53691/1253261533.py:77: FutureWarning: The behavior of DataFrame concatenation with empty or all-NA entries is deprecated. In a future version, this will no longer exclude empty or all-NA columns when determining the result dtypes. To retain the old behavior, exclude the relevant entries before the concat operation.\n",
      "  df.loc[len(df)] = tmp_row\n",
      "/tmp/ipykernel_53691/1253261533.py:77: FutureWarning: The behavior of DataFrame concatenation with empty or all-NA entries is deprecated. In a future version, this will no longer exclude empty or all-NA columns when determining the result dtypes. To retain the old behavior, exclude the relevant entries before the concat operation.\n",
      "  df.loc[len(df)] = tmp_row\n"
     ]
    },
    {
     "name": "stdout",
     "output_type": "stream",
     "text": [
      "......0119 files done\n"
     ]
    },
    {
     "name": "stderr",
     "output_type": "stream",
     "text": [
      "/tmp/ipykernel_53691/1253261533.py:28: FutureWarning: The behavior of DataFrame concatenation with empty or all-NA entries is deprecated. In a future version, this will no longer exclude empty or all-NA columns when determining the result dtypes. To retain the old behavior, exclude the relevant entries before the concat operation.\n",
      "  df.loc[len(df)] = tmp_row\n",
      "/tmp/ipykernel_53691/1253261533.py:77: FutureWarning: The behavior of DataFrame concatenation with empty or all-NA entries is deprecated. In a future version, this will no longer exclude empty or all-NA columns when determining the result dtypes. To retain the old behavior, exclude the relevant entries before the concat operation.\n",
      "  df.loc[len(df)] = tmp_row\n",
      "/tmp/ipykernel_53691/1253261533.py:77: FutureWarning: The behavior of DataFrame concatenation with empty or all-NA entries is deprecated. In a future version, this will no longer exclude empty or all-NA columns when determining the result dtypes. To retain the old behavior, exclude the relevant entries before the concat operation.\n",
      "  df.loc[len(df)] = tmp_row\n",
      "/tmp/ipykernel_53691/1253261533.py:77: FutureWarning: The behavior of DataFrame concatenation with empty or all-NA entries is deprecated. In a future version, this will no longer exclude empty or all-NA columns when determining the result dtypes. To retain the old behavior, exclude the relevant entries before the concat operation.\n",
      "  df.loc[len(df)] = tmp_row\n"
     ]
    },
    {
     "name": "stdout",
     "output_type": "stream",
     "text": [
      "......0120 files done\n"
     ]
    },
    {
     "name": "stderr",
     "output_type": "stream",
     "text": [
      "/tmp/ipykernel_53691/1253261533.py:28: FutureWarning: The behavior of DataFrame concatenation with empty or all-NA entries is deprecated. In a future version, this will no longer exclude empty or all-NA columns when determining the result dtypes. To retain the old behavior, exclude the relevant entries before the concat operation.\n",
      "  df.loc[len(df)] = tmp_row\n",
      "/tmp/ipykernel_53691/1253261533.py:77: FutureWarning: The behavior of DataFrame concatenation with empty or all-NA entries is deprecated. In a future version, this will no longer exclude empty or all-NA columns when determining the result dtypes. To retain the old behavior, exclude the relevant entries before the concat operation.\n",
      "  df.loc[len(df)] = tmp_row\n",
      "/tmp/ipykernel_53691/1253261533.py:77: FutureWarning: The behavior of DataFrame concatenation with empty or all-NA entries is deprecated. In a future version, this will no longer exclude empty or all-NA columns when determining the result dtypes. To retain the old behavior, exclude the relevant entries before the concat operation.\n",
      "  df.loc[len(df)] = tmp_row\n",
      "/tmp/ipykernel_53691/1253261533.py:77: FutureWarning: The behavior of DataFrame concatenation with empty or all-NA entries is deprecated. In a future version, this will no longer exclude empty or all-NA columns when determining the result dtypes. To retain the old behavior, exclude the relevant entries before the concat operation.\n",
      "  df.loc[len(df)] = tmp_row\n"
     ]
    },
    {
     "name": "stdout",
     "output_type": "stream",
     "text": [
      "......0121 files done\n"
     ]
    },
    {
     "name": "stderr",
     "output_type": "stream",
     "text": [
      "/tmp/ipykernel_53691/1253261533.py:28: FutureWarning: The behavior of DataFrame concatenation with empty or all-NA entries is deprecated. In a future version, this will no longer exclude empty or all-NA columns when determining the result dtypes. To retain the old behavior, exclude the relevant entries before the concat operation.\n",
      "  df.loc[len(df)] = tmp_row\n",
      "/tmp/ipykernel_53691/1253261533.py:77: FutureWarning: The behavior of DataFrame concatenation with empty or all-NA entries is deprecated. In a future version, this will no longer exclude empty or all-NA columns when determining the result dtypes. To retain the old behavior, exclude the relevant entries before the concat operation.\n",
      "  df.loc[len(df)] = tmp_row\n",
      "/tmp/ipykernel_53691/1253261533.py:77: FutureWarning: The behavior of DataFrame concatenation with empty or all-NA entries is deprecated. In a future version, this will no longer exclude empty or all-NA columns when determining the result dtypes. To retain the old behavior, exclude the relevant entries before the concat operation.\n",
      "  df.loc[len(df)] = tmp_row\n",
      "/tmp/ipykernel_53691/1253261533.py:77: FutureWarning: The behavior of DataFrame concatenation with empty or all-NA entries is deprecated. In a future version, this will no longer exclude empty or all-NA columns when determining the result dtypes. To retain the old behavior, exclude the relevant entries before the concat operation.\n",
      "  df.loc[len(df)] = tmp_row\n"
     ]
    },
    {
     "name": "stdout",
     "output_type": "stream",
     "text": [
      "......0122 files done\n"
     ]
    },
    {
     "name": "stderr",
     "output_type": "stream",
     "text": [
      "/tmp/ipykernel_53691/1253261533.py:28: FutureWarning: The behavior of DataFrame concatenation with empty or all-NA entries is deprecated. In a future version, this will no longer exclude empty or all-NA columns when determining the result dtypes. To retain the old behavior, exclude the relevant entries before the concat operation.\n",
      "  df.loc[len(df)] = tmp_row\n",
      "/tmp/ipykernel_53691/1253261533.py:77: FutureWarning: The behavior of DataFrame concatenation with empty or all-NA entries is deprecated. In a future version, this will no longer exclude empty or all-NA columns when determining the result dtypes. To retain the old behavior, exclude the relevant entries before the concat operation.\n",
      "  df.loc[len(df)] = tmp_row\n",
      "/tmp/ipykernel_53691/1253261533.py:77: FutureWarning: The behavior of DataFrame concatenation with empty or all-NA entries is deprecated. In a future version, this will no longer exclude empty or all-NA columns when determining the result dtypes. To retain the old behavior, exclude the relevant entries before the concat operation.\n",
      "  df.loc[len(df)] = tmp_row\n",
      "/tmp/ipykernel_53691/1253261533.py:77: FutureWarning: The behavior of DataFrame concatenation with empty or all-NA entries is deprecated. In a future version, this will no longer exclude empty or all-NA columns when determining the result dtypes. To retain the old behavior, exclude the relevant entries before the concat operation.\n",
      "  df.loc[len(df)] = tmp_row\n"
     ]
    },
    {
     "name": "stdout",
     "output_type": "stream",
     "text": [
      "......0123 files done\n"
     ]
    },
    {
     "name": "stderr",
     "output_type": "stream",
     "text": [
      "/tmp/ipykernel_53691/1253261533.py:28: FutureWarning: The behavior of DataFrame concatenation with empty or all-NA entries is deprecated. In a future version, this will no longer exclude empty or all-NA columns when determining the result dtypes. To retain the old behavior, exclude the relevant entries before the concat operation.\n",
      "  df.loc[len(df)] = tmp_row\n",
      "/tmp/ipykernel_53691/1253261533.py:77: FutureWarning: The behavior of DataFrame concatenation with empty or all-NA entries is deprecated. In a future version, this will no longer exclude empty or all-NA columns when determining the result dtypes. To retain the old behavior, exclude the relevant entries before the concat operation.\n",
      "  df.loc[len(df)] = tmp_row\n",
      "/tmp/ipykernel_53691/1253261533.py:77: FutureWarning: The behavior of DataFrame concatenation with empty or all-NA entries is deprecated. In a future version, this will no longer exclude empty or all-NA columns when determining the result dtypes. To retain the old behavior, exclude the relevant entries before the concat operation.\n",
      "  df.loc[len(df)] = tmp_row\n",
      "/tmp/ipykernel_53691/1253261533.py:77: FutureWarning: The behavior of DataFrame concatenation with empty or all-NA entries is deprecated. In a future version, this will no longer exclude empty or all-NA columns when determining the result dtypes. To retain the old behavior, exclude the relevant entries before the concat operation.\n",
      "  df.loc[len(df)] = tmp_row\n"
     ]
    },
    {
     "name": "stdout",
     "output_type": "stream",
     "text": [
      "......0124 files done\n"
     ]
    },
    {
     "name": "stderr",
     "output_type": "stream",
     "text": [
      "/tmp/ipykernel_53691/1253261533.py:28: FutureWarning: The behavior of DataFrame concatenation with empty or all-NA entries is deprecated. In a future version, this will no longer exclude empty or all-NA columns when determining the result dtypes. To retain the old behavior, exclude the relevant entries before the concat operation.\n",
      "  df.loc[len(df)] = tmp_row\n",
      "/tmp/ipykernel_53691/1253261533.py:77: FutureWarning: The behavior of DataFrame concatenation with empty or all-NA entries is deprecated. In a future version, this will no longer exclude empty or all-NA columns when determining the result dtypes. To retain the old behavior, exclude the relevant entries before the concat operation.\n",
      "  df.loc[len(df)] = tmp_row\n",
      "/tmp/ipykernel_53691/1253261533.py:77: FutureWarning: The behavior of DataFrame concatenation with empty or all-NA entries is deprecated. In a future version, this will no longer exclude empty or all-NA columns when determining the result dtypes. To retain the old behavior, exclude the relevant entries before the concat operation.\n",
      "  df.loc[len(df)] = tmp_row\n",
      "/tmp/ipykernel_53691/1253261533.py:77: FutureWarning: The behavior of DataFrame concatenation with empty or all-NA entries is deprecated. In a future version, this will no longer exclude empty or all-NA columns when determining the result dtypes. To retain the old behavior, exclude the relevant entries before the concat operation.\n",
      "  df.loc[len(df)] = tmp_row\n"
     ]
    },
    {
     "name": "stdout",
     "output_type": "stream",
     "text": [
      "......0125 files done\n"
     ]
    },
    {
     "name": "stderr",
     "output_type": "stream",
     "text": [
      "/tmp/ipykernel_53691/1253261533.py:28: FutureWarning: The behavior of DataFrame concatenation with empty or all-NA entries is deprecated. In a future version, this will no longer exclude empty or all-NA columns when determining the result dtypes. To retain the old behavior, exclude the relevant entries before the concat operation.\n",
      "  df.loc[len(df)] = tmp_row\n",
      "/tmp/ipykernel_53691/1253261533.py:77: FutureWarning: The behavior of DataFrame concatenation with empty or all-NA entries is deprecated. In a future version, this will no longer exclude empty or all-NA columns when determining the result dtypes. To retain the old behavior, exclude the relevant entries before the concat operation.\n",
      "  df.loc[len(df)] = tmp_row\n",
      "/tmp/ipykernel_53691/1253261533.py:77: FutureWarning: The behavior of DataFrame concatenation with empty or all-NA entries is deprecated. In a future version, this will no longer exclude empty or all-NA columns when determining the result dtypes. To retain the old behavior, exclude the relevant entries before the concat operation.\n",
      "  df.loc[len(df)] = tmp_row\n",
      "/tmp/ipykernel_53691/1253261533.py:77: FutureWarning: The behavior of DataFrame concatenation with empty or all-NA entries is deprecated. In a future version, this will no longer exclude empty or all-NA columns when determining the result dtypes. To retain the old behavior, exclude the relevant entries before the concat operation.\n",
      "  df.loc[len(df)] = tmp_row\n"
     ]
    },
    {
     "name": "stdout",
     "output_type": "stream",
     "text": [
      "......0126 files done\n"
     ]
    },
    {
     "name": "stderr",
     "output_type": "stream",
     "text": [
      "/tmp/ipykernel_53691/1253261533.py:28: FutureWarning: The behavior of DataFrame concatenation with empty or all-NA entries is deprecated. In a future version, this will no longer exclude empty or all-NA columns when determining the result dtypes. To retain the old behavior, exclude the relevant entries before the concat operation.\n",
      "  df.loc[len(df)] = tmp_row\n",
      "/tmp/ipykernel_53691/1253261533.py:77: FutureWarning: The behavior of DataFrame concatenation with empty or all-NA entries is deprecated. In a future version, this will no longer exclude empty or all-NA columns when determining the result dtypes. To retain the old behavior, exclude the relevant entries before the concat operation.\n",
      "  df.loc[len(df)] = tmp_row\n",
      "/tmp/ipykernel_53691/1253261533.py:77: FutureWarning: The behavior of DataFrame concatenation with empty or all-NA entries is deprecated. In a future version, this will no longer exclude empty or all-NA columns when determining the result dtypes. To retain the old behavior, exclude the relevant entries before the concat operation.\n",
      "  df.loc[len(df)] = tmp_row\n",
      "/tmp/ipykernel_53691/1253261533.py:77: FutureWarning: The behavior of DataFrame concatenation with empty or all-NA entries is deprecated. In a future version, this will no longer exclude empty or all-NA columns when determining the result dtypes. To retain the old behavior, exclude the relevant entries before the concat operation.\n",
      "  df.loc[len(df)] = tmp_row\n"
     ]
    },
    {
     "name": "stdout",
     "output_type": "stream",
     "text": [
      "......0127 files done\n"
     ]
    },
    {
     "name": "stderr",
     "output_type": "stream",
     "text": [
      "/tmp/ipykernel_53691/1253261533.py:28: FutureWarning: The behavior of DataFrame concatenation with empty or all-NA entries is deprecated. In a future version, this will no longer exclude empty or all-NA columns when determining the result dtypes. To retain the old behavior, exclude the relevant entries before the concat operation.\n",
      "  df.loc[len(df)] = tmp_row\n",
      "/tmp/ipykernel_53691/1253261533.py:77: FutureWarning: The behavior of DataFrame concatenation with empty or all-NA entries is deprecated. In a future version, this will no longer exclude empty or all-NA columns when determining the result dtypes. To retain the old behavior, exclude the relevant entries before the concat operation.\n",
      "  df.loc[len(df)] = tmp_row\n",
      "/tmp/ipykernel_53691/1253261533.py:77: FutureWarning: The behavior of DataFrame concatenation with empty or all-NA entries is deprecated. In a future version, this will no longer exclude empty or all-NA columns when determining the result dtypes. To retain the old behavior, exclude the relevant entries before the concat operation.\n",
      "  df.loc[len(df)] = tmp_row\n",
      "/tmp/ipykernel_53691/1253261533.py:77: FutureWarning: The behavior of DataFrame concatenation with empty or all-NA entries is deprecated. In a future version, this will no longer exclude empty or all-NA columns when determining the result dtypes. To retain the old behavior, exclude the relevant entries before the concat operation.\n",
      "  df.loc[len(df)] = tmp_row\n"
     ]
    },
    {
     "name": "stdout",
     "output_type": "stream",
     "text": [
      "......0128 files done\n"
     ]
    },
    {
     "name": "stderr",
     "output_type": "stream",
     "text": [
      "/tmp/ipykernel_53691/1253261533.py:28: FutureWarning: The behavior of DataFrame concatenation with empty or all-NA entries is deprecated. In a future version, this will no longer exclude empty or all-NA columns when determining the result dtypes. To retain the old behavior, exclude the relevant entries before the concat operation.\n",
      "  df.loc[len(df)] = tmp_row\n",
      "/tmp/ipykernel_53691/1253261533.py:77: FutureWarning: The behavior of DataFrame concatenation with empty or all-NA entries is deprecated. In a future version, this will no longer exclude empty or all-NA columns when determining the result dtypes. To retain the old behavior, exclude the relevant entries before the concat operation.\n",
      "  df.loc[len(df)] = tmp_row\n",
      "/tmp/ipykernel_53691/1253261533.py:77: FutureWarning: The behavior of DataFrame concatenation with empty or all-NA entries is deprecated. In a future version, this will no longer exclude empty or all-NA columns when determining the result dtypes. To retain the old behavior, exclude the relevant entries before the concat operation.\n",
      "  df.loc[len(df)] = tmp_row\n",
      "/tmp/ipykernel_53691/1253261533.py:77: FutureWarning: The behavior of DataFrame concatenation with empty or all-NA entries is deprecated. In a future version, this will no longer exclude empty or all-NA columns when determining the result dtypes. To retain the old behavior, exclude the relevant entries before the concat operation.\n",
      "  df.loc[len(df)] = tmp_row\n"
     ]
    },
    {
     "name": "stdout",
     "output_type": "stream",
     "text": [
      "......0129 files done\n"
     ]
    },
    {
     "name": "stderr",
     "output_type": "stream",
     "text": [
      "/tmp/ipykernel_53691/1253261533.py:28: FutureWarning: The behavior of DataFrame concatenation with empty or all-NA entries is deprecated. In a future version, this will no longer exclude empty or all-NA columns when determining the result dtypes. To retain the old behavior, exclude the relevant entries before the concat operation.\n",
      "  df.loc[len(df)] = tmp_row\n",
      "/tmp/ipykernel_53691/1253261533.py:77: FutureWarning: The behavior of DataFrame concatenation with empty or all-NA entries is deprecated. In a future version, this will no longer exclude empty or all-NA columns when determining the result dtypes. To retain the old behavior, exclude the relevant entries before the concat operation.\n",
      "  df.loc[len(df)] = tmp_row\n",
      "/tmp/ipykernel_53691/1253261533.py:77: FutureWarning: The behavior of DataFrame concatenation with empty or all-NA entries is deprecated. In a future version, this will no longer exclude empty or all-NA columns when determining the result dtypes. To retain the old behavior, exclude the relevant entries before the concat operation.\n",
      "  df.loc[len(df)] = tmp_row\n",
      "/tmp/ipykernel_53691/1253261533.py:77: FutureWarning: The behavior of DataFrame concatenation with empty or all-NA entries is deprecated. In a future version, this will no longer exclude empty or all-NA columns when determining the result dtypes. To retain the old behavior, exclude the relevant entries before the concat operation.\n",
      "  df.loc[len(df)] = tmp_row\n"
     ]
    },
    {
     "name": "stdout",
     "output_type": "stream",
     "text": [
      "......0130 files done\n"
     ]
    },
    {
     "name": "stderr",
     "output_type": "stream",
     "text": [
      "/tmp/ipykernel_53691/1253261533.py:28: FutureWarning: The behavior of DataFrame concatenation with empty or all-NA entries is deprecated. In a future version, this will no longer exclude empty or all-NA columns when determining the result dtypes. To retain the old behavior, exclude the relevant entries before the concat operation.\n",
      "  df.loc[len(df)] = tmp_row\n",
      "/tmp/ipykernel_53691/1253261533.py:77: FutureWarning: The behavior of DataFrame concatenation with empty or all-NA entries is deprecated. In a future version, this will no longer exclude empty or all-NA columns when determining the result dtypes. To retain the old behavior, exclude the relevant entries before the concat operation.\n",
      "  df.loc[len(df)] = tmp_row\n",
      "/tmp/ipykernel_53691/1253261533.py:77: FutureWarning: The behavior of DataFrame concatenation with empty or all-NA entries is deprecated. In a future version, this will no longer exclude empty or all-NA columns when determining the result dtypes. To retain the old behavior, exclude the relevant entries before the concat operation.\n",
      "  df.loc[len(df)] = tmp_row\n",
      "/tmp/ipykernel_53691/1253261533.py:77: FutureWarning: The behavior of DataFrame concatenation with empty or all-NA entries is deprecated. In a future version, this will no longer exclude empty or all-NA columns when determining the result dtypes. To retain the old behavior, exclude the relevant entries before the concat operation.\n",
      "  df.loc[len(df)] = tmp_row\n"
     ]
    },
    {
     "name": "stdout",
     "output_type": "stream",
     "text": [
      "......0131 files done\n"
     ]
    },
    {
     "name": "stderr",
     "output_type": "stream",
     "text": [
      "/tmp/ipykernel_53691/1253261533.py:28: FutureWarning: The behavior of DataFrame concatenation with empty or all-NA entries is deprecated. In a future version, this will no longer exclude empty or all-NA columns when determining the result dtypes. To retain the old behavior, exclude the relevant entries before the concat operation.\n",
      "  df.loc[len(df)] = tmp_row\n",
      "/tmp/ipykernel_53691/1253261533.py:77: FutureWarning: The behavior of DataFrame concatenation with empty or all-NA entries is deprecated. In a future version, this will no longer exclude empty or all-NA columns when determining the result dtypes. To retain the old behavior, exclude the relevant entries before the concat operation.\n",
      "  df.loc[len(df)] = tmp_row\n",
      "/tmp/ipykernel_53691/1253261533.py:77: FutureWarning: The behavior of DataFrame concatenation with empty or all-NA entries is deprecated. In a future version, this will no longer exclude empty or all-NA columns when determining the result dtypes. To retain the old behavior, exclude the relevant entries before the concat operation.\n",
      "  df.loc[len(df)] = tmp_row\n",
      "/tmp/ipykernel_53691/1253261533.py:77: FutureWarning: The behavior of DataFrame concatenation with empty or all-NA entries is deprecated. In a future version, this will no longer exclude empty or all-NA columns when determining the result dtypes. To retain the old behavior, exclude the relevant entries before the concat operation.\n",
      "  df.loc[len(df)] = tmp_row\n"
     ]
    },
    {
     "name": "stdout",
     "output_type": "stream",
     "text": [
      "......0132 files done\n"
     ]
    },
    {
     "name": "stderr",
     "output_type": "stream",
     "text": [
      "/tmp/ipykernel_53691/1253261533.py:28: FutureWarning: The behavior of DataFrame concatenation with empty or all-NA entries is deprecated. In a future version, this will no longer exclude empty or all-NA columns when determining the result dtypes. To retain the old behavior, exclude the relevant entries before the concat operation.\n",
      "  df.loc[len(df)] = tmp_row\n",
      "/tmp/ipykernel_53691/1253261533.py:77: FutureWarning: The behavior of DataFrame concatenation with empty or all-NA entries is deprecated. In a future version, this will no longer exclude empty or all-NA columns when determining the result dtypes. To retain the old behavior, exclude the relevant entries before the concat operation.\n",
      "  df.loc[len(df)] = tmp_row\n",
      "/tmp/ipykernel_53691/1253261533.py:77: FutureWarning: The behavior of DataFrame concatenation with empty or all-NA entries is deprecated. In a future version, this will no longer exclude empty or all-NA columns when determining the result dtypes. To retain the old behavior, exclude the relevant entries before the concat operation.\n",
      "  df.loc[len(df)] = tmp_row\n",
      "/tmp/ipykernel_53691/1253261533.py:77: FutureWarning: The behavior of DataFrame concatenation with empty or all-NA entries is deprecated. In a future version, this will no longer exclude empty or all-NA columns when determining the result dtypes. To retain the old behavior, exclude the relevant entries before the concat operation.\n",
      "  df.loc[len(df)] = tmp_row\n"
     ]
    },
    {
     "name": "stdout",
     "output_type": "stream",
     "text": [
      "......0133 files done\n"
     ]
    },
    {
     "name": "stderr",
     "output_type": "stream",
     "text": [
      "/tmp/ipykernel_53691/1253261533.py:28: FutureWarning: The behavior of DataFrame concatenation with empty or all-NA entries is deprecated. In a future version, this will no longer exclude empty or all-NA columns when determining the result dtypes. To retain the old behavior, exclude the relevant entries before the concat operation.\n",
      "  df.loc[len(df)] = tmp_row\n",
      "/tmp/ipykernel_53691/1253261533.py:77: FutureWarning: The behavior of DataFrame concatenation with empty or all-NA entries is deprecated. In a future version, this will no longer exclude empty or all-NA columns when determining the result dtypes. To retain the old behavior, exclude the relevant entries before the concat operation.\n",
      "  df.loc[len(df)] = tmp_row\n",
      "/tmp/ipykernel_53691/1253261533.py:77: FutureWarning: The behavior of DataFrame concatenation with empty or all-NA entries is deprecated. In a future version, this will no longer exclude empty or all-NA columns when determining the result dtypes. To retain the old behavior, exclude the relevant entries before the concat operation.\n",
      "  df.loc[len(df)] = tmp_row\n",
      "/tmp/ipykernel_53691/1253261533.py:77: FutureWarning: The behavior of DataFrame concatenation with empty or all-NA entries is deprecated. In a future version, this will no longer exclude empty or all-NA columns when determining the result dtypes. To retain the old behavior, exclude the relevant entries before the concat operation.\n",
      "  df.loc[len(df)] = tmp_row\n"
     ]
    },
    {
     "name": "stdout",
     "output_type": "stream",
     "text": [
      "......0134 files done\n"
     ]
    },
    {
     "name": "stderr",
     "output_type": "stream",
     "text": [
      "/tmp/ipykernel_53691/1253261533.py:28: FutureWarning: The behavior of DataFrame concatenation with empty or all-NA entries is deprecated. In a future version, this will no longer exclude empty or all-NA columns when determining the result dtypes. To retain the old behavior, exclude the relevant entries before the concat operation.\n",
      "  df.loc[len(df)] = tmp_row\n",
      "/tmp/ipykernel_53691/1253261533.py:77: FutureWarning: The behavior of DataFrame concatenation with empty or all-NA entries is deprecated. In a future version, this will no longer exclude empty or all-NA columns when determining the result dtypes. To retain the old behavior, exclude the relevant entries before the concat operation.\n",
      "  df.loc[len(df)] = tmp_row\n",
      "/tmp/ipykernel_53691/1253261533.py:77: FutureWarning: The behavior of DataFrame concatenation with empty or all-NA entries is deprecated. In a future version, this will no longer exclude empty or all-NA columns when determining the result dtypes. To retain the old behavior, exclude the relevant entries before the concat operation.\n",
      "  df.loc[len(df)] = tmp_row\n",
      "/tmp/ipykernel_53691/1253261533.py:77: FutureWarning: The behavior of DataFrame concatenation with empty or all-NA entries is deprecated. In a future version, this will no longer exclude empty or all-NA columns when determining the result dtypes. To retain the old behavior, exclude the relevant entries before the concat operation.\n",
      "  df.loc[len(df)] = tmp_row\n"
     ]
    },
    {
     "name": "stdout",
     "output_type": "stream",
     "text": [
      "......0135 files done\n"
     ]
    },
    {
     "name": "stderr",
     "output_type": "stream",
     "text": [
      "/tmp/ipykernel_53691/1253261533.py:28: FutureWarning: The behavior of DataFrame concatenation with empty or all-NA entries is deprecated. In a future version, this will no longer exclude empty or all-NA columns when determining the result dtypes. To retain the old behavior, exclude the relevant entries before the concat operation.\n",
      "  df.loc[len(df)] = tmp_row\n",
      "/tmp/ipykernel_53691/1253261533.py:77: FutureWarning: The behavior of DataFrame concatenation with empty or all-NA entries is deprecated. In a future version, this will no longer exclude empty or all-NA columns when determining the result dtypes. To retain the old behavior, exclude the relevant entries before the concat operation.\n",
      "  df.loc[len(df)] = tmp_row\n",
      "/tmp/ipykernel_53691/1253261533.py:77: FutureWarning: The behavior of DataFrame concatenation with empty or all-NA entries is deprecated. In a future version, this will no longer exclude empty or all-NA columns when determining the result dtypes. To retain the old behavior, exclude the relevant entries before the concat operation.\n",
      "  df.loc[len(df)] = tmp_row\n",
      "/tmp/ipykernel_53691/1253261533.py:77: FutureWarning: The behavior of DataFrame concatenation with empty or all-NA entries is deprecated. In a future version, this will no longer exclude empty or all-NA columns when determining the result dtypes. To retain the old behavior, exclude the relevant entries before the concat operation.\n",
      "  df.loc[len(df)] = tmp_row\n"
     ]
    },
    {
     "name": "stdout",
     "output_type": "stream",
     "text": [
      "......0136 files done\n"
     ]
    },
    {
     "name": "stderr",
     "output_type": "stream",
     "text": [
      "/tmp/ipykernel_53691/1253261533.py:28: FutureWarning: The behavior of DataFrame concatenation with empty or all-NA entries is deprecated. In a future version, this will no longer exclude empty or all-NA columns when determining the result dtypes. To retain the old behavior, exclude the relevant entries before the concat operation.\n",
      "  df.loc[len(df)] = tmp_row\n",
      "/tmp/ipykernel_53691/1253261533.py:77: FutureWarning: The behavior of DataFrame concatenation with empty or all-NA entries is deprecated. In a future version, this will no longer exclude empty or all-NA columns when determining the result dtypes. To retain the old behavior, exclude the relevant entries before the concat operation.\n",
      "  df.loc[len(df)] = tmp_row\n",
      "/tmp/ipykernel_53691/1253261533.py:77: FutureWarning: The behavior of DataFrame concatenation with empty or all-NA entries is deprecated. In a future version, this will no longer exclude empty or all-NA columns when determining the result dtypes. To retain the old behavior, exclude the relevant entries before the concat operation.\n",
      "  df.loc[len(df)] = tmp_row\n",
      "/tmp/ipykernel_53691/1253261533.py:77: FutureWarning: The behavior of DataFrame concatenation with empty or all-NA entries is deprecated. In a future version, this will no longer exclude empty or all-NA columns when determining the result dtypes. To retain the old behavior, exclude the relevant entries before the concat operation.\n",
      "  df.loc[len(df)] = tmp_row\n"
     ]
    },
    {
     "name": "stdout",
     "output_type": "stream",
     "text": [
      "......0137 files done\n"
     ]
    },
    {
     "name": "stderr",
     "output_type": "stream",
     "text": [
      "/tmp/ipykernel_53691/1253261533.py:28: FutureWarning: The behavior of DataFrame concatenation with empty or all-NA entries is deprecated. In a future version, this will no longer exclude empty or all-NA columns when determining the result dtypes. To retain the old behavior, exclude the relevant entries before the concat operation.\n",
      "  df.loc[len(df)] = tmp_row\n",
      "/tmp/ipykernel_53691/1253261533.py:77: FutureWarning: The behavior of DataFrame concatenation with empty or all-NA entries is deprecated. In a future version, this will no longer exclude empty or all-NA columns when determining the result dtypes. To retain the old behavior, exclude the relevant entries before the concat operation.\n",
      "  df.loc[len(df)] = tmp_row\n",
      "/tmp/ipykernel_53691/1253261533.py:77: FutureWarning: The behavior of DataFrame concatenation with empty or all-NA entries is deprecated. In a future version, this will no longer exclude empty or all-NA columns when determining the result dtypes. To retain the old behavior, exclude the relevant entries before the concat operation.\n",
      "  df.loc[len(df)] = tmp_row\n",
      "/tmp/ipykernel_53691/1253261533.py:77: FutureWarning: The behavior of DataFrame concatenation with empty or all-NA entries is deprecated. In a future version, this will no longer exclude empty or all-NA columns when determining the result dtypes. To retain the old behavior, exclude the relevant entries before the concat operation.\n",
      "  df.loc[len(df)] = tmp_row\n"
     ]
    },
    {
     "name": "stdout",
     "output_type": "stream",
     "text": [
      "......0138 files done\n"
     ]
    },
    {
     "name": "stderr",
     "output_type": "stream",
     "text": [
      "/tmp/ipykernel_53691/1253261533.py:28: FutureWarning: The behavior of DataFrame concatenation with empty or all-NA entries is deprecated. In a future version, this will no longer exclude empty or all-NA columns when determining the result dtypes. To retain the old behavior, exclude the relevant entries before the concat operation.\n",
      "  df.loc[len(df)] = tmp_row\n",
      "/tmp/ipykernel_53691/1253261533.py:77: FutureWarning: The behavior of DataFrame concatenation with empty or all-NA entries is deprecated. In a future version, this will no longer exclude empty or all-NA columns when determining the result dtypes. To retain the old behavior, exclude the relevant entries before the concat operation.\n",
      "  df.loc[len(df)] = tmp_row\n",
      "/tmp/ipykernel_53691/1253261533.py:77: FutureWarning: The behavior of DataFrame concatenation with empty or all-NA entries is deprecated. In a future version, this will no longer exclude empty or all-NA columns when determining the result dtypes. To retain the old behavior, exclude the relevant entries before the concat operation.\n",
      "  df.loc[len(df)] = tmp_row\n",
      "/tmp/ipykernel_53691/1253261533.py:77: FutureWarning: The behavior of DataFrame concatenation with empty or all-NA entries is deprecated. In a future version, this will no longer exclude empty or all-NA columns when determining the result dtypes. To retain the old behavior, exclude the relevant entries before the concat operation.\n",
      "  df.loc[len(df)] = tmp_row\n"
     ]
    },
    {
     "name": "stdout",
     "output_type": "stream",
     "text": [
      "......0139 files done\n"
     ]
    },
    {
     "name": "stderr",
     "output_type": "stream",
     "text": [
      "/tmp/ipykernel_53691/1253261533.py:28: FutureWarning: The behavior of DataFrame concatenation with empty or all-NA entries is deprecated. In a future version, this will no longer exclude empty or all-NA columns when determining the result dtypes. To retain the old behavior, exclude the relevant entries before the concat operation.\n",
      "  df.loc[len(df)] = tmp_row\n",
      "/tmp/ipykernel_53691/1253261533.py:77: FutureWarning: The behavior of DataFrame concatenation with empty or all-NA entries is deprecated. In a future version, this will no longer exclude empty or all-NA columns when determining the result dtypes. To retain the old behavior, exclude the relevant entries before the concat operation.\n",
      "  df.loc[len(df)] = tmp_row\n",
      "/tmp/ipykernel_53691/1253261533.py:77: FutureWarning: The behavior of DataFrame concatenation with empty or all-NA entries is deprecated. In a future version, this will no longer exclude empty or all-NA columns when determining the result dtypes. To retain the old behavior, exclude the relevant entries before the concat operation.\n",
      "  df.loc[len(df)] = tmp_row\n",
      "/tmp/ipykernel_53691/1253261533.py:77: FutureWarning: The behavior of DataFrame concatenation with empty or all-NA entries is deprecated. In a future version, this will no longer exclude empty or all-NA columns when determining the result dtypes. To retain the old behavior, exclude the relevant entries before the concat operation.\n",
      "  df.loc[len(df)] = tmp_row\n"
     ]
    },
    {
     "name": "stdout",
     "output_type": "stream",
     "text": [
      "......0140 files done\n"
     ]
    },
    {
     "name": "stderr",
     "output_type": "stream",
     "text": [
      "/tmp/ipykernel_53691/1253261533.py:28: FutureWarning: The behavior of DataFrame concatenation with empty or all-NA entries is deprecated. In a future version, this will no longer exclude empty or all-NA columns when determining the result dtypes. To retain the old behavior, exclude the relevant entries before the concat operation.\n",
      "  df.loc[len(df)] = tmp_row\n",
      "/tmp/ipykernel_53691/1253261533.py:77: FutureWarning: The behavior of DataFrame concatenation with empty or all-NA entries is deprecated. In a future version, this will no longer exclude empty or all-NA columns when determining the result dtypes. To retain the old behavior, exclude the relevant entries before the concat operation.\n",
      "  df.loc[len(df)] = tmp_row\n",
      "/tmp/ipykernel_53691/1253261533.py:77: FutureWarning: The behavior of DataFrame concatenation with empty or all-NA entries is deprecated. In a future version, this will no longer exclude empty or all-NA columns when determining the result dtypes. To retain the old behavior, exclude the relevant entries before the concat operation.\n",
      "  df.loc[len(df)] = tmp_row\n",
      "/tmp/ipykernel_53691/1253261533.py:77: FutureWarning: The behavior of DataFrame concatenation with empty or all-NA entries is deprecated. In a future version, this will no longer exclude empty or all-NA columns when determining the result dtypes. To retain the old behavior, exclude the relevant entries before the concat operation.\n",
      "  df.loc[len(df)] = tmp_row\n"
     ]
    },
    {
     "name": "stdout",
     "output_type": "stream",
     "text": [
      "......0141 files done\n"
     ]
    },
    {
     "name": "stderr",
     "output_type": "stream",
     "text": [
      "/tmp/ipykernel_53691/1253261533.py:28: FutureWarning: The behavior of DataFrame concatenation with empty or all-NA entries is deprecated. In a future version, this will no longer exclude empty or all-NA columns when determining the result dtypes. To retain the old behavior, exclude the relevant entries before the concat operation.\n",
      "  df.loc[len(df)] = tmp_row\n",
      "/tmp/ipykernel_53691/1253261533.py:77: FutureWarning: The behavior of DataFrame concatenation with empty or all-NA entries is deprecated. In a future version, this will no longer exclude empty or all-NA columns when determining the result dtypes. To retain the old behavior, exclude the relevant entries before the concat operation.\n",
      "  df.loc[len(df)] = tmp_row\n",
      "/tmp/ipykernel_53691/1253261533.py:77: FutureWarning: The behavior of DataFrame concatenation with empty or all-NA entries is deprecated. In a future version, this will no longer exclude empty or all-NA columns when determining the result dtypes. To retain the old behavior, exclude the relevant entries before the concat operation.\n",
      "  df.loc[len(df)] = tmp_row\n",
      "/tmp/ipykernel_53691/1253261533.py:77: FutureWarning: The behavior of DataFrame concatenation with empty or all-NA entries is deprecated. In a future version, this will no longer exclude empty or all-NA columns when determining the result dtypes. To retain the old behavior, exclude the relevant entries before the concat operation.\n",
      "  df.loc[len(df)] = tmp_row\n"
     ]
    },
    {
     "name": "stdout",
     "output_type": "stream",
     "text": [
      "......0142 files done\n"
     ]
    },
    {
     "name": "stderr",
     "output_type": "stream",
     "text": [
      "/tmp/ipykernel_53691/1253261533.py:28: FutureWarning: The behavior of DataFrame concatenation with empty or all-NA entries is deprecated. In a future version, this will no longer exclude empty or all-NA columns when determining the result dtypes. To retain the old behavior, exclude the relevant entries before the concat operation.\n",
      "  df.loc[len(df)] = tmp_row\n",
      "/tmp/ipykernel_53691/1253261533.py:77: FutureWarning: The behavior of DataFrame concatenation with empty or all-NA entries is deprecated. In a future version, this will no longer exclude empty or all-NA columns when determining the result dtypes. To retain the old behavior, exclude the relevant entries before the concat operation.\n",
      "  df.loc[len(df)] = tmp_row\n",
      "/tmp/ipykernel_53691/1253261533.py:77: FutureWarning: The behavior of DataFrame concatenation with empty or all-NA entries is deprecated. In a future version, this will no longer exclude empty or all-NA columns when determining the result dtypes. To retain the old behavior, exclude the relevant entries before the concat operation.\n",
      "  df.loc[len(df)] = tmp_row\n",
      "/tmp/ipykernel_53691/1253261533.py:77: FutureWarning: The behavior of DataFrame concatenation with empty or all-NA entries is deprecated. In a future version, this will no longer exclude empty or all-NA columns when determining the result dtypes. To retain the old behavior, exclude the relevant entries before the concat operation.\n",
      "  df.loc[len(df)] = tmp_row\n"
     ]
    },
    {
     "name": "stdout",
     "output_type": "stream",
     "text": [
      "......0143 files done\n"
     ]
    },
    {
     "name": "stderr",
     "output_type": "stream",
     "text": [
      "/tmp/ipykernel_53691/1253261533.py:28: FutureWarning: The behavior of DataFrame concatenation with empty or all-NA entries is deprecated. In a future version, this will no longer exclude empty or all-NA columns when determining the result dtypes. To retain the old behavior, exclude the relevant entries before the concat operation.\n",
      "  df.loc[len(df)] = tmp_row\n",
      "/tmp/ipykernel_53691/1253261533.py:77: FutureWarning: The behavior of DataFrame concatenation with empty or all-NA entries is deprecated. In a future version, this will no longer exclude empty or all-NA columns when determining the result dtypes. To retain the old behavior, exclude the relevant entries before the concat operation.\n",
      "  df.loc[len(df)] = tmp_row\n",
      "/tmp/ipykernel_53691/1253261533.py:77: FutureWarning: The behavior of DataFrame concatenation with empty or all-NA entries is deprecated. In a future version, this will no longer exclude empty or all-NA columns when determining the result dtypes. To retain the old behavior, exclude the relevant entries before the concat operation.\n",
      "  df.loc[len(df)] = tmp_row\n",
      "/tmp/ipykernel_53691/1253261533.py:77: FutureWarning: The behavior of DataFrame concatenation with empty or all-NA entries is deprecated. In a future version, this will no longer exclude empty or all-NA columns when determining the result dtypes. To retain the old behavior, exclude the relevant entries before the concat operation.\n",
      "  df.loc[len(df)] = tmp_row\n"
     ]
    },
    {
     "name": "stdout",
     "output_type": "stream",
     "text": [
      "......0144 files done\n"
     ]
    },
    {
     "name": "stderr",
     "output_type": "stream",
     "text": [
      "/tmp/ipykernel_53691/1253261533.py:28: FutureWarning: The behavior of DataFrame concatenation with empty or all-NA entries is deprecated. In a future version, this will no longer exclude empty or all-NA columns when determining the result dtypes. To retain the old behavior, exclude the relevant entries before the concat operation.\n",
      "  df.loc[len(df)] = tmp_row\n",
      "/tmp/ipykernel_53691/1253261533.py:77: FutureWarning: The behavior of DataFrame concatenation with empty or all-NA entries is deprecated. In a future version, this will no longer exclude empty or all-NA columns when determining the result dtypes. To retain the old behavior, exclude the relevant entries before the concat operation.\n",
      "  df.loc[len(df)] = tmp_row\n",
      "/tmp/ipykernel_53691/1253261533.py:77: FutureWarning: The behavior of DataFrame concatenation with empty or all-NA entries is deprecated. In a future version, this will no longer exclude empty or all-NA columns when determining the result dtypes. To retain the old behavior, exclude the relevant entries before the concat operation.\n",
      "  df.loc[len(df)] = tmp_row\n",
      "/tmp/ipykernel_53691/1253261533.py:77: FutureWarning: The behavior of DataFrame concatenation with empty or all-NA entries is deprecated. In a future version, this will no longer exclude empty or all-NA columns when determining the result dtypes. To retain the old behavior, exclude the relevant entries before the concat operation.\n",
      "  df.loc[len(df)] = tmp_row\n"
     ]
    },
    {
     "name": "stdout",
     "output_type": "stream",
     "text": [
      "......0145 files done\n"
     ]
    },
    {
     "name": "stderr",
     "output_type": "stream",
     "text": [
      "/tmp/ipykernel_53691/1253261533.py:28: FutureWarning: The behavior of DataFrame concatenation with empty or all-NA entries is deprecated. In a future version, this will no longer exclude empty or all-NA columns when determining the result dtypes. To retain the old behavior, exclude the relevant entries before the concat operation.\n",
      "  df.loc[len(df)] = tmp_row\n",
      "/tmp/ipykernel_53691/1253261533.py:77: FutureWarning: The behavior of DataFrame concatenation with empty or all-NA entries is deprecated. In a future version, this will no longer exclude empty or all-NA columns when determining the result dtypes. To retain the old behavior, exclude the relevant entries before the concat operation.\n",
      "  df.loc[len(df)] = tmp_row\n",
      "/tmp/ipykernel_53691/1253261533.py:77: FutureWarning: The behavior of DataFrame concatenation with empty or all-NA entries is deprecated. In a future version, this will no longer exclude empty or all-NA columns when determining the result dtypes. To retain the old behavior, exclude the relevant entries before the concat operation.\n",
      "  df.loc[len(df)] = tmp_row\n",
      "/tmp/ipykernel_53691/1253261533.py:77: FutureWarning: The behavior of DataFrame concatenation with empty or all-NA entries is deprecated. In a future version, this will no longer exclude empty or all-NA columns when determining the result dtypes. To retain the old behavior, exclude the relevant entries before the concat operation.\n",
      "  df.loc[len(df)] = tmp_row\n"
     ]
    },
    {
     "name": "stdout",
     "output_type": "stream",
     "text": [
      "......0146 files done\n"
     ]
    },
    {
     "name": "stderr",
     "output_type": "stream",
     "text": [
      "/tmp/ipykernel_53691/1253261533.py:28: FutureWarning: The behavior of DataFrame concatenation with empty or all-NA entries is deprecated. In a future version, this will no longer exclude empty or all-NA columns when determining the result dtypes. To retain the old behavior, exclude the relevant entries before the concat operation.\n",
      "  df.loc[len(df)] = tmp_row\n",
      "/tmp/ipykernel_53691/1253261533.py:77: FutureWarning: The behavior of DataFrame concatenation with empty or all-NA entries is deprecated. In a future version, this will no longer exclude empty or all-NA columns when determining the result dtypes. To retain the old behavior, exclude the relevant entries before the concat operation.\n",
      "  df.loc[len(df)] = tmp_row\n",
      "/tmp/ipykernel_53691/1253261533.py:77: FutureWarning: The behavior of DataFrame concatenation with empty or all-NA entries is deprecated. In a future version, this will no longer exclude empty or all-NA columns when determining the result dtypes. To retain the old behavior, exclude the relevant entries before the concat operation.\n",
      "  df.loc[len(df)] = tmp_row\n",
      "/tmp/ipykernel_53691/1253261533.py:77: FutureWarning: The behavior of DataFrame concatenation with empty or all-NA entries is deprecated. In a future version, this will no longer exclude empty or all-NA columns when determining the result dtypes. To retain the old behavior, exclude the relevant entries before the concat operation.\n",
      "  df.loc[len(df)] = tmp_row\n"
     ]
    },
    {
     "name": "stdout",
     "output_type": "stream",
     "text": [
      "......0147 files done\n"
     ]
    },
    {
     "name": "stderr",
     "output_type": "stream",
     "text": [
      "/tmp/ipykernel_53691/1253261533.py:28: FutureWarning: The behavior of DataFrame concatenation with empty or all-NA entries is deprecated. In a future version, this will no longer exclude empty or all-NA columns when determining the result dtypes. To retain the old behavior, exclude the relevant entries before the concat operation.\n",
      "  df.loc[len(df)] = tmp_row\n",
      "/tmp/ipykernel_53691/1253261533.py:77: FutureWarning: The behavior of DataFrame concatenation with empty or all-NA entries is deprecated. In a future version, this will no longer exclude empty or all-NA columns when determining the result dtypes. To retain the old behavior, exclude the relevant entries before the concat operation.\n",
      "  df.loc[len(df)] = tmp_row\n",
      "/tmp/ipykernel_53691/1253261533.py:77: FutureWarning: The behavior of DataFrame concatenation with empty or all-NA entries is deprecated. In a future version, this will no longer exclude empty or all-NA columns when determining the result dtypes. To retain the old behavior, exclude the relevant entries before the concat operation.\n",
      "  df.loc[len(df)] = tmp_row\n",
      "/tmp/ipykernel_53691/1253261533.py:77: FutureWarning: The behavior of DataFrame concatenation with empty or all-NA entries is deprecated. In a future version, this will no longer exclude empty or all-NA columns when determining the result dtypes. To retain the old behavior, exclude the relevant entries before the concat operation.\n",
      "  df.loc[len(df)] = tmp_row\n"
     ]
    },
    {
     "name": "stdout",
     "output_type": "stream",
     "text": [
      "......0148 files done\n"
     ]
    },
    {
     "name": "stderr",
     "output_type": "stream",
     "text": [
      "/tmp/ipykernel_53691/1253261533.py:28: FutureWarning: The behavior of DataFrame concatenation with empty or all-NA entries is deprecated. In a future version, this will no longer exclude empty or all-NA columns when determining the result dtypes. To retain the old behavior, exclude the relevant entries before the concat operation.\n",
      "  df.loc[len(df)] = tmp_row\n",
      "/tmp/ipykernel_53691/1253261533.py:77: FutureWarning: The behavior of DataFrame concatenation with empty or all-NA entries is deprecated. In a future version, this will no longer exclude empty or all-NA columns when determining the result dtypes. To retain the old behavior, exclude the relevant entries before the concat operation.\n",
      "  df.loc[len(df)] = tmp_row\n",
      "/tmp/ipykernel_53691/1253261533.py:77: FutureWarning: The behavior of DataFrame concatenation with empty or all-NA entries is deprecated. In a future version, this will no longer exclude empty or all-NA columns when determining the result dtypes. To retain the old behavior, exclude the relevant entries before the concat operation.\n",
      "  df.loc[len(df)] = tmp_row\n",
      "/tmp/ipykernel_53691/1253261533.py:77: FutureWarning: The behavior of DataFrame concatenation with empty or all-NA entries is deprecated. In a future version, this will no longer exclude empty or all-NA columns when determining the result dtypes. To retain the old behavior, exclude the relevant entries before the concat operation.\n",
      "  df.loc[len(df)] = tmp_row\n"
     ]
    },
    {
     "name": "stdout",
     "output_type": "stream",
     "text": [
      "......0149 files done\n"
     ]
    },
    {
     "name": "stderr",
     "output_type": "stream",
     "text": [
      "/tmp/ipykernel_53691/1253261533.py:28: FutureWarning: The behavior of DataFrame concatenation with empty or all-NA entries is deprecated. In a future version, this will no longer exclude empty or all-NA columns when determining the result dtypes. To retain the old behavior, exclude the relevant entries before the concat operation.\n",
      "  df.loc[len(df)] = tmp_row\n",
      "/tmp/ipykernel_53691/1253261533.py:77: FutureWarning: The behavior of DataFrame concatenation with empty or all-NA entries is deprecated. In a future version, this will no longer exclude empty or all-NA columns when determining the result dtypes. To retain the old behavior, exclude the relevant entries before the concat operation.\n",
      "  df.loc[len(df)] = tmp_row\n",
      "/tmp/ipykernel_53691/1253261533.py:77: FutureWarning: The behavior of DataFrame concatenation with empty or all-NA entries is deprecated. In a future version, this will no longer exclude empty or all-NA columns when determining the result dtypes. To retain the old behavior, exclude the relevant entries before the concat operation.\n",
      "  df.loc[len(df)] = tmp_row\n",
      "/tmp/ipykernel_53691/1253261533.py:77: FutureWarning: The behavior of DataFrame concatenation with empty or all-NA entries is deprecated. In a future version, this will no longer exclude empty or all-NA columns when determining the result dtypes. To retain the old behavior, exclude the relevant entries before the concat operation.\n",
      "  df.loc[len(df)] = tmp_row\n"
     ]
    },
    {
     "name": "stdout",
     "output_type": "stream",
     "text": [
      "......0150 files done\n"
     ]
    },
    {
     "name": "stderr",
     "output_type": "stream",
     "text": [
      "/tmp/ipykernel_53691/1253261533.py:28: FutureWarning: The behavior of DataFrame concatenation with empty or all-NA entries is deprecated. In a future version, this will no longer exclude empty or all-NA columns when determining the result dtypes. To retain the old behavior, exclude the relevant entries before the concat operation.\n",
      "  df.loc[len(df)] = tmp_row\n",
      "/tmp/ipykernel_53691/1253261533.py:77: FutureWarning: The behavior of DataFrame concatenation with empty or all-NA entries is deprecated. In a future version, this will no longer exclude empty or all-NA columns when determining the result dtypes. To retain the old behavior, exclude the relevant entries before the concat operation.\n",
      "  df.loc[len(df)] = tmp_row\n",
      "/tmp/ipykernel_53691/1253261533.py:77: FutureWarning: The behavior of DataFrame concatenation with empty or all-NA entries is deprecated. In a future version, this will no longer exclude empty or all-NA columns when determining the result dtypes. To retain the old behavior, exclude the relevant entries before the concat operation.\n",
      "  df.loc[len(df)] = tmp_row\n",
      "/tmp/ipykernel_53691/1253261533.py:77: FutureWarning: The behavior of DataFrame concatenation with empty or all-NA entries is deprecated. In a future version, this will no longer exclude empty or all-NA columns when determining the result dtypes. To retain the old behavior, exclude the relevant entries before the concat operation.\n",
      "  df.loc[len(df)] = tmp_row\n"
     ]
    },
    {
     "name": "stdout",
     "output_type": "stream",
     "text": [
      "......0151 files done\n"
     ]
    },
    {
     "name": "stderr",
     "output_type": "stream",
     "text": [
      "/tmp/ipykernel_53691/1253261533.py:28: FutureWarning: The behavior of DataFrame concatenation with empty or all-NA entries is deprecated. In a future version, this will no longer exclude empty or all-NA columns when determining the result dtypes. To retain the old behavior, exclude the relevant entries before the concat operation.\n",
      "  df.loc[len(df)] = tmp_row\n",
      "/tmp/ipykernel_53691/1253261533.py:77: FutureWarning: The behavior of DataFrame concatenation with empty or all-NA entries is deprecated. In a future version, this will no longer exclude empty or all-NA columns when determining the result dtypes. To retain the old behavior, exclude the relevant entries before the concat operation.\n",
      "  df.loc[len(df)] = tmp_row\n",
      "/tmp/ipykernel_53691/1253261533.py:77: FutureWarning: The behavior of DataFrame concatenation with empty or all-NA entries is deprecated. In a future version, this will no longer exclude empty or all-NA columns when determining the result dtypes. To retain the old behavior, exclude the relevant entries before the concat operation.\n",
      "  df.loc[len(df)] = tmp_row\n",
      "/tmp/ipykernel_53691/1253261533.py:77: FutureWarning: The behavior of DataFrame concatenation with empty or all-NA entries is deprecated. In a future version, this will no longer exclude empty or all-NA columns when determining the result dtypes. To retain the old behavior, exclude the relevant entries before the concat operation.\n",
      "  df.loc[len(df)] = tmp_row\n"
     ]
    },
    {
     "name": "stdout",
     "output_type": "stream",
     "text": [
      "......0152 files done\n"
     ]
    },
    {
     "name": "stderr",
     "output_type": "stream",
     "text": [
      "/tmp/ipykernel_53691/1253261533.py:28: FutureWarning: The behavior of DataFrame concatenation with empty or all-NA entries is deprecated. In a future version, this will no longer exclude empty or all-NA columns when determining the result dtypes. To retain the old behavior, exclude the relevant entries before the concat operation.\n",
      "  df.loc[len(df)] = tmp_row\n",
      "/tmp/ipykernel_53691/1253261533.py:77: FutureWarning: The behavior of DataFrame concatenation with empty or all-NA entries is deprecated. In a future version, this will no longer exclude empty or all-NA columns when determining the result dtypes. To retain the old behavior, exclude the relevant entries before the concat operation.\n",
      "  df.loc[len(df)] = tmp_row\n",
      "/tmp/ipykernel_53691/1253261533.py:77: FutureWarning: The behavior of DataFrame concatenation with empty or all-NA entries is deprecated. In a future version, this will no longer exclude empty or all-NA columns when determining the result dtypes. To retain the old behavior, exclude the relevant entries before the concat operation.\n",
      "  df.loc[len(df)] = tmp_row\n",
      "/tmp/ipykernel_53691/1253261533.py:77: FutureWarning: The behavior of DataFrame concatenation with empty or all-NA entries is deprecated. In a future version, this will no longer exclude empty or all-NA columns when determining the result dtypes. To retain the old behavior, exclude the relevant entries before the concat operation.\n",
      "  df.loc[len(df)] = tmp_row\n"
     ]
    },
    {
     "name": "stdout",
     "output_type": "stream",
     "text": [
      "......0153 files done\n"
     ]
    },
    {
     "name": "stderr",
     "output_type": "stream",
     "text": [
      "/tmp/ipykernel_53691/1253261533.py:28: FutureWarning: The behavior of DataFrame concatenation with empty or all-NA entries is deprecated. In a future version, this will no longer exclude empty or all-NA columns when determining the result dtypes. To retain the old behavior, exclude the relevant entries before the concat operation.\n",
      "  df.loc[len(df)] = tmp_row\n",
      "/tmp/ipykernel_53691/1253261533.py:77: FutureWarning: The behavior of DataFrame concatenation with empty or all-NA entries is deprecated. In a future version, this will no longer exclude empty or all-NA columns when determining the result dtypes. To retain the old behavior, exclude the relevant entries before the concat operation.\n",
      "  df.loc[len(df)] = tmp_row\n",
      "/tmp/ipykernel_53691/1253261533.py:77: FutureWarning: The behavior of DataFrame concatenation with empty or all-NA entries is deprecated. In a future version, this will no longer exclude empty or all-NA columns when determining the result dtypes. To retain the old behavior, exclude the relevant entries before the concat operation.\n",
      "  df.loc[len(df)] = tmp_row\n",
      "/tmp/ipykernel_53691/1253261533.py:77: FutureWarning: The behavior of DataFrame concatenation with empty or all-NA entries is deprecated. In a future version, this will no longer exclude empty or all-NA columns when determining the result dtypes. To retain the old behavior, exclude the relevant entries before the concat operation.\n",
      "  df.loc[len(df)] = tmp_row\n"
     ]
    },
    {
     "name": "stdout",
     "output_type": "stream",
     "text": [
      "......0154 files done\n"
     ]
    },
    {
     "name": "stderr",
     "output_type": "stream",
     "text": [
      "/tmp/ipykernel_53691/1253261533.py:28: FutureWarning: The behavior of DataFrame concatenation with empty or all-NA entries is deprecated. In a future version, this will no longer exclude empty or all-NA columns when determining the result dtypes. To retain the old behavior, exclude the relevant entries before the concat operation.\n",
      "  df.loc[len(df)] = tmp_row\n",
      "/tmp/ipykernel_53691/1253261533.py:77: FutureWarning: The behavior of DataFrame concatenation with empty or all-NA entries is deprecated. In a future version, this will no longer exclude empty or all-NA columns when determining the result dtypes. To retain the old behavior, exclude the relevant entries before the concat operation.\n",
      "  df.loc[len(df)] = tmp_row\n",
      "/tmp/ipykernel_53691/1253261533.py:77: FutureWarning: The behavior of DataFrame concatenation with empty or all-NA entries is deprecated. In a future version, this will no longer exclude empty or all-NA columns when determining the result dtypes. To retain the old behavior, exclude the relevant entries before the concat operation.\n",
      "  df.loc[len(df)] = tmp_row\n",
      "/tmp/ipykernel_53691/1253261533.py:77: FutureWarning: The behavior of DataFrame concatenation with empty or all-NA entries is deprecated. In a future version, this will no longer exclude empty or all-NA columns when determining the result dtypes. To retain the old behavior, exclude the relevant entries before the concat operation.\n",
      "  df.loc[len(df)] = tmp_row\n"
     ]
    },
    {
     "name": "stdout",
     "output_type": "stream",
     "text": [
      "......0155 files done\n"
     ]
    },
    {
     "name": "stderr",
     "output_type": "stream",
     "text": [
      "/tmp/ipykernel_53691/1253261533.py:28: FutureWarning: The behavior of DataFrame concatenation with empty or all-NA entries is deprecated. In a future version, this will no longer exclude empty or all-NA columns when determining the result dtypes. To retain the old behavior, exclude the relevant entries before the concat operation.\n",
      "  df.loc[len(df)] = tmp_row\n",
      "/tmp/ipykernel_53691/1253261533.py:77: FutureWarning: The behavior of DataFrame concatenation with empty or all-NA entries is deprecated. In a future version, this will no longer exclude empty or all-NA columns when determining the result dtypes. To retain the old behavior, exclude the relevant entries before the concat operation.\n",
      "  df.loc[len(df)] = tmp_row\n",
      "/tmp/ipykernel_53691/1253261533.py:77: FutureWarning: The behavior of DataFrame concatenation with empty or all-NA entries is deprecated. In a future version, this will no longer exclude empty or all-NA columns when determining the result dtypes. To retain the old behavior, exclude the relevant entries before the concat operation.\n",
      "  df.loc[len(df)] = tmp_row\n",
      "/tmp/ipykernel_53691/1253261533.py:77: FutureWarning: The behavior of DataFrame concatenation with empty or all-NA entries is deprecated. In a future version, this will no longer exclude empty or all-NA columns when determining the result dtypes. To retain the old behavior, exclude the relevant entries before the concat operation.\n",
      "  df.loc[len(df)] = tmp_row\n"
     ]
    },
    {
     "name": "stdout",
     "output_type": "stream",
     "text": [
      "......0156 files done\n",
      "......0157 files done\n",
      "......0158 files done\n",
      "......0159 files done\n",
      "......0160 files done\n",
      "......0161 files done\n",
      "......0162 files done\n",
      "......0163 files done\n",
      "......0164 files done\n",
      "......0165 files done\n",
      "......0166 files done\n",
      "......0167 files done\n",
      "......0168 files done\n",
      "......0169 files done\n",
      "......0170 files done\n",
      "......0171 files done\n",
      "......0172 files done\n",
      "......0173 files done\n",
      "......0174 files done\n",
      "......0175 files done\n",
      "......0176 files done\n",
      "......0177 files done\n",
      "......0178 files done\n",
      "......0179 files done\n",
      "......0180 files done\n",
      "......0181 files done\n",
      "......0182 files done\n",
      "......0183 files done\n",
      "......0184 files done\n",
      "......0185 files done\n",
      "......0186 files done\n",
      "......0187 files done\n",
      "......0188 files done\n",
      "......0189 files done\n",
      "......0190 files done\n",
      "......0191 files done\n",
      "......0192 files done\n",
      "......0193 files done\n",
      "......0194 files done\n",
      "......0195 files done\n",
      "......0196 files done\n",
      "......0197 files done\n",
      "......0198 files done\n",
      "......0199 files done\n",
      "......0200 files done\n",
      "......0201 files done\n",
      "......0202 files done\n",
      "......0203 files done\n",
      "......0204 files done\n",
      "......0205 files done\n",
      "......0206 files done\n",
      "......0207 files done\n",
      "......0208 files done\n",
      "......0209 files done\n",
      "......0210 files done\n",
      "......0211 files done\n",
      "......0212 files done\n",
      "......0213 files done\n",
      "......0214 files done\n",
      "......0215 files done\n",
      "......0216 files done\n",
      "......0217 files done\n",
      "......0218 files done\n",
      "......0219 files done\n",
      "......0220 files done\n",
      "......0221 files done\n",
      "......0222 files done\n",
      "......0223 files done\n",
      "......0224 files done\n",
      "......0225 files done\n",
      "......0226 files done\n",
      "......0227 files done\n",
      "......0228 files done\n",
      "......0229 files done\n",
      "......0230 files done\n",
      "......0231 files done\n",
      "......0232 files done\n",
      "......0233 files done\n",
      "......0234 files done\n",
      "......0235 files done\n",
      "......0236 files done\n",
      "......0237 files done\n",
      "......0238 files done\n",
      "......0239 files done\n",
      "......0240 files done\n",
      "......0241 files done\n",
      "......0242 files done\n",
      "......0243 files done\n",
      "......0244 files done\n",
      "......0245 files done\n",
      "......0246 files done\n",
      "......0247 files done\n",
      "......0248 files done\n",
      "......0249 files done\n",
      "......0250 files done\n",
      "......0251 files done\n",
      "......0252 files done\n",
      "......0253 files done\n",
      "......0254 files done\n",
      "......0255 files done\n",
      "......0256 files done\n"
     ]
    },
    {
     "name": "stderr",
     "output_type": "stream",
     "text": [
      "/tmp/ipykernel_53691/1253261533.py:28: FutureWarning: The behavior of DataFrame concatenation with empty or all-NA entries is deprecated. In a future version, this will no longer exclude empty or all-NA columns when determining the result dtypes. To retain the old behavior, exclude the relevant entries before the concat operation.\n",
      "  df.loc[len(df)] = tmp_row\n",
      "/tmp/ipykernel_53691/1253261533.py:77: FutureWarning: The behavior of DataFrame concatenation with empty or all-NA entries is deprecated. In a future version, this will no longer exclude empty or all-NA columns when determining the result dtypes. To retain the old behavior, exclude the relevant entries before the concat operation.\n",
      "  df.loc[len(df)] = tmp_row\n",
      "/tmp/ipykernel_53691/1253261533.py:77: FutureWarning: The behavior of DataFrame concatenation with empty or all-NA entries is deprecated. In a future version, this will no longer exclude empty or all-NA columns when determining the result dtypes. To retain the old behavior, exclude the relevant entries before the concat operation.\n",
      "  df.loc[len(df)] = tmp_row\n",
      "/tmp/ipykernel_53691/1253261533.py:77: FutureWarning: The behavior of DataFrame concatenation with empty or all-NA entries is deprecated. In a future version, this will no longer exclude empty or all-NA columns when determining the result dtypes. To retain the old behavior, exclude the relevant entries before the concat operation.\n",
      "  df.loc[len(df)] = tmp_row\n"
     ]
    },
    {
     "name": "stdout",
     "output_type": "stream",
     "text": [
      "......0257 files done\n"
     ]
    },
    {
     "name": "stderr",
     "output_type": "stream",
     "text": [
      "/tmp/ipykernel_53691/1253261533.py:28: FutureWarning: The behavior of DataFrame concatenation with empty or all-NA entries is deprecated. In a future version, this will no longer exclude empty or all-NA columns when determining the result dtypes. To retain the old behavior, exclude the relevant entries before the concat operation.\n",
      "  df.loc[len(df)] = tmp_row\n",
      "/tmp/ipykernel_53691/1253261533.py:77: FutureWarning: The behavior of DataFrame concatenation with empty or all-NA entries is deprecated. In a future version, this will no longer exclude empty or all-NA columns when determining the result dtypes. To retain the old behavior, exclude the relevant entries before the concat operation.\n",
      "  df.loc[len(df)] = tmp_row\n",
      "/tmp/ipykernel_53691/1253261533.py:77: FutureWarning: The behavior of DataFrame concatenation with empty or all-NA entries is deprecated. In a future version, this will no longer exclude empty or all-NA columns when determining the result dtypes. To retain the old behavior, exclude the relevant entries before the concat operation.\n",
      "  df.loc[len(df)] = tmp_row\n",
      "/tmp/ipykernel_53691/1253261533.py:77: FutureWarning: The behavior of DataFrame concatenation with empty or all-NA entries is deprecated. In a future version, this will no longer exclude empty or all-NA columns when determining the result dtypes. To retain the old behavior, exclude the relevant entries before the concat operation.\n",
      "  df.loc[len(df)] = tmp_row\n"
     ]
    },
    {
     "name": "stdout",
     "output_type": "stream",
     "text": [
      "......0258 files done\n"
     ]
    },
    {
     "name": "stderr",
     "output_type": "stream",
     "text": [
      "/tmp/ipykernel_53691/1253261533.py:28: FutureWarning: The behavior of DataFrame concatenation with empty or all-NA entries is deprecated. In a future version, this will no longer exclude empty or all-NA columns when determining the result dtypes. To retain the old behavior, exclude the relevant entries before the concat operation.\n",
      "  df.loc[len(df)] = tmp_row\n",
      "/tmp/ipykernel_53691/1253261533.py:77: FutureWarning: The behavior of DataFrame concatenation with empty or all-NA entries is deprecated. In a future version, this will no longer exclude empty or all-NA columns when determining the result dtypes. To retain the old behavior, exclude the relevant entries before the concat operation.\n",
      "  df.loc[len(df)] = tmp_row\n",
      "/tmp/ipykernel_53691/1253261533.py:77: FutureWarning: The behavior of DataFrame concatenation with empty or all-NA entries is deprecated. In a future version, this will no longer exclude empty or all-NA columns when determining the result dtypes. To retain the old behavior, exclude the relevant entries before the concat operation.\n",
      "  df.loc[len(df)] = tmp_row\n",
      "/tmp/ipykernel_53691/1253261533.py:77: FutureWarning: The behavior of DataFrame concatenation with empty or all-NA entries is deprecated. In a future version, this will no longer exclude empty or all-NA columns when determining the result dtypes. To retain the old behavior, exclude the relevant entries before the concat operation.\n",
      "  df.loc[len(df)] = tmp_row\n"
     ]
    },
    {
     "name": "stdout",
     "output_type": "stream",
     "text": [
      "......0259 files done\n"
     ]
    },
    {
     "name": "stderr",
     "output_type": "stream",
     "text": [
      "/tmp/ipykernel_53691/1253261533.py:28: FutureWarning: The behavior of DataFrame concatenation with empty or all-NA entries is deprecated. In a future version, this will no longer exclude empty or all-NA columns when determining the result dtypes. To retain the old behavior, exclude the relevant entries before the concat operation.\n",
      "  df.loc[len(df)] = tmp_row\n",
      "/tmp/ipykernel_53691/1253261533.py:77: FutureWarning: The behavior of DataFrame concatenation with empty or all-NA entries is deprecated. In a future version, this will no longer exclude empty or all-NA columns when determining the result dtypes. To retain the old behavior, exclude the relevant entries before the concat operation.\n",
      "  df.loc[len(df)] = tmp_row\n",
      "/tmp/ipykernel_53691/1253261533.py:77: FutureWarning: The behavior of DataFrame concatenation with empty or all-NA entries is deprecated. In a future version, this will no longer exclude empty or all-NA columns when determining the result dtypes. To retain the old behavior, exclude the relevant entries before the concat operation.\n",
      "  df.loc[len(df)] = tmp_row\n",
      "/tmp/ipykernel_53691/1253261533.py:77: FutureWarning: The behavior of DataFrame concatenation with empty or all-NA entries is deprecated. In a future version, this will no longer exclude empty or all-NA columns when determining the result dtypes. To retain the old behavior, exclude the relevant entries before the concat operation.\n",
      "  df.loc[len(df)] = tmp_row\n"
     ]
    },
    {
     "name": "stdout",
     "output_type": "stream",
     "text": [
      "......0260 files done\n"
     ]
    },
    {
     "name": "stderr",
     "output_type": "stream",
     "text": [
      "/tmp/ipykernel_53691/1253261533.py:28: FutureWarning: The behavior of DataFrame concatenation with empty or all-NA entries is deprecated. In a future version, this will no longer exclude empty or all-NA columns when determining the result dtypes. To retain the old behavior, exclude the relevant entries before the concat operation.\n",
      "  df.loc[len(df)] = tmp_row\n",
      "/tmp/ipykernel_53691/1253261533.py:77: FutureWarning: The behavior of DataFrame concatenation with empty or all-NA entries is deprecated. In a future version, this will no longer exclude empty or all-NA columns when determining the result dtypes. To retain the old behavior, exclude the relevant entries before the concat operation.\n",
      "  df.loc[len(df)] = tmp_row\n",
      "/tmp/ipykernel_53691/1253261533.py:77: FutureWarning: The behavior of DataFrame concatenation with empty or all-NA entries is deprecated. In a future version, this will no longer exclude empty or all-NA columns when determining the result dtypes. To retain the old behavior, exclude the relevant entries before the concat operation.\n",
      "  df.loc[len(df)] = tmp_row\n",
      "/tmp/ipykernel_53691/1253261533.py:77: FutureWarning: The behavior of DataFrame concatenation with empty or all-NA entries is deprecated. In a future version, this will no longer exclude empty or all-NA columns when determining the result dtypes. To retain the old behavior, exclude the relevant entries before the concat operation.\n",
      "  df.loc[len(df)] = tmp_row\n"
     ]
    },
    {
     "name": "stdout",
     "output_type": "stream",
     "text": [
      "......0261 files done\n"
     ]
    },
    {
     "name": "stderr",
     "output_type": "stream",
     "text": [
      "/tmp/ipykernel_53691/1253261533.py:28: FutureWarning: The behavior of DataFrame concatenation with empty or all-NA entries is deprecated. In a future version, this will no longer exclude empty or all-NA columns when determining the result dtypes. To retain the old behavior, exclude the relevant entries before the concat operation.\n",
      "  df.loc[len(df)] = tmp_row\n",
      "/tmp/ipykernel_53691/1253261533.py:77: FutureWarning: The behavior of DataFrame concatenation with empty or all-NA entries is deprecated. In a future version, this will no longer exclude empty or all-NA columns when determining the result dtypes. To retain the old behavior, exclude the relevant entries before the concat operation.\n",
      "  df.loc[len(df)] = tmp_row\n",
      "/tmp/ipykernel_53691/1253261533.py:77: FutureWarning: The behavior of DataFrame concatenation with empty or all-NA entries is deprecated. In a future version, this will no longer exclude empty or all-NA columns when determining the result dtypes. To retain the old behavior, exclude the relevant entries before the concat operation.\n",
      "  df.loc[len(df)] = tmp_row\n",
      "/tmp/ipykernel_53691/1253261533.py:77: FutureWarning: The behavior of DataFrame concatenation with empty or all-NA entries is deprecated. In a future version, this will no longer exclude empty or all-NA columns when determining the result dtypes. To retain the old behavior, exclude the relevant entries before the concat operation.\n",
      "  df.loc[len(df)] = tmp_row\n"
     ]
    },
    {
     "name": "stdout",
     "output_type": "stream",
     "text": [
      "......0262 files done\n"
     ]
    },
    {
     "name": "stderr",
     "output_type": "stream",
     "text": [
      "/tmp/ipykernel_53691/1253261533.py:28: FutureWarning: The behavior of DataFrame concatenation with empty or all-NA entries is deprecated. In a future version, this will no longer exclude empty or all-NA columns when determining the result dtypes. To retain the old behavior, exclude the relevant entries before the concat operation.\n",
      "  df.loc[len(df)] = tmp_row\n",
      "/tmp/ipykernel_53691/1253261533.py:77: FutureWarning: The behavior of DataFrame concatenation with empty or all-NA entries is deprecated. In a future version, this will no longer exclude empty or all-NA columns when determining the result dtypes. To retain the old behavior, exclude the relevant entries before the concat operation.\n",
      "  df.loc[len(df)] = tmp_row\n",
      "/tmp/ipykernel_53691/1253261533.py:77: FutureWarning: The behavior of DataFrame concatenation with empty or all-NA entries is deprecated. In a future version, this will no longer exclude empty or all-NA columns when determining the result dtypes. To retain the old behavior, exclude the relevant entries before the concat operation.\n",
      "  df.loc[len(df)] = tmp_row\n",
      "/tmp/ipykernel_53691/1253261533.py:77: FutureWarning: The behavior of DataFrame concatenation with empty or all-NA entries is deprecated. In a future version, this will no longer exclude empty or all-NA columns when determining the result dtypes. To retain the old behavior, exclude the relevant entries before the concat operation.\n",
      "  df.loc[len(df)] = tmp_row\n"
     ]
    },
    {
     "name": "stdout",
     "output_type": "stream",
     "text": [
      "......0263 files done\n"
     ]
    },
    {
     "name": "stderr",
     "output_type": "stream",
     "text": [
      "/tmp/ipykernel_53691/1253261533.py:28: FutureWarning: The behavior of DataFrame concatenation with empty or all-NA entries is deprecated. In a future version, this will no longer exclude empty or all-NA columns when determining the result dtypes. To retain the old behavior, exclude the relevant entries before the concat operation.\n",
      "  df.loc[len(df)] = tmp_row\n",
      "/tmp/ipykernel_53691/1253261533.py:77: FutureWarning: The behavior of DataFrame concatenation with empty or all-NA entries is deprecated. In a future version, this will no longer exclude empty or all-NA columns when determining the result dtypes. To retain the old behavior, exclude the relevant entries before the concat operation.\n",
      "  df.loc[len(df)] = tmp_row\n",
      "/tmp/ipykernel_53691/1253261533.py:77: FutureWarning: The behavior of DataFrame concatenation with empty or all-NA entries is deprecated. In a future version, this will no longer exclude empty or all-NA columns when determining the result dtypes. To retain the old behavior, exclude the relevant entries before the concat operation.\n",
      "  df.loc[len(df)] = tmp_row\n",
      "/tmp/ipykernel_53691/1253261533.py:77: FutureWarning: The behavior of DataFrame concatenation with empty or all-NA entries is deprecated. In a future version, this will no longer exclude empty or all-NA columns when determining the result dtypes. To retain the old behavior, exclude the relevant entries before the concat operation.\n",
      "  df.loc[len(df)] = tmp_row\n"
     ]
    },
    {
     "name": "stdout",
     "output_type": "stream",
     "text": [
      "......0264 files done\n"
     ]
    },
    {
     "name": "stderr",
     "output_type": "stream",
     "text": [
      "/tmp/ipykernel_53691/1253261533.py:28: FutureWarning: The behavior of DataFrame concatenation with empty or all-NA entries is deprecated. In a future version, this will no longer exclude empty or all-NA columns when determining the result dtypes. To retain the old behavior, exclude the relevant entries before the concat operation.\n",
      "  df.loc[len(df)] = tmp_row\n",
      "/tmp/ipykernel_53691/1253261533.py:77: FutureWarning: The behavior of DataFrame concatenation with empty or all-NA entries is deprecated. In a future version, this will no longer exclude empty or all-NA columns when determining the result dtypes. To retain the old behavior, exclude the relevant entries before the concat operation.\n",
      "  df.loc[len(df)] = tmp_row\n",
      "/tmp/ipykernel_53691/1253261533.py:77: FutureWarning: The behavior of DataFrame concatenation with empty or all-NA entries is deprecated. In a future version, this will no longer exclude empty or all-NA columns when determining the result dtypes. To retain the old behavior, exclude the relevant entries before the concat operation.\n",
      "  df.loc[len(df)] = tmp_row\n",
      "/tmp/ipykernel_53691/1253261533.py:77: FutureWarning: The behavior of DataFrame concatenation with empty or all-NA entries is deprecated. In a future version, this will no longer exclude empty or all-NA columns when determining the result dtypes. To retain the old behavior, exclude the relevant entries before the concat operation.\n",
      "  df.loc[len(df)] = tmp_row\n"
     ]
    },
    {
     "name": "stdout",
     "output_type": "stream",
     "text": [
      "......0265 files done\n"
     ]
    },
    {
     "name": "stderr",
     "output_type": "stream",
     "text": [
      "/tmp/ipykernel_53691/1253261533.py:28: FutureWarning: The behavior of DataFrame concatenation with empty or all-NA entries is deprecated. In a future version, this will no longer exclude empty or all-NA columns when determining the result dtypes. To retain the old behavior, exclude the relevant entries before the concat operation.\n",
      "  df.loc[len(df)] = tmp_row\n",
      "/tmp/ipykernel_53691/1253261533.py:77: FutureWarning: The behavior of DataFrame concatenation with empty or all-NA entries is deprecated. In a future version, this will no longer exclude empty or all-NA columns when determining the result dtypes. To retain the old behavior, exclude the relevant entries before the concat operation.\n",
      "  df.loc[len(df)] = tmp_row\n",
      "/tmp/ipykernel_53691/1253261533.py:77: FutureWarning: The behavior of DataFrame concatenation with empty or all-NA entries is deprecated. In a future version, this will no longer exclude empty or all-NA columns when determining the result dtypes. To retain the old behavior, exclude the relevant entries before the concat operation.\n",
      "  df.loc[len(df)] = tmp_row\n",
      "/tmp/ipykernel_53691/1253261533.py:77: FutureWarning: The behavior of DataFrame concatenation with empty or all-NA entries is deprecated. In a future version, this will no longer exclude empty or all-NA columns when determining the result dtypes. To retain the old behavior, exclude the relevant entries before the concat operation.\n",
      "  df.loc[len(df)] = tmp_row\n"
     ]
    },
    {
     "name": "stdout",
     "output_type": "stream",
     "text": [
      "......0266 files done\n"
     ]
    },
    {
     "name": "stderr",
     "output_type": "stream",
     "text": [
      "/tmp/ipykernel_53691/1253261533.py:28: FutureWarning: The behavior of DataFrame concatenation with empty or all-NA entries is deprecated. In a future version, this will no longer exclude empty or all-NA columns when determining the result dtypes. To retain the old behavior, exclude the relevant entries before the concat operation.\n",
      "  df.loc[len(df)] = tmp_row\n",
      "/tmp/ipykernel_53691/1253261533.py:77: FutureWarning: The behavior of DataFrame concatenation with empty or all-NA entries is deprecated. In a future version, this will no longer exclude empty or all-NA columns when determining the result dtypes. To retain the old behavior, exclude the relevant entries before the concat operation.\n",
      "  df.loc[len(df)] = tmp_row\n",
      "/tmp/ipykernel_53691/1253261533.py:77: FutureWarning: The behavior of DataFrame concatenation with empty or all-NA entries is deprecated. In a future version, this will no longer exclude empty or all-NA columns when determining the result dtypes. To retain the old behavior, exclude the relevant entries before the concat operation.\n",
      "  df.loc[len(df)] = tmp_row\n",
      "/tmp/ipykernel_53691/1253261533.py:77: FutureWarning: The behavior of DataFrame concatenation with empty or all-NA entries is deprecated. In a future version, this will no longer exclude empty or all-NA columns when determining the result dtypes. To retain the old behavior, exclude the relevant entries before the concat operation.\n",
      "  df.loc[len(df)] = tmp_row\n"
     ]
    },
    {
     "name": "stdout",
     "output_type": "stream",
     "text": [
      "......0267 files done\n"
     ]
    },
    {
     "name": "stderr",
     "output_type": "stream",
     "text": [
      "/tmp/ipykernel_53691/1253261533.py:28: FutureWarning: The behavior of DataFrame concatenation with empty or all-NA entries is deprecated. In a future version, this will no longer exclude empty or all-NA columns when determining the result dtypes. To retain the old behavior, exclude the relevant entries before the concat operation.\n",
      "  df.loc[len(df)] = tmp_row\n",
      "/tmp/ipykernel_53691/1253261533.py:77: FutureWarning: The behavior of DataFrame concatenation with empty or all-NA entries is deprecated. In a future version, this will no longer exclude empty or all-NA columns when determining the result dtypes. To retain the old behavior, exclude the relevant entries before the concat operation.\n",
      "  df.loc[len(df)] = tmp_row\n",
      "/tmp/ipykernel_53691/1253261533.py:77: FutureWarning: The behavior of DataFrame concatenation with empty or all-NA entries is deprecated. In a future version, this will no longer exclude empty or all-NA columns when determining the result dtypes. To retain the old behavior, exclude the relevant entries before the concat operation.\n",
      "  df.loc[len(df)] = tmp_row\n",
      "/tmp/ipykernel_53691/1253261533.py:77: FutureWarning: The behavior of DataFrame concatenation with empty or all-NA entries is deprecated. In a future version, this will no longer exclude empty or all-NA columns when determining the result dtypes. To retain the old behavior, exclude the relevant entries before the concat operation.\n",
      "  df.loc[len(df)] = tmp_row\n"
     ]
    },
    {
     "name": "stdout",
     "output_type": "stream",
     "text": [
      "......0268 files done\n"
     ]
    },
    {
     "name": "stderr",
     "output_type": "stream",
     "text": [
      "/tmp/ipykernel_53691/1253261533.py:28: FutureWarning: The behavior of DataFrame concatenation with empty or all-NA entries is deprecated. In a future version, this will no longer exclude empty or all-NA columns when determining the result dtypes. To retain the old behavior, exclude the relevant entries before the concat operation.\n",
      "  df.loc[len(df)] = tmp_row\n",
      "/tmp/ipykernel_53691/1253261533.py:77: FutureWarning: The behavior of DataFrame concatenation with empty or all-NA entries is deprecated. In a future version, this will no longer exclude empty or all-NA columns when determining the result dtypes. To retain the old behavior, exclude the relevant entries before the concat operation.\n",
      "  df.loc[len(df)] = tmp_row\n",
      "/tmp/ipykernel_53691/1253261533.py:77: FutureWarning: The behavior of DataFrame concatenation with empty or all-NA entries is deprecated. In a future version, this will no longer exclude empty or all-NA columns when determining the result dtypes. To retain the old behavior, exclude the relevant entries before the concat operation.\n",
      "  df.loc[len(df)] = tmp_row\n",
      "/tmp/ipykernel_53691/1253261533.py:77: FutureWarning: The behavior of DataFrame concatenation with empty or all-NA entries is deprecated. In a future version, this will no longer exclude empty or all-NA columns when determining the result dtypes. To retain the old behavior, exclude the relevant entries before the concat operation.\n",
      "  df.loc[len(df)] = tmp_row\n"
     ]
    },
    {
     "name": "stdout",
     "output_type": "stream",
     "text": [
      "......0269 files done\n"
     ]
    },
    {
     "name": "stderr",
     "output_type": "stream",
     "text": [
      "/tmp/ipykernel_53691/1253261533.py:28: FutureWarning: The behavior of DataFrame concatenation with empty or all-NA entries is deprecated. In a future version, this will no longer exclude empty or all-NA columns when determining the result dtypes. To retain the old behavior, exclude the relevant entries before the concat operation.\n",
      "  df.loc[len(df)] = tmp_row\n",
      "/tmp/ipykernel_53691/1253261533.py:77: FutureWarning: The behavior of DataFrame concatenation with empty or all-NA entries is deprecated. In a future version, this will no longer exclude empty or all-NA columns when determining the result dtypes. To retain the old behavior, exclude the relevant entries before the concat operation.\n",
      "  df.loc[len(df)] = tmp_row\n",
      "/tmp/ipykernel_53691/1253261533.py:77: FutureWarning: The behavior of DataFrame concatenation with empty or all-NA entries is deprecated. In a future version, this will no longer exclude empty or all-NA columns when determining the result dtypes. To retain the old behavior, exclude the relevant entries before the concat operation.\n",
      "  df.loc[len(df)] = tmp_row\n",
      "/tmp/ipykernel_53691/1253261533.py:77: FutureWarning: The behavior of DataFrame concatenation with empty or all-NA entries is deprecated. In a future version, this will no longer exclude empty or all-NA columns when determining the result dtypes. To retain the old behavior, exclude the relevant entries before the concat operation.\n",
      "  df.loc[len(df)] = tmp_row\n"
     ]
    },
    {
     "name": "stdout",
     "output_type": "stream",
     "text": [
      "......0270 files done\n"
     ]
    },
    {
     "name": "stderr",
     "output_type": "stream",
     "text": [
      "/tmp/ipykernel_53691/1253261533.py:28: FutureWarning: The behavior of DataFrame concatenation with empty or all-NA entries is deprecated. In a future version, this will no longer exclude empty or all-NA columns when determining the result dtypes. To retain the old behavior, exclude the relevant entries before the concat operation.\n",
      "  df.loc[len(df)] = tmp_row\n",
      "/tmp/ipykernel_53691/1253261533.py:77: FutureWarning: The behavior of DataFrame concatenation with empty or all-NA entries is deprecated. In a future version, this will no longer exclude empty or all-NA columns when determining the result dtypes. To retain the old behavior, exclude the relevant entries before the concat operation.\n",
      "  df.loc[len(df)] = tmp_row\n",
      "/tmp/ipykernel_53691/1253261533.py:77: FutureWarning: The behavior of DataFrame concatenation with empty or all-NA entries is deprecated. In a future version, this will no longer exclude empty or all-NA columns when determining the result dtypes. To retain the old behavior, exclude the relevant entries before the concat operation.\n",
      "  df.loc[len(df)] = tmp_row\n",
      "/tmp/ipykernel_53691/1253261533.py:77: FutureWarning: The behavior of DataFrame concatenation with empty or all-NA entries is deprecated. In a future version, this will no longer exclude empty or all-NA columns when determining the result dtypes. To retain the old behavior, exclude the relevant entries before the concat operation.\n",
      "  df.loc[len(df)] = tmp_row\n"
     ]
    },
    {
     "name": "stdout",
     "output_type": "stream",
     "text": [
      "......0271 files done\n"
     ]
    },
    {
     "name": "stderr",
     "output_type": "stream",
     "text": [
      "/tmp/ipykernel_53691/1253261533.py:28: FutureWarning: The behavior of DataFrame concatenation with empty or all-NA entries is deprecated. In a future version, this will no longer exclude empty or all-NA columns when determining the result dtypes. To retain the old behavior, exclude the relevant entries before the concat operation.\n",
      "  df.loc[len(df)] = tmp_row\n",
      "/tmp/ipykernel_53691/1253261533.py:77: FutureWarning: The behavior of DataFrame concatenation with empty or all-NA entries is deprecated. In a future version, this will no longer exclude empty or all-NA columns when determining the result dtypes. To retain the old behavior, exclude the relevant entries before the concat operation.\n",
      "  df.loc[len(df)] = tmp_row\n",
      "/tmp/ipykernel_53691/1253261533.py:77: FutureWarning: The behavior of DataFrame concatenation with empty or all-NA entries is deprecated. In a future version, this will no longer exclude empty or all-NA columns when determining the result dtypes. To retain the old behavior, exclude the relevant entries before the concat operation.\n",
      "  df.loc[len(df)] = tmp_row\n",
      "/tmp/ipykernel_53691/1253261533.py:77: FutureWarning: The behavior of DataFrame concatenation with empty or all-NA entries is deprecated. In a future version, this will no longer exclude empty or all-NA columns when determining the result dtypes. To retain the old behavior, exclude the relevant entries before the concat operation.\n",
      "  df.loc[len(df)] = tmp_row\n"
     ]
    },
    {
     "name": "stdout",
     "output_type": "stream",
     "text": [
      "......0272 files done\n"
     ]
    },
    {
     "name": "stderr",
     "output_type": "stream",
     "text": [
      "/tmp/ipykernel_53691/1253261533.py:28: FutureWarning: The behavior of DataFrame concatenation with empty or all-NA entries is deprecated. In a future version, this will no longer exclude empty or all-NA columns when determining the result dtypes. To retain the old behavior, exclude the relevant entries before the concat operation.\n",
      "  df.loc[len(df)] = tmp_row\n",
      "/tmp/ipykernel_53691/1253261533.py:77: FutureWarning: The behavior of DataFrame concatenation with empty or all-NA entries is deprecated. In a future version, this will no longer exclude empty or all-NA columns when determining the result dtypes. To retain the old behavior, exclude the relevant entries before the concat operation.\n",
      "  df.loc[len(df)] = tmp_row\n",
      "/tmp/ipykernel_53691/1253261533.py:77: FutureWarning: The behavior of DataFrame concatenation with empty or all-NA entries is deprecated. In a future version, this will no longer exclude empty or all-NA columns when determining the result dtypes. To retain the old behavior, exclude the relevant entries before the concat operation.\n",
      "  df.loc[len(df)] = tmp_row\n",
      "/tmp/ipykernel_53691/1253261533.py:77: FutureWarning: The behavior of DataFrame concatenation with empty or all-NA entries is deprecated. In a future version, this will no longer exclude empty or all-NA columns when determining the result dtypes. To retain the old behavior, exclude the relevant entries before the concat operation.\n",
      "  df.loc[len(df)] = tmp_row\n"
     ]
    },
    {
     "name": "stdout",
     "output_type": "stream",
     "text": [
      "......0273 files done\n"
     ]
    },
    {
     "name": "stderr",
     "output_type": "stream",
     "text": [
      "/tmp/ipykernel_53691/1253261533.py:28: FutureWarning: The behavior of DataFrame concatenation with empty or all-NA entries is deprecated. In a future version, this will no longer exclude empty or all-NA columns when determining the result dtypes. To retain the old behavior, exclude the relevant entries before the concat operation.\n",
      "  df.loc[len(df)] = tmp_row\n",
      "/tmp/ipykernel_53691/1253261533.py:77: FutureWarning: The behavior of DataFrame concatenation with empty or all-NA entries is deprecated. In a future version, this will no longer exclude empty or all-NA columns when determining the result dtypes. To retain the old behavior, exclude the relevant entries before the concat operation.\n",
      "  df.loc[len(df)] = tmp_row\n",
      "/tmp/ipykernel_53691/1253261533.py:77: FutureWarning: The behavior of DataFrame concatenation with empty or all-NA entries is deprecated. In a future version, this will no longer exclude empty or all-NA columns when determining the result dtypes. To retain the old behavior, exclude the relevant entries before the concat operation.\n",
      "  df.loc[len(df)] = tmp_row\n",
      "/tmp/ipykernel_53691/1253261533.py:77: FutureWarning: The behavior of DataFrame concatenation with empty or all-NA entries is deprecated. In a future version, this will no longer exclude empty or all-NA columns when determining the result dtypes. To retain the old behavior, exclude the relevant entries before the concat operation.\n",
      "  df.loc[len(df)] = tmp_row\n"
     ]
    },
    {
     "name": "stdout",
     "output_type": "stream",
     "text": [
      "......0274 files done\n"
     ]
    },
    {
     "name": "stderr",
     "output_type": "stream",
     "text": [
      "/tmp/ipykernel_53691/1253261533.py:28: FutureWarning: The behavior of DataFrame concatenation with empty or all-NA entries is deprecated. In a future version, this will no longer exclude empty or all-NA columns when determining the result dtypes. To retain the old behavior, exclude the relevant entries before the concat operation.\n",
      "  df.loc[len(df)] = tmp_row\n",
      "/tmp/ipykernel_53691/1253261533.py:77: FutureWarning: The behavior of DataFrame concatenation with empty or all-NA entries is deprecated. In a future version, this will no longer exclude empty or all-NA columns when determining the result dtypes. To retain the old behavior, exclude the relevant entries before the concat operation.\n",
      "  df.loc[len(df)] = tmp_row\n",
      "/tmp/ipykernel_53691/1253261533.py:77: FutureWarning: The behavior of DataFrame concatenation with empty or all-NA entries is deprecated. In a future version, this will no longer exclude empty or all-NA columns when determining the result dtypes. To retain the old behavior, exclude the relevant entries before the concat operation.\n",
      "  df.loc[len(df)] = tmp_row\n",
      "/tmp/ipykernel_53691/1253261533.py:77: FutureWarning: The behavior of DataFrame concatenation with empty or all-NA entries is deprecated. In a future version, this will no longer exclude empty or all-NA columns when determining the result dtypes. To retain the old behavior, exclude the relevant entries before the concat operation.\n",
      "  df.loc[len(df)] = tmp_row\n"
     ]
    },
    {
     "name": "stdout",
     "output_type": "stream",
     "text": [
      "......0275 files done\n"
     ]
    },
    {
     "name": "stderr",
     "output_type": "stream",
     "text": [
      "/tmp/ipykernel_53691/1253261533.py:28: FutureWarning: The behavior of DataFrame concatenation with empty or all-NA entries is deprecated. In a future version, this will no longer exclude empty or all-NA columns when determining the result dtypes. To retain the old behavior, exclude the relevant entries before the concat operation.\n",
      "  df.loc[len(df)] = tmp_row\n",
      "/tmp/ipykernel_53691/1253261533.py:77: FutureWarning: The behavior of DataFrame concatenation with empty or all-NA entries is deprecated. In a future version, this will no longer exclude empty or all-NA columns when determining the result dtypes. To retain the old behavior, exclude the relevant entries before the concat operation.\n",
      "  df.loc[len(df)] = tmp_row\n",
      "/tmp/ipykernel_53691/1253261533.py:77: FutureWarning: The behavior of DataFrame concatenation with empty or all-NA entries is deprecated. In a future version, this will no longer exclude empty or all-NA columns when determining the result dtypes. To retain the old behavior, exclude the relevant entries before the concat operation.\n",
      "  df.loc[len(df)] = tmp_row\n",
      "/tmp/ipykernel_53691/1253261533.py:77: FutureWarning: The behavior of DataFrame concatenation with empty or all-NA entries is deprecated. In a future version, this will no longer exclude empty or all-NA columns when determining the result dtypes. To retain the old behavior, exclude the relevant entries before the concat operation.\n",
      "  df.loc[len(df)] = tmp_row\n"
     ]
    },
    {
     "name": "stdout",
     "output_type": "stream",
     "text": [
      "......0276 files done\n"
     ]
    },
    {
     "name": "stderr",
     "output_type": "stream",
     "text": [
      "/tmp/ipykernel_53691/1253261533.py:28: FutureWarning: The behavior of DataFrame concatenation with empty or all-NA entries is deprecated. In a future version, this will no longer exclude empty or all-NA columns when determining the result dtypes. To retain the old behavior, exclude the relevant entries before the concat operation.\n",
      "  df.loc[len(df)] = tmp_row\n",
      "/tmp/ipykernel_53691/1253261533.py:77: FutureWarning: The behavior of DataFrame concatenation with empty or all-NA entries is deprecated. In a future version, this will no longer exclude empty or all-NA columns when determining the result dtypes. To retain the old behavior, exclude the relevant entries before the concat operation.\n",
      "  df.loc[len(df)] = tmp_row\n",
      "/tmp/ipykernel_53691/1253261533.py:77: FutureWarning: The behavior of DataFrame concatenation with empty or all-NA entries is deprecated. In a future version, this will no longer exclude empty or all-NA columns when determining the result dtypes. To retain the old behavior, exclude the relevant entries before the concat operation.\n",
      "  df.loc[len(df)] = tmp_row\n",
      "/tmp/ipykernel_53691/1253261533.py:77: FutureWarning: The behavior of DataFrame concatenation with empty or all-NA entries is deprecated. In a future version, this will no longer exclude empty or all-NA columns when determining the result dtypes. To retain the old behavior, exclude the relevant entries before the concat operation.\n",
      "  df.loc[len(df)] = tmp_row\n"
     ]
    },
    {
     "name": "stdout",
     "output_type": "stream",
     "text": [
      "......0277 files done\n"
     ]
    },
    {
     "name": "stderr",
     "output_type": "stream",
     "text": [
      "/tmp/ipykernel_53691/1253261533.py:28: FutureWarning: The behavior of DataFrame concatenation with empty or all-NA entries is deprecated. In a future version, this will no longer exclude empty or all-NA columns when determining the result dtypes. To retain the old behavior, exclude the relevant entries before the concat operation.\n",
      "  df.loc[len(df)] = tmp_row\n",
      "/tmp/ipykernel_53691/1253261533.py:77: FutureWarning: The behavior of DataFrame concatenation with empty or all-NA entries is deprecated. In a future version, this will no longer exclude empty or all-NA columns when determining the result dtypes. To retain the old behavior, exclude the relevant entries before the concat operation.\n",
      "  df.loc[len(df)] = tmp_row\n",
      "/tmp/ipykernel_53691/1253261533.py:77: FutureWarning: The behavior of DataFrame concatenation with empty or all-NA entries is deprecated. In a future version, this will no longer exclude empty or all-NA columns when determining the result dtypes. To retain the old behavior, exclude the relevant entries before the concat operation.\n",
      "  df.loc[len(df)] = tmp_row\n",
      "/tmp/ipykernel_53691/1253261533.py:77: FutureWarning: The behavior of DataFrame concatenation with empty or all-NA entries is deprecated. In a future version, this will no longer exclude empty or all-NA columns when determining the result dtypes. To retain the old behavior, exclude the relevant entries before the concat operation.\n",
      "  df.loc[len(df)] = tmp_row\n"
     ]
    },
    {
     "name": "stdout",
     "output_type": "stream",
     "text": [
      "......0278 files done\n"
     ]
    },
    {
     "name": "stderr",
     "output_type": "stream",
     "text": [
      "/tmp/ipykernel_53691/1253261533.py:28: FutureWarning: The behavior of DataFrame concatenation with empty or all-NA entries is deprecated. In a future version, this will no longer exclude empty or all-NA columns when determining the result dtypes. To retain the old behavior, exclude the relevant entries before the concat operation.\n",
      "  df.loc[len(df)] = tmp_row\n",
      "/tmp/ipykernel_53691/1253261533.py:77: FutureWarning: The behavior of DataFrame concatenation with empty or all-NA entries is deprecated. In a future version, this will no longer exclude empty or all-NA columns when determining the result dtypes. To retain the old behavior, exclude the relevant entries before the concat operation.\n",
      "  df.loc[len(df)] = tmp_row\n",
      "/tmp/ipykernel_53691/1253261533.py:77: FutureWarning: The behavior of DataFrame concatenation with empty or all-NA entries is deprecated. In a future version, this will no longer exclude empty or all-NA columns when determining the result dtypes. To retain the old behavior, exclude the relevant entries before the concat operation.\n",
      "  df.loc[len(df)] = tmp_row\n",
      "/tmp/ipykernel_53691/1253261533.py:77: FutureWarning: The behavior of DataFrame concatenation with empty or all-NA entries is deprecated. In a future version, this will no longer exclude empty or all-NA columns when determining the result dtypes. To retain the old behavior, exclude the relevant entries before the concat operation.\n",
      "  df.loc[len(df)] = tmp_row\n"
     ]
    },
    {
     "name": "stdout",
     "output_type": "stream",
     "text": [
      "......0279 files done\n"
     ]
    },
    {
     "name": "stderr",
     "output_type": "stream",
     "text": [
      "/tmp/ipykernel_53691/1253261533.py:28: FutureWarning: The behavior of DataFrame concatenation with empty or all-NA entries is deprecated. In a future version, this will no longer exclude empty or all-NA columns when determining the result dtypes. To retain the old behavior, exclude the relevant entries before the concat operation.\n",
      "  df.loc[len(df)] = tmp_row\n",
      "/tmp/ipykernel_53691/1253261533.py:77: FutureWarning: The behavior of DataFrame concatenation with empty or all-NA entries is deprecated. In a future version, this will no longer exclude empty or all-NA columns when determining the result dtypes. To retain the old behavior, exclude the relevant entries before the concat operation.\n",
      "  df.loc[len(df)] = tmp_row\n",
      "/tmp/ipykernel_53691/1253261533.py:77: FutureWarning: The behavior of DataFrame concatenation with empty or all-NA entries is deprecated. In a future version, this will no longer exclude empty or all-NA columns when determining the result dtypes. To retain the old behavior, exclude the relevant entries before the concat operation.\n",
      "  df.loc[len(df)] = tmp_row\n",
      "/tmp/ipykernel_53691/1253261533.py:77: FutureWarning: The behavior of DataFrame concatenation with empty or all-NA entries is deprecated. In a future version, this will no longer exclude empty or all-NA columns when determining the result dtypes. To retain the old behavior, exclude the relevant entries before the concat operation.\n",
      "  df.loc[len(df)] = tmp_row\n"
     ]
    },
    {
     "name": "stdout",
     "output_type": "stream",
     "text": [
      "......0280 files done\n"
     ]
    },
    {
     "name": "stderr",
     "output_type": "stream",
     "text": [
      "/tmp/ipykernel_53691/1253261533.py:28: FutureWarning: The behavior of DataFrame concatenation with empty or all-NA entries is deprecated. In a future version, this will no longer exclude empty or all-NA columns when determining the result dtypes. To retain the old behavior, exclude the relevant entries before the concat operation.\n",
      "  df.loc[len(df)] = tmp_row\n",
      "/tmp/ipykernel_53691/1253261533.py:77: FutureWarning: The behavior of DataFrame concatenation with empty or all-NA entries is deprecated. In a future version, this will no longer exclude empty or all-NA columns when determining the result dtypes. To retain the old behavior, exclude the relevant entries before the concat operation.\n",
      "  df.loc[len(df)] = tmp_row\n",
      "/tmp/ipykernel_53691/1253261533.py:77: FutureWarning: The behavior of DataFrame concatenation with empty or all-NA entries is deprecated. In a future version, this will no longer exclude empty or all-NA columns when determining the result dtypes. To retain the old behavior, exclude the relevant entries before the concat operation.\n",
      "  df.loc[len(df)] = tmp_row\n",
      "/tmp/ipykernel_53691/1253261533.py:77: FutureWarning: The behavior of DataFrame concatenation with empty or all-NA entries is deprecated. In a future version, this will no longer exclude empty or all-NA columns when determining the result dtypes. To retain the old behavior, exclude the relevant entries before the concat operation.\n",
      "  df.loc[len(df)] = tmp_row\n"
     ]
    },
    {
     "name": "stdout",
     "output_type": "stream",
     "text": [
      "......0281 files done\n"
     ]
    },
    {
     "name": "stderr",
     "output_type": "stream",
     "text": [
      "/tmp/ipykernel_53691/1253261533.py:28: FutureWarning: The behavior of DataFrame concatenation with empty or all-NA entries is deprecated. In a future version, this will no longer exclude empty or all-NA columns when determining the result dtypes. To retain the old behavior, exclude the relevant entries before the concat operation.\n",
      "  df.loc[len(df)] = tmp_row\n",
      "/tmp/ipykernel_53691/1253261533.py:77: FutureWarning: The behavior of DataFrame concatenation with empty or all-NA entries is deprecated. In a future version, this will no longer exclude empty or all-NA columns when determining the result dtypes. To retain the old behavior, exclude the relevant entries before the concat operation.\n",
      "  df.loc[len(df)] = tmp_row\n",
      "/tmp/ipykernel_53691/1253261533.py:77: FutureWarning: The behavior of DataFrame concatenation with empty or all-NA entries is deprecated. In a future version, this will no longer exclude empty or all-NA columns when determining the result dtypes. To retain the old behavior, exclude the relevant entries before the concat operation.\n",
      "  df.loc[len(df)] = tmp_row\n",
      "/tmp/ipykernel_53691/1253261533.py:77: FutureWarning: The behavior of DataFrame concatenation with empty or all-NA entries is deprecated. In a future version, this will no longer exclude empty or all-NA columns when determining the result dtypes. To retain the old behavior, exclude the relevant entries before the concat operation.\n",
      "  df.loc[len(df)] = tmp_row\n"
     ]
    },
    {
     "name": "stdout",
     "output_type": "stream",
     "text": [
      "......0282 files done\n"
     ]
    },
    {
     "name": "stderr",
     "output_type": "stream",
     "text": [
      "/tmp/ipykernel_53691/1253261533.py:28: FutureWarning: The behavior of DataFrame concatenation with empty or all-NA entries is deprecated. In a future version, this will no longer exclude empty or all-NA columns when determining the result dtypes. To retain the old behavior, exclude the relevant entries before the concat operation.\n",
      "  df.loc[len(df)] = tmp_row\n",
      "/tmp/ipykernel_53691/1253261533.py:77: FutureWarning: The behavior of DataFrame concatenation with empty or all-NA entries is deprecated. In a future version, this will no longer exclude empty or all-NA columns when determining the result dtypes. To retain the old behavior, exclude the relevant entries before the concat operation.\n",
      "  df.loc[len(df)] = tmp_row\n",
      "/tmp/ipykernel_53691/1253261533.py:77: FutureWarning: The behavior of DataFrame concatenation with empty or all-NA entries is deprecated. In a future version, this will no longer exclude empty or all-NA columns when determining the result dtypes. To retain the old behavior, exclude the relevant entries before the concat operation.\n",
      "  df.loc[len(df)] = tmp_row\n",
      "/tmp/ipykernel_53691/1253261533.py:77: FutureWarning: The behavior of DataFrame concatenation with empty or all-NA entries is deprecated. In a future version, this will no longer exclude empty or all-NA columns when determining the result dtypes. To retain the old behavior, exclude the relevant entries before the concat operation.\n",
      "  df.loc[len(df)] = tmp_row\n"
     ]
    },
    {
     "name": "stdout",
     "output_type": "stream",
     "text": [
      "......0283 files done\n"
     ]
    },
    {
     "name": "stderr",
     "output_type": "stream",
     "text": [
      "/tmp/ipykernel_53691/1253261533.py:28: FutureWarning: The behavior of DataFrame concatenation with empty or all-NA entries is deprecated. In a future version, this will no longer exclude empty or all-NA columns when determining the result dtypes. To retain the old behavior, exclude the relevant entries before the concat operation.\n",
      "  df.loc[len(df)] = tmp_row\n",
      "/tmp/ipykernel_53691/1253261533.py:77: FutureWarning: The behavior of DataFrame concatenation with empty or all-NA entries is deprecated. In a future version, this will no longer exclude empty or all-NA columns when determining the result dtypes. To retain the old behavior, exclude the relevant entries before the concat operation.\n",
      "  df.loc[len(df)] = tmp_row\n",
      "/tmp/ipykernel_53691/1253261533.py:77: FutureWarning: The behavior of DataFrame concatenation with empty or all-NA entries is deprecated. In a future version, this will no longer exclude empty or all-NA columns when determining the result dtypes. To retain the old behavior, exclude the relevant entries before the concat operation.\n",
      "  df.loc[len(df)] = tmp_row\n",
      "/tmp/ipykernel_53691/1253261533.py:77: FutureWarning: The behavior of DataFrame concatenation with empty or all-NA entries is deprecated. In a future version, this will no longer exclude empty or all-NA columns when determining the result dtypes. To retain the old behavior, exclude the relevant entries before the concat operation.\n",
      "  df.loc[len(df)] = tmp_row\n"
     ]
    },
    {
     "name": "stdout",
     "output_type": "stream",
     "text": [
      "......0284 files done\n"
     ]
    },
    {
     "name": "stderr",
     "output_type": "stream",
     "text": [
      "/tmp/ipykernel_53691/1253261533.py:28: FutureWarning: The behavior of DataFrame concatenation with empty or all-NA entries is deprecated. In a future version, this will no longer exclude empty or all-NA columns when determining the result dtypes. To retain the old behavior, exclude the relevant entries before the concat operation.\n",
      "  df.loc[len(df)] = tmp_row\n",
      "/tmp/ipykernel_53691/1253261533.py:77: FutureWarning: The behavior of DataFrame concatenation with empty or all-NA entries is deprecated. In a future version, this will no longer exclude empty or all-NA columns when determining the result dtypes. To retain the old behavior, exclude the relevant entries before the concat operation.\n",
      "  df.loc[len(df)] = tmp_row\n",
      "/tmp/ipykernel_53691/1253261533.py:77: FutureWarning: The behavior of DataFrame concatenation with empty or all-NA entries is deprecated. In a future version, this will no longer exclude empty or all-NA columns when determining the result dtypes. To retain the old behavior, exclude the relevant entries before the concat operation.\n",
      "  df.loc[len(df)] = tmp_row\n",
      "/tmp/ipykernel_53691/1253261533.py:77: FutureWarning: The behavior of DataFrame concatenation with empty or all-NA entries is deprecated. In a future version, this will no longer exclude empty or all-NA columns when determining the result dtypes. To retain the old behavior, exclude the relevant entries before the concat operation.\n",
      "  df.loc[len(df)] = tmp_row\n"
     ]
    },
    {
     "name": "stdout",
     "output_type": "stream",
     "text": [
      "......0285 files done\n"
     ]
    },
    {
     "name": "stderr",
     "output_type": "stream",
     "text": [
      "/tmp/ipykernel_53691/1253261533.py:28: FutureWarning: The behavior of DataFrame concatenation with empty or all-NA entries is deprecated. In a future version, this will no longer exclude empty or all-NA columns when determining the result dtypes. To retain the old behavior, exclude the relevant entries before the concat operation.\n",
      "  df.loc[len(df)] = tmp_row\n",
      "/tmp/ipykernel_53691/1253261533.py:77: FutureWarning: The behavior of DataFrame concatenation with empty or all-NA entries is deprecated. In a future version, this will no longer exclude empty or all-NA columns when determining the result dtypes. To retain the old behavior, exclude the relevant entries before the concat operation.\n",
      "  df.loc[len(df)] = tmp_row\n",
      "/tmp/ipykernel_53691/1253261533.py:77: FutureWarning: The behavior of DataFrame concatenation with empty or all-NA entries is deprecated. In a future version, this will no longer exclude empty or all-NA columns when determining the result dtypes. To retain the old behavior, exclude the relevant entries before the concat operation.\n",
      "  df.loc[len(df)] = tmp_row\n",
      "/tmp/ipykernel_53691/1253261533.py:77: FutureWarning: The behavior of DataFrame concatenation with empty or all-NA entries is deprecated. In a future version, this will no longer exclude empty or all-NA columns when determining the result dtypes. To retain the old behavior, exclude the relevant entries before the concat operation.\n",
      "  df.loc[len(df)] = tmp_row\n"
     ]
    },
    {
     "name": "stdout",
     "output_type": "stream",
     "text": [
      "......0286 files done\n"
     ]
    },
    {
     "name": "stderr",
     "output_type": "stream",
     "text": [
      "/tmp/ipykernel_53691/1253261533.py:28: FutureWarning: The behavior of DataFrame concatenation with empty or all-NA entries is deprecated. In a future version, this will no longer exclude empty or all-NA columns when determining the result dtypes. To retain the old behavior, exclude the relevant entries before the concat operation.\n",
      "  df.loc[len(df)] = tmp_row\n",
      "/tmp/ipykernel_53691/1253261533.py:77: FutureWarning: The behavior of DataFrame concatenation with empty or all-NA entries is deprecated. In a future version, this will no longer exclude empty or all-NA columns when determining the result dtypes. To retain the old behavior, exclude the relevant entries before the concat operation.\n",
      "  df.loc[len(df)] = tmp_row\n",
      "/tmp/ipykernel_53691/1253261533.py:77: FutureWarning: The behavior of DataFrame concatenation with empty or all-NA entries is deprecated. In a future version, this will no longer exclude empty or all-NA columns when determining the result dtypes. To retain the old behavior, exclude the relevant entries before the concat operation.\n",
      "  df.loc[len(df)] = tmp_row\n",
      "/tmp/ipykernel_53691/1253261533.py:77: FutureWarning: The behavior of DataFrame concatenation with empty or all-NA entries is deprecated. In a future version, this will no longer exclude empty or all-NA columns when determining the result dtypes. To retain the old behavior, exclude the relevant entries before the concat operation.\n",
      "  df.loc[len(df)] = tmp_row\n"
     ]
    },
    {
     "name": "stdout",
     "output_type": "stream",
     "text": [
      "......0287 files done\n"
     ]
    },
    {
     "name": "stderr",
     "output_type": "stream",
     "text": [
      "/tmp/ipykernel_53691/1253261533.py:28: FutureWarning: The behavior of DataFrame concatenation with empty or all-NA entries is deprecated. In a future version, this will no longer exclude empty or all-NA columns when determining the result dtypes. To retain the old behavior, exclude the relevant entries before the concat operation.\n",
      "  df.loc[len(df)] = tmp_row\n",
      "/tmp/ipykernel_53691/1253261533.py:77: FutureWarning: The behavior of DataFrame concatenation with empty or all-NA entries is deprecated. In a future version, this will no longer exclude empty or all-NA columns when determining the result dtypes. To retain the old behavior, exclude the relevant entries before the concat operation.\n",
      "  df.loc[len(df)] = tmp_row\n",
      "/tmp/ipykernel_53691/1253261533.py:77: FutureWarning: The behavior of DataFrame concatenation with empty or all-NA entries is deprecated. In a future version, this will no longer exclude empty or all-NA columns when determining the result dtypes. To retain the old behavior, exclude the relevant entries before the concat operation.\n",
      "  df.loc[len(df)] = tmp_row\n",
      "/tmp/ipykernel_53691/1253261533.py:77: FutureWarning: The behavior of DataFrame concatenation with empty or all-NA entries is deprecated. In a future version, this will no longer exclude empty or all-NA columns when determining the result dtypes. To retain the old behavior, exclude the relevant entries before the concat operation.\n",
      "  df.loc[len(df)] = tmp_row\n"
     ]
    },
    {
     "name": "stdout",
     "output_type": "stream",
     "text": [
      "......0288 files done\n"
     ]
    },
    {
     "name": "stderr",
     "output_type": "stream",
     "text": [
      "/tmp/ipykernel_53691/1253261533.py:28: FutureWarning: The behavior of DataFrame concatenation with empty or all-NA entries is deprecated. In a future version, this will no longer exclude empty or all-NA columns when determining the result dtypes. To retain the old behavior, exclude the relevant entries before the concat operation.\n",
      "  df.loc[len(df)] = tmp_row\n",
      "/tmp/ipykernel_53691/1253261533.py:77: FutureWarning: The behavior of DataFrame concatenation with empty or all-NA entries is deprecated. In a future version, this will no longer exclude empty or all-NA columns when determining the result dtypes. To retain the old behavior, exclude the relevant entries before the concat operation.\n",
      "  df.loc[len(df)] = tmp_row\n",
      "/tmp/ipykernel_53691/1253261533.py:77: FutureWarning: The behavior of DataFrame concatenation with empty or all-NA entries is deprecated. In a future version, this will no longer exclude empty or all-NA columns when determining the result dtypes. To retain the old behavior, exclude the relevant entries before the concat operation.\n",
      "  df.loc[len(df)] = tmp_row\n",
      "/tmp/ipykernel_53691/1253261533.py:77: FutureWarning: The behavior of DataFrame concatenation with empty or all-NA entries is deprecated. In a future version, this will no longer exclude empty or all-NA columns when determining the result dtypes. To retain the old behavior, exclude the relevant entries before the concat operation.\n",
      "  df.loc[len(df)] = tmp_row\n"
     ]
    },
    {
     "name": "stdout",
     "output_type": "stream",
     "text": [
      "......0289 files done\n"
     ]
    },
    {
     "name": "stderr",
     "output_type": "stream",
     "text": [
      "/tmp/ipykernel_53691/1253261533.py:28: FutureWarning: The behavior of DataFrame concatenation with empty or all-NA entries is deprecated. In a future version, this will no longer exclude empty or all-NA columns when determining the result dtypes. To retain the old behavior, exclude the relevant entries before the concat operation.\n",
      "  df.loc[len(df)] = tmp_row\n",
      "/tmp/ipykernel_53691/1253261533.py:77: FutureWarning: The behavior of DataFrame concatenation with empty or all-NA entries is deprecated. In a future version, this will no longer exclude empty or all-NA columns when determining the result dtypes. To retain the old behavior, exclude the relevant entries before the concat operation.\n",
      "  df.loc[len(df)] = tmp_row\n",
      "/tmp/ipykernel_53691/1253261533.py:77: FutureWarning: The behavior of DataFrame concatenation with empty or all-NA entries is deprecated. In a future version, this will no longer exclude empty or all-NA columns when determining the result dtypes. To retain the old behavior, exclude the relevant entries before the concat operation.\n",
      "  df.loc[len(df)] = tmp_row\n",
      "/tmp/ipykernel_53691/1253261533.py:77: FutureWarning: The behavior of DataFrame concatenation with empty or all-NA entries is deprecated. In a future version, this will no longer exclude empty or all-NA columns when determining the result dtypes. To retain the old behavior, exclude the relevant entries before the concat operation.\n",
      "  df.loc[len(df)] = tmp_row\n"
     ]
    },
    {
     "name": "stdout",
     "output_type": "stream",
     "text": [
      "......0290 files done\n"
     ]
    },
    {
     "name": "stderr",
     "output_type": "stream",
     "text": [
      "/tmp/ipykernel_53691/1253261533.py:28: FutureWarning: The behavior of DataFrame concatenation with empty or all-NA entries is deprecated. In a future version, this will no longer exclude empty or all-NA columns when determining the result dtypes. To retain the old behavior, exclude the relevant entries before the concat operation.\n",
      "  df.loc[len(df)] = tmp_row\n",
      "/tmp/ipykernel_53691/1253261533.py:77: FutureWarning: The behavior of DataFrame concatenation with empty or all-NA entries is deprecated. In a future version, this will no longer exclude empty or all-NA columns when determining the result dtypes. To retain the old behavior, exclude the relevant entries before the concat operation.\n",
      "  df.loc[len(df)] = tmp_row\n",
      "/tmp/ipykernel_53691/1253261533.py:77: FutureWarning: The behavior of DataFrame concatenation with empty or all-NA entries is deprecated. In a future version, this will no longer exclude empty or all-NA columns when determining the result dtypes. To retain the old behavior, exclude the relevant entries before the concat operation.\n",
      "  df.loc[len(df)] = tmp_row\n",
      "/tmp/ipykernel_53691/1253261533.py:77: FutureWarning: The behavior of DataFrame concatenation with empty or all-NA entries is deprecated. In a future version, this will no longer exclude empty or all-NA columns when determining the result dtypes. To retain the old behavior, exclude the relevant entries before the concat operation.\n",
      "  df.loc[len(df)] = tmp_row\n"
     ]
    },
    {
     "name": "stdout",
     "output_type": "stream",
     "text": [
      "......0291 files done\n"
     ]
    },
    {
     "name": "stderr",
     "output_type": "stream",
     "text": [
      "/tmp/ipykernel_53691/1253261533.py:28: FutureWarning: The behavior of DataFrame concatenation with empty or all-NA entries is deprecated. In a future version, this will no longer exclude empty or all-NA columns when determining the result dtypes. To retain the old behavior, exclude the relevant entries before the concat operation.\n",
      "  df.loc[len(df)] = tmp_row\n",
      "/tmp/ipykernel_53691/1253261533.py:77: FutureWarning: The behavior of DataFrame concatenation with empty or all-NA entries is deprecated. In a future version, this will no longer exclude empty or all-NA columns when determining the result dtypes. To retain the old behavior, exclude the relevant entries before the concat operation.\n",
      "  df.loc[len(df)] = tmp_row\n",
      "/tmp/ipykernel_53691/1253261533.py:77: FutureWarning: The behavior of DataFrame concatenation with empty or all-NA entries is deprecated. In a future version, this will no longer exclude empty or all-NA columns when determining the result dtypes. To retain the old behavior, exclude the relevant entries before the concat operation.\n",
      "  df.loc[len(df)] = tmp_row\n",
      "/tmp/ipykernel_53691/1253261533.py:77: FutureWarning: The behavior of DataFrame concatenation with empty or all-NA entries is deprecated. In a future version, this will no longer exclude empty or all-NA columns when determining the result dtypes. To retain the old behavior, exclude the relevant entries before the concat operation.\n",
      "  df.loc[len(df)] = tmp_row\n"
     ]
    },
    {
     "name": "stdout",
     "output_type": "stream",
     "text": [
      "......0292 files done\n"
     ]
    },
    {
     "name": "stderr",
     "output_type": "stream",
     "text": [
      "/tmp/ipykernel_53691/1253261533.py:28: FutureWarning: The behavior of DataFrame concatenation with empty or all-NA entries is deprecated. In a future version, this will no longer exclude empty or all-NA columns when determining the result dtypes. To retain the old behavior, exclude the relevant entries before the concat operation.\n",
      "  df.loc[len(df)] = tmp_row\n",
      "/tmp/ipykernel_53691/1253261533.py:77: FutureWarning: The behavior of DataFrame concatenation with empty or all-NA entries is deprecated. In a future version, this will no longer exclude empty or all-NA columns when determining the result dtypes. To retain the old behavior, exclude the relevant entries before the concat operation.\n",
      "  df.loc[len(df)] = tmp_row\n",
      "/tmp/ipykernel_53691/1253261533.py:77: FutureWarning: The behavior of DataFrame concatenation with empty or all-NA entries is deprecated. In a future version, this will no longer exclude empty or all-NA columns when determining the result dtypes. To retain the old behavior, exclude the relevant entries before the concat operation.\n",
      "  df.loc[len(df)] = tmp_row\n",
      "/tmp/ipykernel_53691/1253261533.py:77: FutureWarning: The behavior of DataFrame concatenation with empty or all-NA entries is deprecated. In a future version, this will no longer exclude empty or all-NA columns when determining the result dtypes. To retain the old behavior, exclude the relevant entries before the concat operation.\n",
      "  df.loc[len(df)] = tmp_row\n"
     ]
    },
    {
     "name": "stdout",
     "output_type": "stream",
     "text": [
      "......0293 files done\n"
     ]
    },
    {
     "name": "stderr",
     "output_type": "stream",
     "text": [
      "/tmp/ipykernel_53691/1253261533.py:28: FutureWarning: The behavior of DataFrame concatenation with empty or all-NA entries is deprecated. In a future version, this will no longer exclude empty or all-NA columns when determining the result dtypes. To retain the old behavior, exclude the relevant entries before the concat operation.\n",
      "  df.loc[len(df)] = tmp_row\n",
      "/tmp/ipykernel_53691/1253261533.py:77: FutureWarning: The behavior of DataFrame concatenation with empty or all-NA entries is deprecated. In a future version, this will no longer exclude empty or all-NA columns when determining the result dtypes. To retain the old behavior, exclude the relevant entries before the concat operation.\n",
      "  df.loc[len(df)] = tmp_row\n",
      "/tmp/ipykernel_53691/1253261533.py:77: FutureWarning: The behavior of DataFrame concatenation with empty or all-NA entries is deprecated. In a future version, this will no longer exclude empty or all-NA columns when determining the result dtypes. To retain the old behavior, exclude the relevant entries before the concat operation.\n",
      "  df.loc[len(df)] = tmp_row\n",
      "/tmp/ipykernel_53691/1253261533.py:77: FutureWarning: The behavior of DataFrame concatenation with empty or all-NA entries is deprecated. In a future version, this will no longer exclude empty or all-NA columns when determining the result dtypes. To retain the old behavior, exclude the relevant entries before the concat operation.\n",
      "  df.loc[len(df)] = tmp_row\n"
     ]
    },
    {
     "name": "stdout",
     "output_type": "stream",
     "text": [
      "......0294 files done\n"
     ]
    },
    {
     "name": "stderr",
     "output_type": "stream",
     "text": [
      "/tmp/ipykernel_53691/1253261533.py:28: FutureWarning: The behavior of DataFrame concatenation with empty or all-NA entries is deprecated. In a future version, this will no longer exclude empty or all-NA columns when determining the result dtypes. To retain the old behavior, exclude the relevant entries before the concat operation.\n",
      "  df.loc[len(df)] = tmp_row\n",
      "/tmp/ipykernel_53691/1253261533.py:77: FutureWarning: The behavior of DataFrame concatenation with empty or all-NA entries is deprecated. In a future version, this will no longer exclude empty or all-NA columns when determining the result dtypes. To retain the old behavior, exclude the relevant entries before the concat operation.\n",
      "  df.loc[len(df)] = tmp_row\n",
      "/tmp/ipykernel_53691/1253261533.py:77: FutureWarning: The behavior of DataFrame concatenation with empty or all-NA entries is deprecated. In a future version, this will no longer exclude empty or all-NA columns when determining the result dtypes. To retain the old behavior, exclude the relevant entries before the concat operation.\n",
      "  df.loc[len(df)] = tmp_row\n",
      "/tmp/ipykernel_53691/1253261533.py:77: FutureWarning: The behavior of DataFrame concatenation with empty or all-NA entries is deprecated. In a future version, this will no longer exclude empty or all-NA columns when determining the result dtypes. To retain the old behavior, exclude the relevant entries before the concat operation.\n",
      "  df.loc[len(df)] = tmp_row\n"
     ]
    },
    {
     "name": "stdout",
     "output_type": "stream",
     "text": [
      "......0295 files done\n"
     ]
    },
    {
     "name": "stderr",
     "output_type": "stream",
     "text": [
      "/tmp/ipykernel_53691/1253261533.py:28: FutureWarning: The behavior of DataFrame concatenation with empty or all-NA entries is deprecated. In a future version, this will no longer exclude empty or all-NA columns when determining the result dtypes. To retain the old behavior, exclude the relevant entries before the concat operation.\n",
      "  df.loc[len(df)] = tmp_row\n",
      "/tmp/ipykernel_53691/1253261533.py:77: FutureWarning: The behavior of DataFrame concatenation with empty or all-NA entries is deprecated. In a future version, this will no longer exclude empty or all-NA columns when determining the result dtypes. To retain the old behavior, exclude the relevant entries before the concat operation.\n",
      "  df.loc[len(df)] = tmp_row\n",
      "/tmp/ipykernel_53691/1253261533.py:77: FutureWarning: The behavior of DataFrame concatenation with empty or all-NA entries is deprecated. In a future version, this will no longer exclude empty or all-NA columns when determining the result dtypes. To retain the old behavior, exclude the relevant entries before the concat operation.\n",
      "  df.loc[len(df)] = tmp_row\n",
      "/tmp/ipykernel_53691/1253261533.py:77: FutureWarning: The behavior of DataFrame concatenation with empty or all-NA entries is deprecated. In a future version, this will no longer exclude empty or all-NA columns when determining the result dtypes. To retain the old behavior, exclude the relevant entries before the concat operation.\n",
      "  df.loc[len(df)] = tmp_row\n"
     ]
    },
    {
     "name": "stdout",
     "output_type": "stream",
     "text": [
      "......0296 files done\n"
     ]
    },
    {
     "name": "stderr",
     "output_type": "stream",
     "text": [
      "/tmp/ipykernel_53691/1253261533.py:28: FutureWarning: The behavior of DataFrame concatenation with empty or all-NA entries is deprecated. In a future version, this will no longer exclude empty or all-NA columns when determining the result dtypes. To retain the old behavior, exclude the relevant entries before the concat operation.\n",
      "  df.loc[len(df)] = tmp_row\n",
      "/tmp/ipykernel_53691/1253261533.py:77: FutureWarning: The behavior of DataFrame concatenation with empty or all-NA entries is deprecated. In a future version, this will no longer exclude empty or all-NA columns when determining the result dtypes. To retain the old behavior, exclude the relevant entries before the concat operation.\n",
      "  df.loc[len(df)] = tmp_row\n",
      "/tmp/ipykernel_53691/1253261533.py:77: FutureWarning: The behavior of DataFrame concatenation with empty or all-NA entries is deprecated. In a future version, this will no longer exclude empty or all-NA columns when determining the result dtypes. To retain the old behavior, exclude the relevant entries before the concat operation.\n",
      "  df.loc[len(df)] = tmp_row\n",
      "/tmp/ipykernel_53691/1253261533.py:77: FutureWarning: The behavior of DataFrame concatenation with empty or all-NA entries is deprecated. In a future version, this will no longer exclude empty or all-NA columns when determining the result dtypes. To retain the old behavior, exclude the relevant entries before the concat operation.\n",
      "  df.loc[len(df)] = tmp_row\n"
     ]
    },
    {
     "name": "stdout",
     "output_type": "stream",
     "text": [
      "......0297 files done\n"
     ]
    },
    {
     "name": "stderr",
     "output_type": "stream",
     "text": [
      "/tmp/ipykernel_53691/1253261533.py:28: FutureWarning: The behavior of DataFrame concatenation with empty or all-NA entries is deprecated. In a future version, this will no longer exclude empty or all-NA columns when determining the result dtypes. To retain the old behavior, exclude the relevant entries before the concat operation.\n",
      "  df.loc[len(df)] = tmp_row\n",
      "/tmp/ipykernel_53691/1253261533.py:77: FutureWarning: The behavior of DataFrame concatenation with empty or all-NA entries is deprecated. In a future version, this will no longer exclude empty or all-NA columns when determining the result dtypes. To retain the old behavior, exclude the relevant entries before the concat operation.\n",
      "  df.loc[len(df)] = tmp_row\n",
      "/tmp/ipykernel_53691/1253261533.py:77: FutureWarning: The behavior of DataFrame concatenation with empty or all-NA entries is deprecated. In a future version, this will no longer exclude empty or all-NA columns when determining the result dtypes. To retain the old behavior, exclude the relevant entries before the concat operation.\n",
      "  df.loc[len(df)] = tmp_row\n",
      "/tmp/ipykernel_53691/1253261533.py:77: FutureWarning: The behavior of DataFrame concatenation with empty or all-NA entries is deprecated. In a future version, this will no longer exclude empty or all-NA columns when determining the result dtypes. To retain the old behavior, exclude the relevant entries before the concat operation.\n",
      "  df.loc[len(df)] = tmp_row\n"
     ]
    },
    {
     "name": "stdout",
     "output_type": "stream",
     "text": [
      "......0298 files done\n"
     ]
    },
    {
     "name": "stderr",
     "output_type": "stream",
     "text": [
      "/tmp/ipykernel_53691/1253261533.py:28: FutureWarning: The behavior of DataFrame concatenation with empty or all-NA entries is deprecated. In a future version, this will no longer exclude empty or all-NA columns when determining the result dtypes. To retain the old behavior, exclude the relevant entries before the concat operation.\n",
      "  df.loc[len(df)] = tmp_row\n",
      "/tmp/ipykernel_53691/1253261533.py:77: FutureWarning: The behavior of DataFrame concatenation with empty or all-NA entries is deprecated. In a future version, this will no longer exclude empty or all-NA columns when determining the result dtypes. To retain the old behavior, exclude the relevant entries before the concat operation.\n",
      "  df.loc[len(df)] = tmp_row\n",
      "/tmp/ipykernel_53691/1253261533.py:77: FutureWarning: The behavior of DataFrame concatenation with empty or all-NA entries is deprecated. In a future version, this will no longer exclude empty or all-NA columns when determining the result dtypes. To retain the old behavior, exclude the relevant entries before the concat operation.\n",
      "  df.loc[len(df)] = tmp_row\n",
      "/tmp/ipykernel_53691/1253261533.py:77: FutureWarning: The behavior of DataFrame concatenation with empty or all-NA entries is deprecated. In a future version, this will no longer exclude empty or all-NA columns when determining the result dtypes. To retain the old behavior, exclude the relevant entries before the concat operation.\n",
      "  df.loc[len(df)] = tmp_row\n"
     ]
    },
    {
     "name": "stdout",
     "output_type": "stream",
     "text": [
      "......0299 files done\n"
     ]
    },
    {
     "name": "stderr",
     "output_type": "stream",
     "text": [
      "/tmp/ipykernel_53691/1253261533.py:28: FutureWarning: The behavior of DataFrame concatenation with empty or all-NA entries is deprecated. In a future version, this will no longer exclude empty or all-NA columns when determining the result dtypes. To retain the old behavior, exclude the relevant entries before the concat operation.\n",
      "  df.loc[len(df)] = tmp_row\n",
      "/tmp/ipykernel_53691/1253261533.py:77: FutureWarning: The behavior of DataFrame concatenation with empty or all-NA entries is deprecated. In a future version, this will no longer exclude empty or all-NA columns when determining the result dtypes. To retain the old behavior, exclude the relevant entries before the concat operation.\n",
      "  df.loc[len(df)] = tmp_row\n",
      "/tmp/ipykernel_53691/1253261533.py:77: FutureWarning: The behavior of DataFrame concatenation with empty or all-NA entries is deprecated. In a future version, this will no longer exclude empty or all-NA columns when determining the result dtypes. To retain the old behavior, exclude the relevant entries before the concat operation.\n",
      "  df.loc[len(df)] = tmp_row\n",
      "/tmp/ipykernel_53691/1253261533.py:77: FutureWarning: The behavior of DataFrame concatenation with empty or all-NA entries is deprecated. In a future version, this will no longer exclude empty or all-NA columns when determining the result dtypes. To retain the old behavior, exclude the relevant entries before the concat operation.\n",
      "  df.loc[len(df)] = tmp_row\n"
     ]
    },
    {
     "name": "stdout",
     "output_type": "stream",
     "text": [
      "......0300 files done\n"
     ]
    },
    {
     "name": "stderr",
     "output_type": "stream",
     "text": [
      "/tmp/ipykernel_53691/1253261533.py:28: FutureWarning: The behavior of DataFrame concatenation with empty or all-NA entries is deprecated. In a future version, this will no longer exclude empty or all-NA columns when determining the result dtypes. To retain the old behavior, exclude the relevant entries before the concat operation.\n",
      "  df.loc[len(df)] = tmp_row\n",
      "/tmp/ipykernel_53691/1253261533.py:77: FutureWarning: The behavior of DataFrame concatenation with empty or all-NA entries is deprecated. In a future version, this will no longer exclude empty or all-NA columns when determining the result dtypes. To retain the old behavior, exclude the relevant entries before the concat operation.\n",
      "  df.loc[len(df)] = tmp_row\n",
      "/tmp/ipykernel_53691/1253261533.py:77: FutureWarning: The behavior of DataFrame concatenation with empty or all-NA entries is deprecated. In a future version, this will no longer exclude empty or all-NA columns when determining the result dtypes. To retain the old behavior, exclude the relevant entries before the concat operation.\n",
      "  df.loc[len(df)] = tmp_row\n",
      "/tmp/ipykernel_53691/1253261533.py:77: FutureWarning: The behavior of DataFrame concatenation with empty or all-NA entries is deprecated. In a future version, this will no longer exclude empty or all-NA columns when determining the result dtypes. To retain the old behavior, exclude the relevant entries before the concat operation.\n",
      "  df.loc[len(df)] = tmp_row\n"
     ]
    },
    {
     "name": "stdout",
     "output_type": "stream",
     "text": [
      "......0301 files done\n"
     ]
    },
    {
     "name": "stderr",
     "output_type": "stream",
     "text": [
      "/tmp/ipykernel_53691/1253261533.py:28: FutureWarning: The behavior of DataFrame concatenation with empty or all-NA entries is deprecated. In a future version, this will no longer exclude empty or all-NA columns when determining the result dtypes. To retain the old behavior, exclude the relevant entries before the concat operation.\n",
      "  df.loc[len(df)] = tmp_row\n",
      "/tmp/ipykernel_53691/1253261533.py:77: FutureWarning: The behavior of DataFrame concatenation with empty or all-NA entries is deprecated. In a future version, this will no longer exclude empty or all-NA columns when determining the result dtypes. To retain the old behavior, exclude the relevant entries before the concat operation.\n",
      "  df.loc[len(df)] = tmp_row\n",
      "/tmp/ipykernel_53691/1253261533.py:77: FutureWarning: The behavior of DataFrame concatenation with empty or all-NA entries is deprecated. In a future version, this will no longer exclude empty or all-NA columns when determining the result dtypes. To retain the old behavior, exclude the relevant entries before the concat operation.\n",
      "  df.loc[len(df)] = tmp_row\n",
      "/tmp/ipykernel_53691/1253261533.py:77: FutureWarning: The behavior of DataFrame concatenation with empty or all-NA entries is deprecated. In a future version, this will no longer exclude empty or all-NA columns when determining the result dtypes. To retain the old behavior, exclude the relevant entries before the concat operation.\n",
      "  df.loc[len(df)] = tmp_row\n"
     ]
    },
    {
     "name": "stdout",
     "output_type": "stream",
     "text": [
      "......0302 files done\n"
     ]
    },
    {
     "name": "stderr",
     "output_type": "stream",
     "text": [
      "/tmp/ipykernel_53691/1253261533.py:28: FutureWarning: The behavior of DataFrame concatenation with empty or all-NA entries is deprecated. In a future version, this will no longer exclude empty or all-NA columns when determining the result dtypes. To retain the old behavior, exclude the relevant entries before the concat operation.\n",
      "  df.loc[len(df)] = tmp_row\n",
      "/tmp/ipykernel_53691/1253261533.py:77: FutureWarning: The behavior of DataFrame concatenation with empty or all-NA entries is deprecated. In a future version, this will no longer exclude empty or all-NA columns when determining the result dtypes. To retain the old behavior, exclude the relevant entries before the concat operation.\n",
      "  df.loc[len(df)] = tmp_row\n",
      "/tmp/ipykernel_53691/1253261533.py:77: FutureWarning: The behavior of DataFrame concatenation with empty or all-NA entries is deprecated. In a future version, this will no longer exclude empty or all-NA columns when determining the result dtypes. To retain the old behavior, exclude the relevant entries before the concat operation.\n",
      "  df.loc[len(df)] = tmp_row\n",
      "/tmp/ipykernel_53691/1253261533.py:77: FutureWarning: The behavior of DataFrame concatenation with empty or all-NA entries is deprecated. In a future version, this will no longer exclude empty or all-NA columns when determining the result dtypes. To retain the old behavior, exclude the relevant entries before the concat operation.\n",
      "  df.loc[len(df)] = tmp_row\n"
     ]
    },
    {
     "name": "stdout",
     "output_type": "stream",
     "text": [
      "......0303 files done\n"
     ]
    },
    {
     "name": "stderr",
     "output_type": "stream",
     "text": [
      "/tmp/ipykernel_53691/1253261533.py:28: FutureWarning: The behavior of DataFrame concatenation with empty or all-NA entries is deprecated. In a future version, this will no longer exclude empty or all-NA columns when determining the result dtypes. To retain the old behavior, exclude the relevant entries before the concat operation.\n",
      "  df.loc[len(df)] = tmp_row\n",
      "/tmp/ipykernel_53691/1253261533.py:77: FutureWarning: The behavior of DataFrame concatenation with empty or all-NA entries is deprecated. In a future version, this will no longer exclude empty or all-NA columns when determining the result dtypes. To retain the old behavior, exclude the relevant entries before the concat operation.\n",
      "  df.loc[len(df)] = tmp_row\n",
      "/tmp/ipykernel_53691/1253261533.py:77: FutureWarning: The behavior of DataFrame concatenation with empty or all-NA entries is deprecated. In a future version, this will no longer exclude empty or all-NA columns when determining the result dtypes. To retain the old behavior, exclude the relevant entries before the concat operation.\n",
      "  df.loc[len(df)] = tmp_row\n",
      "/tmp/ipykernel_53691/1253261533.py:77: FutureWarning: The behavior of DataFrame concatenation with empty or all-NA entries is deprecated. In a future version, this will no longer exclude empty or all-NA columns when determining the result dtypes. To retain the old behavior, exclude the relevant entries before the concat operation.\n",
      "  df.loc[len(df)] = tmp_row\n"
     ]
    },
    {
     "name": "stdout",
     "output_type": "stream",
     "text": [
      "......0304 files done\n"
     ]
    },
    {
     "name": "stderr",
     "output_type": "stream",
     "text": [
      "/tmp/ipykernel_53691/1253261533.py:28: FutureWarning: The behavior of DataFrame concatenation with empty or all-NA entries is deprecated. In a future version, this will no longer exclude empty or all-NA columns when determining the result dtypes. To retain the old behavior, exclude the relevant entries before the concat operation.\n",
      "  df.loc[len(df)] = tmp_row\n",
      "/tmp/ipykernel_53691/1253261533.py:77: FutureWarning: The behavior of DataFrame concatenation with empty or all-NA entries is deprecated. In a future version, this will no longer exclude empty or all-NA columns when determining the result dtypes. To retain the old behavior, exclude the relevant entries before the concat operation.\n",
      "  df.loc[len(df)] = tmp_row\n",
      "/tmp/ipykernel_53691/1253261533.py:77: FutureWarning: The behavior of DataFrame concatenation with empty or all-NA entries is deprecated. In a future version, this will no longer exclude empty or all-NA columns when determining the result dtypes. To retain the old behavior, exclude the relevant entries before the concat operation.\n",
      "  df.loc[len(df)] = tmp_row\n",
      "/tmp/ipykernel_53691/1253261533.py:77: FutureWarning: The behavior of DataFrame concatenation with empty or all-NA entries is deprecated. In a future version, this will no longer exclude empty or all-NA columns when determining the result dtypes. To retain the old behavior, exclude the relevant entries before the concat operation.\n",
      "  df.loc[len(df)] = tmp_row\n"
     ]
    },
    {
     "name": "stdout",
     "output_type": "stream",
     "text": [
      "......0305 files done\n"
     ]
    },
    {
     "name": "stderr",
     "output_type": "stream",
     "text": [
      "/tmp/ipykernel_53691/1253261533.py:28: FutureWarning: The behavior of DataFrame concatenation with empty or all-NA entries is deprecated. In a future version, this will no longer exclude empty or all-NA columns when determining the result dtypes. To retain the old behavior, exclude the relevant entries before the concat operation.\n",
      "  df.loc[len(df)] = tmp_row\n",
      "/tmp/ipykernel_53691/1253261533.py:77: FutureWarning: The behavior of DataFrame concatenation with empty or all-NA entries is deprecated. In a future version, this will no longer exclude empty or all-NA columns when determining the result dtypes. To retain the old behavior, exclude the relevant entries before the concat operation.\n",
      "  df.loc[len(df)] = tmp_row\n",
      "/tmp/ipykernel_53691/1253261533.py:77: FutureWarning: The behavior of DataFrame concatenation with empty or all-NA entries is deprecated. In a future version, this will no longer exclude empty or all-NA columns when determining the result dtypes. To retain the old behavior, exclude the relevant entries before the concat operation.\n",
      "  df.loc[len(df)] = tmp_row\n",
      "/tmp/ipykernel_53691/1253261533.py:77: FutureWarning: The behavior of DataFrame concatenation with empty or all-NA entries is deprecated. In a future version, this will no longer exclude empty or all-NA columns when determining the result dtypes. To retain the old behavior, exclude the relevant entries before the concat operation.\n",
      "  df.loc[len(df)] = tmp_row\n"
     ]
    },
    {
     "name": "stdout",
     "output_type": "stream",
     "text": [
      "......0306 files done\n"
     ]
    },
    {
     "name": "stderr",
     "output_type": "stream",
     "text": [
      "/tmp/ipykernel_53691/1253261533.py:28: FutureWarning: The behavior of DataFrame concatenation with empty or all-NA entries is deprecated. In a future version, this will no longer exclude empty or all-NA columns when determining the result dtypes. To retain the old behavior, exclude the relevant entries before the concat operation.\n",
      "  df.loc[len(df)] = tmp_row\n",
      "/tmp/ipykernel_53691/1253261533.py:77: FutureWarning: The behavior of DataFrame concatenation with empty or all-NA entries is deprecated. In a future version, this will no longer exclude empty or all-NA columns when determining the result dtypes. To retain the old behavior, exclude the relevant entries before the concat operation.\n",
      "  df.loc[len(df)] = tmp_row\n",
      "/tmp/ipykernel_53691/1253261533.py:77: FutureWarning: The behavior of DataFrame concatenation with empty or all-NA entries is deprecated. In a future version, this will no longer exclude empty or all-NA columns when determining the result dtypes. To retain the old behavior, exclude the relevant entries before the concat operation.\n",
      "  df.loc[len(df)] = tmp_row\n",
      "/tmp/ipykernel_53691/1253261533.py:77: FutureWarning: The behavior of DataFrame concatenation with empty or all-NA entries is deprecated. In a future version, this will no longer exclude empty or all-NA columns when determining the result dtypes. To retain the old behavior, exclude the relevant entries before the concat operation.\n",
      "  df.loc[len(df)] = tmp_row\n"
     ]
    },
    {
     "name": "stdout",
     "output_type": "stream",
     "text": [
      "......0307 files done\n"
     ]
    },
    {
     "name": "stderr",
     "output_type": "stream",
     "text": [
      "/tmp/ipykernel_53691/1253261533.py:28: FutureWarning: The behavior of DataFrame concatenation with empty or all-NA entries is deprecated. In a future version, this will no longer exclude empty or all-NA columns when determining the result dtypes. To retain the old behavior, exclude the relevant entries before the concat operation.\n",
      "  df.loc[len(df)] = tmp_row\n",
      "/tmp/ipykernel_53691/1253261533.py:77: FutureWarning: The behavior of DataFrame concatenation with empty or all-NA entries is deprecated. In a future version, this will no longer exclude empty or all-NA columns when determining the result dtypes. To retain the old behavior, exclude the relevant entries before the concat operation.\n",
      "  df.loc[len(df)] = tmp_row\n",
      "/tmp/ipykernel_53691/1253261533.py:77: FutureWarning: The behavior of DataFrame concatenation with empty or all-NA entries is deprecated. In a future version, this will no longer exclude empty or all-NA columns when determining the result dtypes. To retain the old behavior, exclude the relevant entries before the concat operation.\n",
      "  df.loc[len(df)] = tmp_row\n",
      "/tmp/ipykernel_53691/1253261533.py:77: FutureWarning: The behavior of DataFrame concatenation with empty or all-NA entries is deprecated. In a future version, this will no longer exclude empty or all-NA columns when determining the result dtypes. To retain the old behavior, exclude the relevant entries before the concat operation.\n",
      "  df.loc[len(df)] = tmp_row\n"
     ]
    },
    {
     "name": "stdout",
     "output_type": "stream",
     "text": [
      "......0308 files done\n"
     ]
    },
    {
     "name": "stderr",
     "output_type": "stream",
     "text": [
      "/tmp/ipykernel_53691/1253261533.py:28: FutureWarning: The behavior of DataFrame concatenation with empty or all-NA entries is deprecated. In a future version, this will no longer exclude empty or all-NA columns when determining the result dtypes. To retain the old behavior, exclude the relevant entries before the concat operation.\n",
      "  df.loc[len(df)] = tmp_row\n",
      "/tmp/ipykernel_53691/1253261533.py:77: FutureWarning: The behavior of DataFrame concatenation with empty or all-NA entries is deprecated. In a future version, this will no longer exclude empty or all-NA columns when determining the result dtypes. To retain the old behavior, exclude the relevant entries before the concat operation.\n",
      "  df.loc[len(df)] = tmp_row\n",
      "/tmp/ipykernel_53691/1253261533.py:77: FutureWarning: The behavior of DataFrame concatenation with empty or all-NA entries is deprecated. In a future version, this will no longer exclude empty or all-NA columns when determining the result dtypes. To retain the old behavior, exclude the relevant entries before the concat operation.\n",
      "  df.loc[len(df)] = tmp_row\n",
      "/tmp/ipykernel_53691/1253261533.py:77: FutureWarning: The behavior of DataFrame concatenation with empty or all-NA entries is deprecated. In a future version, this will no longer exclude empty or all-NA columns when determining the result dtypes. To retain the old behavior, exclude the relevant entries before the concat operation.\n",
      "  df.loc[len(df)] = tmp_row\n"
     ]
    },
    {
     "name": "stdout",
     "output_type": "stream",
     "text": [
      "......0309 files done\n"
     ]
    },
    {
     "name": "stderr",
     "output_type": "stream",
     "text": [
      "/tmp/ipykernel_53691/1253261533.py:28: FutureWarning: The behavior of DataFrame concatenation with empty or all-NA entries is deprecated. In a future version, this will no longer exclude empty or all-NA columns when determining the result dtypes. To retain the old behavior, exclude the relevant entries before the concat operation.\n",
      "  df.loc[len(df)] = tmp_row\n",
      "/tmp/ipykernel_53691/1253261533.py:77: FutureWarning: The behavior of DataFrame concatenation with empty or all-NA entries is deprecated. In a future version, this will no longer exclude empty or all-NA columns when determining the result dtypes. To retain the old behavior, exclude the relevant entries before the concat operation.\n",
      "  df.loc[len(df)] = tmp_row\n",
      "/tmp/ipykernel_53691/1253261533.py:77: FutureWarning: The behavior of DataFrame concatenation with empty or all-NA entries is deprecated. In a future version, this will no longer exclude empty or all-NA columns when determining the result dtypes. To retain the old behavior, exclude the relevant entries before the concat operation.\n",
      "  df.loc[len(df)] = tmp_row\n",
      "/tmp/ipykernel_53691/1253261533.py:77: FutureWarning: The behavior of DataFrame concatenation with empty or all-NA entries is deprecated. In a future version, this will no longer exclude empty or all-NA columns when determining the result dtypes. To retain the old behavior, exclude the relevant entries before the concat operation.\n",
      "  df.loc[len(df)] = tmp_row\n"
     ]
    },
    {
     "name": "stdout",
     "output_type": "stream",
     "text": [
      "......0310 files done\n"
     ]
    },
    {
     "name": "stderr",
     "output_type": "stream",
     "text": [
      "/tmp/ipykernel_53691/1253261533.py:28: FutureWarning: The behavior of DataFrame concatenation with empty or all-NA entries is deprecated. In a future version, this will no longer exclude empty or all-NA columns when determining the result dtypes. To retain the old behavior, exclude the relevant entries before the concat operation.\n",
      "  df.loc[len(df)] = tmp_row\n",
      "/tmp/ipykernel_53691/1253261533.py:77: FutureWarning: The behavior of DataFrame concatenation with empty or all-NA entries is deprecated. In a future version, this will no longer exclude empty or all-NA columns when determining the result dtypes. To retain the old behavior, exclude the relevant entries before the concat operation.\n",
      "  df.loc[len(df)] = tmp_row\n",
      "/tmp/ipykernel_53691/1253261533.py:77: FutureWarning: The behavior of DataFrame concatenation with empty or all-NA entries is deprecated. In a future version, this will no longer exclude empty or all-NA columns when determining the result dtypes. To retain the old behavior, exclude the relevant entries before the concat operation.\n",
      "  df.loc[len(df)] = tmp_row\n",
      "/tmp/ipykernel_53691/1253261533.py:77: FutureWarning: The behavior of DataFrame concatenation with empty or all-NA entries is deprecated. In a future version, this will no longer exclude empty or all-NA columns when determining the result dtypes. To retain the old behavior, exclude the relevant entries before the concat operation.\n",
      "  df.loc[len(df)] = tmp_row\n"
     ]
    },
    {
     "name": "stdout",
     "output_type": "stream",
     "text": [
      "......0311 files done\n"
     ]
    },
    {
     "name": "stderr",
     "output_type": "stream",
     "text": [
      "/tmp/ipykernel_53691/1253261533.py:28: FutureWarning: The behavior of DataFrame concatenation with empty or all-NA entries is deprecated. In a future version, this will no longer exclude empty or all-NA columns when determining the result dtypes. To retain the old behavior, exclude the relevant entries before the concat operation.\n",
      "  df.loc[len(df)] = tmp_row\n",
      "/tmp/ipykernel_53691/1253261533.py:77: FutureWarning: The behavior of DataFrame concatenation with empty or all-NA entries is deprecated. In a future version, this will no longer exclude empty or all-NA columns when determining the result dtypes. To retain the old behavior, exclude the relevant entries before the concat operation.\n",
      "  df.loc[len(df)] = tmp_row\n",
      "/tmp/ipykernel_53691/1253261533.py:77: FutureWarning: The behavior of DataFrame concatenation with empty or all-NA entries is deprecated. In a future version, this will no longer exclude empty or all-NA columns when determining the result dtypes. To retain the old behavior, exclude the relevant entries before the concat operation.\n",
      "  df.loc[len(df)] = tmp_row\n",
      "/tmp/ipykernel_53691/1253261533.py:77: FutureWarning: The behavior of DataFrame concatenation with empty or all-NA entries is deprecated. In a future version, this will no longer exclude empty or all-NA columns when determining the result dtypes. To retain the old behavior, exclude the relevant entries before the concat operation.\n",
      "  df.loc[len(df)] = tmp_row\n"
     ]
    },
    {
     "name": "stdout",
     "output_type": "stream",
     "text": [
      "......0312 files done\n"
     ]
    },
    {
     "name": "stderr",
     "output_type": "stream",
     "text": [
      "/tmp/ipykernel_53691/1253261533.py:28: FutureWarning: The behavior of DataFrame concatenation with empty or all-NA entries is deprecated. In a future version, this will no longer exclude empty or all-NA columns when determining the result dtypes. To retain the old behavior, exclude the relevant entries before the concat operation.\n",
      "  df.loc[len(df)] = tmp_row\n",
      "/tmp/ipykernel_53691/1253261533.py:77: FutureWarning: The behavior of DataFrame concatenation with empty or all-NA entries is deprecated. In a future version, this will no longer exclude empty or all-NA columns when determining the result dtypes. To retain the old behavior, exclude the relevant entries before the concat operation.\n",
      "  df.loc[len(df)] = tmp_row\n",
      "/tmp/ipykernel_53691/1253261533.py:77: FutureWarning: The behavior of DataFrame concatenation with empty or all-NA entries is deprecated. In a future version, this will no longer exclude empty or all-NA columns when determining the result dtypes. To retain the old behavior, exclude the relevant entries before the concat operation.\n",
      "  df.loc[len(df)] = tmp_row\n",
      "/tmp/ipykernel_53691/1253261533.py:77: FutureWarning: The behavior of DataFrame concatenation with empty or all-NA entries is deprecated. In a future version, this will no longer exclude empty or all-NA columns when determining the result dtypes. To retain the old behavior, exclude the relevant entries before the concat operation.\n",
      "  df.loc[len(df)] = tmp_row\n"
     ]
    },
    {
     "name": "stdout",
     "output_type": "stream",
     "text": [
      "......0313 files done\n"
     ]
    },
    {
     "name": "stderr",
     "output_type": "stream",
     "text": [
      "/tmp/ipykernel_53691/1253261533.py:28: FutureWarning: The behavior of DataFrame concatenation with empty or all-NA entries is deprecated. In a future version, this will no longer exclude empty or all-NA columns when determining the result dtypes. To retain the old behavior, exclude the relevant entries before the concat operation.\n",
      "  df.loc[len(df)] = tmp_row\n",
      "/tmp/ipykernel_53691/1253261533.py:77: FutureWarning: The behavior of DataFrame concatenation with empty or all-NA entries is deprecated. In a future version, this will no longer exclude empty or all-NA columns when determining the result dtypes. To retain the old behavior, exclude the relevant entries before the concat operation.\n",
      "  df.loc[len(df)] = tmp_row\n",
      "/tmp/ipykernel_53691/1253261533.py:77: FutureWarning: The behavior of DataFrame concatenation with empty or all-NA entries is deprecated. In a future version, this will no longer exclude empty or all-NA columns when determining the result dtypes. To retain the old behavior, exclude the relevant entries before the concat operation.\n",
      "  df.loc[len(df)] = tmp_row\n",
      "/tmp/ipykernel_53691/1253261533.py:77: FutureWarning: The behavior of DataFrame concatenation with empty or all-NA entries is deprecated. In a future version, this will no longer exclude empty or all-NA columns when determining the result dtypes. To retain the old behavior, exclude the relevant entries before the concat operation.\n",
      "  df.loc[len(df)] = tmp_row\n"
     ]
    },
    {
     "name": "stdout",
     "output_type": "stream",
     "text": [
      "......0314 files done\n"
     ]
    },
    {
     "name": "stderr",
     "output_type": "stream",
     "text": [
      "/tmp/ipykernel_53691/1253261533.py:28: FutureWarning: The behavior of DataFrame concatenation with empty or all-NA entries is deprecated. In a future version, this will no longer exclude empty or all-NA columns when determining the result dtypes. To retain the old behavior, exclude the relevant entries before the concat operation.\n",
      "  df.loc[len(df)] = tmp_row\n",
      "/tmp/ipykernel_53691/1253261533.py:77: FutureWarning: The behavior of DataFrame concatenation with empty or all-NA entries is deprecated. In a future version, this will no longer exclude empty or all-NA columns when determining the result dtypes. To retain the old behavior, exclude the relevant entries before the concat operation.\n",
      "  df.loc[len(df)] = tmp_row\n",
      "/tmp/ipykernel_53691/1253261533.py:77: FutureWarning: The behavior of DataFrame concatenation with empty or all-NA entries is deprecated. In a future version, this will no longer exclude empty or all-NA columns when determining the result dtypes. To retain the old behavior, exclude the relevant entries before the concat operation.\n",
      "  df.loc[len(df)] = tmp_row\n",
      "/tmp/ipykernel_53691/1253261533.py:77: FutureWarning: The behavior of DataFrame concatenation with empty or all-NA entries is deprecated. In a future version, this will no longer exclude empty or all-NA columns when determining the result dtypes. To retain the old behavior, exclude the relevant entries before the concat operation.\n",
      "  df.loc[len(df)] = tmp_row\n"
     ]
    },
    {
     "name": "stdout",
     "output_type": "stream",
     "text": [
      "......0315 files done\n"
     ]
    },
    {
     "name": "stderr",
     "output_type": "stream",
     "text": [
      "/tmp/ipykernel_53691/1253261533.py:28: FutureWarning: The behavior of DataFrame concatenation with empty or all-NA entries is deprecated. In a future version, this will no longer exclude empty or all-NA columns when determining the result dtypes. To retain the old behavior, exclude the relevant entries before the concat operation.\n",
      "  df.loc[len(df)] = tmp_row\n",
      "/tmp/ipykernel_53691/1253261533.py:77: FutureWarning: The behavior of DataFrame concatenation with empty or all-NA entries is deprecated. In a future version, this will no longer exclude empty or all-NA columns when determining the result dtypes. To retain the old behavior, exclude the relevant entries before the concat operation.\n",
      "  df.loc[len(df)] = tmp_row\n",
      "/tmp/ipykernel_53691/1253261533.py:77: FutureWarning: The behavior of DataFrame concatenation with empty or all-NA entries is deprecated. In a future version, this will no longer exclude empty or all-NA columns when determining the result dtypes. To retain the old behavior, exclude the relevant entries before the concat operation.\n",
      "  df.loc[len(df)] = tmp_row\n",
      "/tmp/ipykernel_53691/1253261533.py:77: FutureWarning: The behavior of DataFrame concatenation with empty or all-NA entries is deprecated. In a future version, this will no longer exclude empty or all-NA columns when determining the result dtypes. To retain the old behavior, exclude the relevant entries before the concat operation.\n",
      "  df.loc[len(df)] = tmp_row\n"
     ]
    },
    {
     "name": "stdout",
     "output_type": "stream",
     "text": [
      "......0316 files done\n"
     ]
    },
    {
     "name": "stderr",
     "output_type": "stream",
     "text": [
      "/tmp/ipykernel_53691/1253261533.py:28: FutureWarning: The behavior of DataFrame concatenation with empty or all-NA entries is deprecated. In a future version, this will no longer exclude empty or all-NA columns when determining the result dtypes. To retain the old behavior, exclude the relevant entries before the concat operation.\n",
      "  df.loc[len(df)] = tmp_row\n",
      "/tmp/ipykernel_53691/1253261533.py:77: FutureWarning: The behavior of DataFrame concatenation with empty or all-NA entries is deprecated. In a future version, this will no longer exclude empty or all-NA columns when determining the result dtypes. To retain the old behavior, exclude the relevant entries before the concat operation.\n",
      "  df.loc[len(df)] = tmp_row\n",
      "/tmp/ipykernel_53691/1253261533.py:77: FutureWarning: The behavior of DataFrame concatenation with empty or all-NA entries is deprecated. In a future version, this will no longer exclude empty or all-NA columns when determining the result dtypes. To retain the old behavior, exclude the relevant entries before the concat operation.\n",
      "  df.loc[len(df)] = tmp_row\n",
      "/tmp/ipykernel_53691/1253261533.py:77: FutureWarning: The behavior of DataFrame concatenation with empty or all-NA entries is deprecated. In a future version, this will no longer exclude empty or all-NA columns when determining the result dtypes. To retain the old behavior, exclude the relevant entries before the concat operation.\n",
      "  df.loc[len(df)] = tmp_row\n"
     ]
    },
    {
     "name": "stdout",
     "output_type": "stream",
     "text": [
      "......0317 files done\n"
     ]
    },
    {
     "name": "stderr",
     "output_type": "stream",
     "text": [
      "/tmp/ipykernel_53691/1253261533.py:28: FutureWarning: The behavior of DataFrame concatenation with empty or all-NA entries is deprecated. In a future version, this will no longer exclude empty or all-NA columns when determining the result dtypes. To retain the old behavior, exclude the relevant entries before the concat operation.\n",
      "  df.loc[len(df)] = tmp_row\n",
      "/tmp/ipykernel_53691/1253261533.py:77: FutureWarning: The behavior of DataFrame concatenation with empty or all-NA entries is deprecated. In a future version, this will no longer exclude empty or all-NA columns when determining the result dtypes. To retain the old behavior, exclude the relevant entries before the concat operation.\n",
      "  df.loc[len(df)] = tmp_row\n",
      "/tmp/ipykernel_53691/1253261533.py:77: FutureWarning: The behavior of DataFrame concatenation with empty or all-NA entries is deprecated. In a future version, this will no longer exclude empty or all-NA columns when determining the result dtypes. To retain the old behavior, exclude the relevant entries before the concat operation.\n",
      "  df.loc[len(df)] = tmp_row\n",
      "/tmp/ipykernel_53691/1253261533.py:77: FutureWarning: The behavior of DataFrame concatenation with empty or all-NA entries is deprecated. In a future version, this will no longer exclude empty or all-NA columns when determining the result dtypes. To retain the old behavior, exclude the relevant entries before the concat operation.\n",
      "  df.loc[len(df)] = tmp_row\n"
     ]
    },
    {
     "name": "stdout",
     "output_type": "stream",
     "text": [
      "......0318 files done\n"
     ]
    },
    {
     "name": "stderr",
     "output_type": "stream",
     "text": [
      "/tmp/ipykernel_53691/1253261533.py:28: FutureWarning: The behavior of DataFrame concatenation with empty or all-NA entries is deprecated. In a future version, this will no longer exclude empty or all-NA columns when determining the result dtypes. To retain the old behavior, exclude the relevant entries before the concat operation.\n",
      "  df.loc[len(df)] = tmp_row\n",
      "/tmp/ipykernel_53691/1253261533.py:77: FutureWarning: The behavior of DataFrame concatenation with empty or all-NA entries is deprecated. In a future version, this will no longer exclude empty or all-NA columns when determining the result dtypes. To retain the old behavior, exclude the relevant entries before the concat operation.\n",
      "  df.loc[len(df)] = tmp_row\n",
      "/tmp/ipykernel_53691/1253261533.py:77: FutureWarning: The behavior of DataFrame concatenation with empty or all-NA entries is deprecated. In a future version, this will no longer exclude empty or all-NA columns when determining the result dtypes. To retain the old behavior, exclude the relevant entries before the concat operation.\n",
      "  df.loc[len(df)] = tmp_row\n",
      "/tmp/ipykernel_53691/1253261533.py:77: FutureWarning: The behavior of DataFrame concatenation with empty or all-NA entries is deprecated. In a future version, this will no longer exclude empty or all-NA columns when determining the result dtypes. To retain the old behavior, exclude the relevant entries before the concat operation.\n",
      "  df.loc[len(df)] = tmp_row\n"
     ]
    },
    {
     "name": "stdout",
     "output_type": "stream",
     "text": [
      "......0319 files done\n"
     ]
    },
    {
     "name": "stderr",
     "output_type": "stream",
     "text": [
      "/tmp/ipykernel_53691/1253261533.py:28: FutureWarning: The behavior of DataFrame concatenation with empty or all-NA entries is deprecated. In a future version, this will no longer exclude empty or all-NA columns when determining the result dtypes. To retain the old behavior, exclude the relevant entries before the concat operation.\n",
      "  df.loc[len(df)] = tmp_row\n",
      "/tmp/ipykernel_53691/1253261533.py:77: FutureWarning: The behavior of DataFrame concatenation with empty or all-NA entries is deprecated. In a future version, this will no longer exclude empty or all-NA columns when determining the result dtypes. To retain the old behavior, exclude the relevant entries before the concat operation.\n",
      "  df.loc[len(df)] = tmp_row\n",
      "/tmp/ipykernel_53691/1253261533.py:77: FutureWarning: The behavior of DataFrame concatenation with empty or all-NA entries is deprecated. In a future version, this will no longer exclude empty or all-NA columns when determining the result dtypes. To retain the old behavior, exclude the relevant entries before the concat operation.\n",
      "  df.loc[len(df)] = tmp_row\n",
      "/tmp/ipykernel_53691/1253261533.py:77: FutureWarning: The behavior of DataFrame concatenation with empty or all-NA entries is deprecated. In a future version, this will no longer exclude empty or all-NA columns when determining the result dtypes. To retain the old behavior, exclude the relevant entries before the concat operation.\n",
      "  df.loc[len(df)] = tmp_row\n"
     ]
    },
    {
     "name": "stdout",
     "output_type": "stream",
     "text": [
      "......0320 files done\n"
     ]
    },
    {
     "name": "stderr",
     "output_type": "stream",
     "text": [
      "/tmp/ipykernel_53691/1253261533.py:28: FutureWarning: The behavior of DataFrame concatenation with empty or all-NA entries is deprecated. In a future version, this will no longer exclude empty or all-NA columns when determining the result dtypes. To retain the old behavior, exclude the relevant entries before the concat operation.\n",
      "  df.loc[len(df)] = tmp_row\n",
      "/tmp/ipykernel_53691/1253261533.py:77: FutureWarning: The behavior of DataFrame concatenation with empty or all-NA entries is deprecated. In a future version, this will no longer exclude empty or all-NA columns when determining the result dtypes. To retain the old behavior, exclude the relevant entries before the concat operation.\n",
      "  df.loc[len(df)] = tmp_row\n",
      "/tmp/ipykernel_53691/1253261533.py:77: FutureWarning: The behavior of DataFrame concatenation with empty or all-NA entries is deprecated. In a future version, this will no longer exclude empty or all-NA columns when determining the result dtypes. To retain the old behavior, exclude the relevant entries before the concat operation.\n",
      "  df.loc[len(df)] = tmp_row\n",
      "/tmp/ipykernel_53691/1253261533.py:77: FutureWarning: The behavior of DataFrame concatenation with empty or all-NA entries is deprecated. In a future version, this will no longer exclude empty or all-NA columns when determining the result dtypes. To retain the old behavior, exclude the relevant entries before the concat operation.\n",
      "  df.loc[len(df)] = tmp_row\n"
     ]
    },
    {
     "name": "stdout",
     "output_type": "stream",
     "text": [
      "......0321 files done\n"
     ]
    },
    {
     "name": "stderr",
     "output_type": "stream",
     "text": [
      "/tmp/ipykernel_53691/1253261533.py:28: FutureWarning: The behavior of DataFrame concatenation with empty or all-NA entries is deprecated. In a future version, this will no longer exclude empty or all-NA columns when determining the result dtypes. To retain the old behavior, exclude the relevant entries before the concat operation.\n",
      "  df.loc[len(df)] = tmp_row\n",
      "/tmp/ipykernel_53691/1253261533.py:77: FutureWarning: The behavior of DataFrame concatenation with empty or all-NA entries is deprecated. In a future version, this will no longer exclude empty or all-NA columns when determining the result dtypes. To retain the old behavior, exclude the relevant entries before the concat operation.\n",
      "  df.loc[len(df)] = tmp_row\n",
      "/tmp/ipykernel_53691/1253261533.py:77: FutureWarning: The behavior of DataFrame concatenation with empty or all-NA entries is deprecated. In a future version, this will no longer exclude empty or all-NA columns when determining the result dtypes. To retain the old behavior, exclude the relevant entries before the concat operation.\n",
      "  df.loc[len(df)] = tmp_row\n",
      "/tmp/ipykernel_53691/1253261533.py:77: FutureWarning: The behavior of DataFrame concatenation with empty or all-NA entries is deprecated. In a future version, this will no longer exclude empty or all-NA columns when determining the result dtypes. To retain the old behavior, exclude the relevant entries before the concat operation.\n",
      "  df.loc[len(df)] = tmp_row\n"
     ]
    },
    {
     "name": "stdout",
     "output_type": "stream",
     "text": [
      "......0322 files done\n"
     ]
    },
    {
     "name": "stderr",
     "output_type": "stream",
     "text": [
      "/tmp/ipykernel_53691/1253261533.py:28: FutureWarning: The behavior of DataFrame concatenation with empty or all-NA entries is deprecated. In a future version, this will no longer exclude empty or all-NA columns when determining the result dtypes. To retain the old behavior, exclude the relevant entries before the concat operation.\n",
      "  df.loc[len(df)] = tmp_row\n",
      "/tmp/ipykernel_53691/1253261533.py:77: FutureWarning: The behavior of DataFrame concatenation with empty or all-NA entries is deprecated. In a future version, this will no longer exclude empty or all-NA columns when determining the result dtypes. To retain the old behavior, exclude the relevant entries before the concat operation.\n",
      "  df.loc[len(df)] = tmp_row\n",
      "/tmp/ipykernel_53691/1253261533.py:77: FutureWarning: The behavior of DataFrame concatenation with empty or all-NA entries is deprecated. In a future version, this will no longer exclude empty or all-NA columns when determining the result dtypes. To retain the old behavior, exclude the relevant entries before the concat operation.\n",
      "  df.loc[len(df)] = tmp_row\n",
      "/tmp/ipykernel_53691/1253261533.py:77: FutureWarning: The behavior of DataFrame concatenation with empty or all-NA entries is deprecated. In a future version, this will no longer exclude empty or all-NA columns when determining the result dtypes. To retain the old behavior, exclude the relevant entries before the concat operation.\n",
      "  df.loc[len(df)] = tmp_row\n"
     ]
    },
    {
     "name": "stdout",
     "output_type": "stream",
     "text": [
      "......0323 files done\n"
     ]
    },
    {
     "name": "stderr",
     "output_type": "stream",
     "text": [
      "/tmp/ipykernel_53691/1253261533.py:28: FutureWarning: The behavior of DataFrame concatenation with empty or all-NA entries is deprecated. In a future version, this will no longer exclude empty or all-NA columns when determining the result dtypes. To retain the old behavior, exclude the relevant entries before the concat operation.\n",
      "  df.loc[len(df)] = tmp_row\n",
      "/tmp/ipykernel_53691/1253261533.py:77: FutureWarning: The behavior of DataFrame concatenation with empty or all-NA entries is deprecated. In a future version, this will no longer exclude empty or all-NA columns when determining the result dtypes. To retain the old behavior, exclude the relevant entries before the concat operation.\n",
      "  df.loc[len(df)] = tmp_row\n",
      "/tmp/ipykernel_53691/1253261533.py:77: FutureWarning: The behavior of DataFrame concatenation with empty or all-NA entries is deprecated. In a future version, this will no longer exclude empty or all-NA columns when determining the result dtypes. To retain the old behavior, exclude the relevant entries before the concat operation.\n",
      "  df.loc[len(df)] = tmp_row\n",
      "/tmp/ipykernel_53691/1253261533.py:77: FutureWarning: The behavior of DataFrame concatenation with empty or all-NA entries is deprecated. In a future version, this will no longer exclude empty or all-NA columns when determining the result dtypes. To retain the old behavior, exclude the relevant entries before the concat operation.\n",
      "  df.loc[len(df)] = tmp_row\n"
     ]
    },
    {
     "name": "stdout",
     "output_type": "stream",
     "text": [
      "......0324 files done\n"
     ]
    },
    {
     "name": "stderr",
     "output_type": "stream",
     "text": [
      "/tmp/ipykernel_53691/1253261533.py:28: FutureWarning: The behavior of DataFrame concatenation with empty or all-NA entries is deprecated. In a future version, this will no longer exclude empty or all-NA columns when determining the result dtypes. To retain the old behavior, exclude the relevant entries before the concat operation.\n",
      "  df.loc[len(df)] = tmp_row\n",
      "/tmp/ipykernel_53691/1253261533.py:77: FutureWarning: The behavior of DataFrame concatenation with empty or all-NA entries is deprecated. In a future version, this will no longer exclude empty or all-NA columns when determining the result dtypes. To retain the old behavior, exclude the relevant entries before the concat operation.\n",
      "  df.loc[len(df)] = tmp_row\n",
      "/tmp/ipykernel_53691/1253261533.py:77: FutureWarning: The behavior of DataFrame concatenation with empty or all-NA entries is deprecated. In a future version, this will no longer exclude empty or all-NA columns when determining the result dtypes. To retain the old behavior, exclude the relevant entries before the concat operation.\n",
      "  df.loc[len(df)] = tmp_row\n",
      "/tmp/ipykernel_53691/1253261533.py:77: FutureWarning: The behavior of DataFrame concatenation with empty or all-NA entries is deprecated. In a future version, this will no longer exclude empty or all-NA columns when determining the result dtypes. To retain the old behavior, exclude the relevant entries before the concat operation.\n",
      "  df.loc[len(df)] = tmp_row\n"
     ]
    },
    {
     "name": "stdout",
     "output_type": "stream",
     "text": [
      "......0325 files done\n"
     ]
    },
    {
     "name": "stderr",
     "output_type": "stream",
     "text": [
      "/tmp/ipykernel_53691/1253261533.py:28: FutureWarning: The behavior of DataFrame concatenation with empty or all-NA entries is deprecated. In a future version, this will no longer exclude empty or all-NA columns when determining the result dtypes. To retain the old behavior, exclude the relevant entries before the concat operation.\n",
      "  df.loc[len(df)] = tmp_row\n",
      "/tmp/ipykernel_53691/1253261533.py:77: FutureWarning: The behavior of DataFrame concatenation with empty or all-NA entries is deprecated. In a future version, this will no longer exclude empty or all-NA columns when determining the result dtypes. To retain the old behavior, exclude the relevant entries before the concat operation.\n",
      "  df.loc[len(df)] = tmp_row\n",
      "/tmp/ipykernel_53691/1253261533.py:77: FutureWarning: The behavior of DataFrame concatenation with empty or all-NA entries is deprecated. In a future version, this will no longer exclude empty or all-NA columns when determining the result dtypes. To retain the old behavior, exclude the relevant entries before the concat operation.\n",
      "  df.loc[len(df)] = tmp_row\n",
      "/tmp/ipykernel_53691/1253261533.py:77: FutureWarning: The behavior of DataFrame concatenation with empty or all-NA entries is deprecated. In a future version, this will no longer exclude empty or all-NA columns when determining the result dtypes. To retain the old behavior, exclude the relevant entries before the concat operation.\n",
      "  df.loc[len(df)] = tmp_row\n"
     ]
    },
    {
     "name": "stdout",
     "output_type": "stream",
     "text": [
      "......0326 files done\n"
     ]
    },
    {
     "name": "stderr",
     "output_type": "stream",
     "text": [
      "/tmp/ipykernel_53691/1253261533.py:28: FutureWarning: The behavior of DataFrame concatenation with empty or all-NA entries is deprecated. In a future version, this will no longer exclude empty or all-NA columns when determining the result dtypes. To retain the old behavior, exclude the relevant entries before the concat operation.\n",
      "  df.loc[len(df)] = tmp_row\n",
      "/tmp/ipykernel_53691/1253261533.py:77: FutureWarning: The behavior of DataFrame concatenation with empty or all-NA entries is deprecated. In a future version, this will no longer exclude empty or all-NA columns when determining the result dtypes. To retain the old behavior, exclude the relevant entries before the concat operation.\n",
      "  df.loc[len(df)] = tmp_row\n",
      "/tmp/ipykernel_53691/1253261533.py:77: FutureWarning: The behavior of DataFrame concatenation with empty or all-NA entries is deprecated. In a future version, this will no longer exclude empty or all-NA columns when determining the result dtypes. To retain the old behavior, exclude the relevant entries before the concat operation.\n",
      "  df.loc[len(df)] = tmp_row\n",
      "/tmp/ipykernel_53691/1253261533.py:77: FutureWarning: The behavior of DataFrame concatenation with empty or all-NA entries is deprecated. In a future version, this will no longer exclude empty or all-NA columns when determining the result dtypes. To retain the old behavior, exclude the relevant entries before the concat operation.\n",
      "  df.loc[len(df)] = tmp_row\n"
     ]
    },
    {
     "name": "stdout",
     "output_type": "stream",
     "text": [
      "......0327 files done\n"
     ]
    },
    {
     "name": "stderr",
     "output_type": "stream",
     "text": [
      "/tmp/ipykernel_53691/1253261533.py:28: FutureWarning: The behavior of DataFrame concatenation with empty or all-NA entries is deprecated. In a future version, this will no longer exclude empty or all-NA columns when determining the result dtypes. To retain the old behavior, exclude the relevant entries before the concat operation.\n",
      "  df.loc[len(df)] = tmp_row\n",
      "/tmp/ipykernel_53691/1253261533.py:77: FutureWarning: The behavior of DataFrame concatenation with empty or all-NA entries is deprecated. In a future version, this will no longer exclude empty or all-NA columns when determining the result dtypes. To retain the old behavior, exclude the relevant entries before the concat operation.\n",
      "  df.loc[len(df)] = tmp_row\n",
      "/tmp/ipykernel_53691/1253261533.py:77: FutureWarning: The behavior of DataFrame concatenation with empty or all-NA entries is deprecated. In a future version, this will no longer exclude empty or all-NA columns when determining the result dtypes. To retain the old behavior, exclude the relevant entries before the concat operation.\n",
      "  df.loc[len(df)] = tmp_row\n",
      "/tmp/ipykernel_53691/1253261533.py:77: FutureWarning: The behavior of DataFrame concatenation with empty or all-NA entries is deprecated. In a future version, this will no longer exclude empty or all-NA columns when determining the result dtypes. To retain the old behavior, exclude the relevant entries before the concat operation.\n",
      "  df.loc[len(df)] = tmp_row\n"
     ]
    },
    {
     "name": "stdout",
     "output_type": "stream",
     "text": [
      "......0328 files done\n"
     ]
    },
    {
     "name": "stderr",
     "output_type": "stream",
     "text": [
      "/tmp/ipykernel_53691/1253261533.py:28: FutureWarning: The behavior of DataFrame concatenation with empty or all-NA entries is deprecated. In a future version, this will no longer exclude empty or all-NA columns when determining the result dtypes. To retain the old behavior, exclude the relevant entries before the concat operation.\n",
      "  df.loc[len(df)] = tmp_row\n",
      "/tmp/ipykernel_53691/1253261533.py:77: FutureWarning: The behavior of DataFrame concatenation with empty or all-NA entries is deprecated. In a future version, this will no longer exclude empty or all-NA columns when determining the result dtypes. To retain the old behavior, exclude the relevant entries before the concat operation.\n",
      "  df.loc[len(df)] = tmp_row\n",
      "/tmp/ipykernel_53691/1253261533.py:77: FutureWarning: The behavior of DataFrame concatenation with empty or all-NA entries is deprecated. In a future version, this will no longer exclude empty or all-NA columns when determining the result dtypes. To retain the old behavior, exclude the relevant entries before the concat operation.\n",
      "  df.loc[len(df)] = tmp_row\n",
      "/tmp/ipykernel_53691/1253261533.py:77: FutureWarning: The behavior of DataFrame concatenation with empty or all-NA entries is deprecated. In a future version, this will no longer exclude empty or all-NA columns when determining the result dtypes. To retain the old behavior, exclude the relevant entries before the concat operation.\n",
      "  df.loc[len(df)] = tmp_row\n"
     ]
    },
    {
     "name": "stdout",
     "output_type": "stream",
     "text": [
      "......0329 files done\n"
     ]
    },
    {
     "name": "stderr",
     "output_type": "stream",
     "text": [
      "/tmp/ipykernel_53691/1253261533.py:28: FutureWarning: The behavior of DataFrame concatenation with empty or all-NA entries is deprecated. In a future version, this will no longer exclude empty or all-NA columns when determining the result dtypes. To retain the old behavior, exclude the relevant entries before the concat operation.\n",
      "  df.loc[len(df)] = tmp_row\n",
      "/tmp/ipykernel_53691/1253261533.py:77: FutureWarning: The behavior of DataFrame concatenation with empty or all-NA entries is deprecated. In a future version, this will no longer exclude empty or all-NA columns when determining the result dtypes. To retain the old behavior, exclude the relevant entries before the concat operation.\n",
      "  df.loc[len(df)] = tmp_row\n",
      "/tmp/ipykernel_53691/1253261533.py:77: FutureWarning: The behavior of DataFrame concatenation with empty or all-NA entries is deprecated. In a future version, this will no longer exclude empty or all-NA columns when determining the result dtypes. To retain the old behavior, exclude the relevant entries before the concat operation.\n",
      "  df.loc[len(df)] = tmp_row\n",
      "/tmp/ipykernel_53691/1253261533.py:77: FutureWarning: The behavior of DataFrame concatenation with empty or all-NA entries is deprecated. In a future version, this will no longer exclude empty or all-NA columns when determining the result dtypes. To retain the old behavior, exclude the relevant entries before the concat operation.\n",
      "  df.loc[len(df)] = tmp_row\n"
     ]
    },
    {
     "name": "stdout",
     "output_type": "stream",
     "text": [
      "......0330 files done\n"
     ]
    },
    {
     "name": "stderr",
     "output_type": "stream",
     "text": [
      "/tmp/ipykernel_53691/1253261533.py:28: FutureWarning: The behavior of DataFrame concatenation with empty or all-NA entries is deprecated. In a future version, this will no longer exclude empty or all-NA columns when determining the result dtypes. To retain the old behavior, exclude the relevant entries before the concat operation.\n",
      "  df.loc[len(df)] = tmp_row\n",
      "/tmp/ipykernel_53691/1253261533.py:77: FutureWarning: The behavior of DataFrame concatenation with empty or all-NA entries is deprecated. In a future version, this will no longer exclude empty or all-NA columns when determining the result dtypes. To retain the old behavior, exclude the relevant entries before the concat operation.\n",
      "  df.loc[len(df)] = tmp_row\n",
      "/tmp/ipykernel_53691/1253261533.py:77: FutureWarning: The behavior of DataFrame concatenation with empty or all-NA entries is deprecated. In a future version, this will no longer exclude empty or all-NA columns when determining the result dtypes. To retain the old behavior, exclude the relevant entries before the concat operation.\n",
      "  df.loc[len(df)] = tmp_row\n",
      "/tmp/ipykernel_53691/1253261533.py:77: FutureWarning: The behavior of DataFrame concatenation with empty or all-NA entries is deprecated. In a future version, this will no longer exclude empty or all-NA columns when determining the result dtypes. To retain the old behavior, exclude the relevant entries before the concat operation.\n",
      "  df.loc[len(df)] = tmp_row\n"
     ]
    },
    {
     "name": "stdout",
     "output_type": "stream",
     "text": [
      "......0331 files done\n",
      "......0332 files done\n",
      "......0333 files done\n",
      "......0334 files done\n",
      "......0335 files done\n",
      "......0336 files done\n",
      "......0337 files done\n",
      "......0338 files done\n",
      "......0339 files done\n",
      "......0340 files done\n",
      "......0341 files done\n",
      "......0342 files done\n",
      "......0343 files done\n",
      "......0344 files done\n",
      "344 files have been sorted out\n",
      "1211 files have been created\n",
      "csv saved!\n"
     ]
    }
   ],
   "source": [
    "cnt = 0\n",
    "object_cnt = 0\n",
    "for path in image_path_list:\n",
    "    tmp_img = adjust_ratio_and_resize_image(path=path, to_h=480, to_w=640, save_folder_path=save_folder_path)\n",
    "    \n",
    "    # 원본 이미지 저장\n",
    "    tmp_row = parse_file_name(path)\n",
    "    \n",
    "    # 원본 이미지 파싱\n",
    "    file_name, production_number, plate_count, rivet, die, upper_type, upper_thickness, middle_type, middle_thickness, lower_type, lower_thickness, head_height = tmp_row\n",
    "    caption = make_prompt(\n",
    "        plate_count,\n",
    "        rivet,\n",
    "        die,\n",
    "        upper_type,\n",
    "        upper_thickness,\n",
    "        middle_type,\n",
    "        middle_thickness,\n",
    "        lower_type,\n",
    "        lower_thickness,\n",
    "        head_height\n",
    "    )\n",
    "    \n",
    "    # 메타데이터에 저장\n",
    "    tmp_row.append(caption)\n",
    "    df.loc[len(df)] = tmp_row\n",
    "\n",
    "    # 부분 이미지 저장\n",
    "    tmp_arr = np.array(tmp_img)\n",
    "    for i in range(plate_count + 1):\n",
    "        if i == 0:\n",
    "            part_name = \"rivet\"\n",
    "            colour = RIVET\n",
    "        elif i == 1:\n",
    "            part_name = \"upper\"\n",
    "            colour = UPPER\n",
    "        elif i == 2:\n",
    "            part_name = \"lower\"\n",
    "            colour = LOWER\n",
    "        elif i == 3:\n",
    "            part_name = \"middle\"\n",
    "            colour = MIDDLE\n",
    "\n",
    "        # 이미지 마스킹\n",
    "        mask = np.all(tmp_arr == colour, axis=-1)\n",
    "        part_arr = np.zeros_like(tmp_arr)\n",
    "        part_arr[mask] = colour\n",
    "        \n",
    "        # 이미지 저장\n",
    "        part_img = Image.fromarray(part_arr)\n",
    "        file_name_split = file_name.split(\"_\")\n",
    "        last_with_extension = file_name_split[-1]\n",
    "        real_file_name = \"_\".join(file_name_split[:-1])\n",
    "        file_name_for_part = real_file_name + f\"_only_{part_name}_\" + last_with_extension\n",
    "        part_img.save(Path(save_folder_path) / file_name_for_part)\n",
    "        \n",
    "        # 프롬프트 만들기\n",
    "        caption = make_prompt(\n",
    "            plate_count,\n",
    "            rivet,\n",
    "            die,\n",
    "            upper_type,\n",
    "            upper_thickness,\n",
    "            middle_type,\n",
    "            middle_thickness,\n",
    "            lower_type,\n",
    "            lower_thickness,\n",
    "            head_height,\n",
    "            part_name,\n",
    "        )\n",
    "        \n",
    "        # 메타데이터에 저장\n",
    "        tmp_row[0] = file_name_for_part\n",
    "        tmp_row[-1] = caption\n",
    "        df.loc[len(df)] = tmp_row\n",
    "        object_cnt += 1            \n",
    "    \n",
    "    cnt += 1\n",
    "    print(f\"......{str(cnt).zfill(4)} files done\")\n",
    "\n",
    "print(f\"{cnt} files have been sorted out\")\n",
    "print(f\"{object_cnt} files have been created\")\n",
    "\n",
    "df.to_csv(f\"{save_folder_path}/metadata.csv\", index=False)\n",
    "print(\"csv saved!\")"
   ]
  },
  {
   "cell_type": "code",
   "execution_count": 136,
   "metadata": {},
   "outputs": [
    {
     "data": {
      "text/plain": [
       "(1555, 1555)"
      ]
     },
     "execution_count": 136,
     "metadata": {},
     "output_type": "execute_result"
    }
   ],
   "source": [
    "len(df.file_name.unique()), len(df)"
   ]
  },
  {
   "cell_type": "markdown",
   "metadata": {},
   "source": [
    "#### Push to huggingface hub"
   ]
  },
  {
   "cell_type": "code",
   "execution_count": null,
   "metadata": {},
   "outputs": [
    {
     "data": {
      "application/vnd.jupyter.widget-view+json": {
       "model_id": "56d7aa5b28154ac09cf3303888657897",
       "version_major": 2,
       "version_minor": 0
      },
      "text/plain": [
       "VBox(children=(HTML(value='<center> <img\\nsrc=https://huggingface.co/front/assets/huggingface_logo-noborder.sv…"
      ]
     },
     "metadata": {},
     "output_type": "display_data"
    }
   ],
   "source": [
    "from huggingface_hub import notebook_login\n",
    "from datasets import load_dataset\n",
    "\n",
    "notebook_login()"
   ]
  },
  {
   "cell_type": "code",
   "execution_count": null,
   "metadata": {},
   "outputs": [
    {
     "data": {
      "application/vnd.jupyter.widget-view+json": {
       "model_id": "4c0a9025b3954a909b81827e48de7bfa",
       "version_major": 2,
       "version_minor": 0
      },
      "text/plain": [
       "Resolving data files:   0%|          | 0/257 [00:00<?, ?it/s]"
      ]
     },
     "metadata": {},
     "output_type": "display_data"
    },
    {
     "data": {
      "application/vnd.jupyter.widget-view+json": {
       "model_id": "761480851d3b4527b8e7c862f0055e8a",
       "version_major": 2,
       "version_minor": 0
      },
      "text/plain": [
       "Downloading data:   0%|          | 0/257 [00:00<?, ?files/s]"
      ]
     },
     "metadata": {},
     "output_type": "display_data"
    },
    {
     "data": {
      "application/vnd.jupyter.widget-view+json": {
       "model_id": "4f1e95dbe6b6422ba8750f0b10d4b233",
       "version_major": 2,
       "version_minor": 0
      },
      "text/plain": [
       "Generating train split: 0 examples [00:00, ? examples/s]"
      ]
     },
     "metadata": {},
     "output_type": "display_data"
    },
    {
     "data": {
      "application/vnd.jupyter.widget-view+json": {
       "model_id": "d58536d3a6ee4c36a1182779e96f94ea",
       "version_major": 2,
       "version_minor": 0
      },
      "text/plain": [
       "Uploading the dataset shards:   0%|          | 0/1 [00:00<?, ?it/s]"
      ]
     },
     "metadata": {},
     "output_type": "display_data"
    },
    {
     "data": {
      "application/vnd.jupyter.widget-view+json": {
       "model_id": "3fc59fcc1adc4cb2a183c46e88ecc5da",
       "version_major": 2,
       "version_minor": 0
      },
      "text/plain": [
       "Map:   0%|          | 0/256 [00:00<?, ? examples/s]"
      ]
     },
     "metadata": {},
     "output_type": "display_data"
    },
    {
     "data": {
      "application/vnd.jupyter.widget-view+json": {
       "model_id": "667d552cd9dc4d98af25a0e648eab7dd",
       "version_major": 2,
       "version_minor": 0
      },
      "text/plain": [
       "Creating parquet from Arrow format:   0%|          | 0/3 [00:00<?, ?ba/s]"
      ]
     },
     "metadata": {},
     "output_type": "display_data"
    },
    {
     "data": {
      "application/vnd.jupyter.widget-view+json": {
       "model_id": "9e8077170ad747b4bcf0d61e4e6b6843",
       "version_major": 2,
       "version_minor": 0
      },
      "text/plain": [
       "README.md:   0%|          | 0.00/723 [00:00<?, ?B/s]"
      ]
     },
     "metadata": {},
     "output_type": "display_data"
    },
    {
     "data": {
      "text/plain": [
       "CommitInfo(commit_url='https://huggingface.co/datasets/DJMOON/hm_spr_01_03_640_480/commit/8ae18f34c9be6648f39fa398e1f18d45d8a6a66c', commit_message='Upload dataset', commit_description='', oid='8ae18f34c9be6648f39fa398e1f18d45d8a6a66c', pr_url=None, pr_revision=None, pr_num=None)"
      ]
     },
     "execution_count": 46,
     "metadata": {},
     "output_type": "execute_result"
    }
   ],
   "source": [
    "ds = load_dataset(save_folder_path)\n",
    "ds.push_to_hub(\"hm_spr_01_04_640_480_partitioned\", private=False)"
   ]
  },
  {
   "cell_type": "code",
   "execution_count": null,
   "metadata": {},
   "outputs": [],
   "source": []
  },
  {
   "cell_type": "code",
   "execution_count": null,
   "metadata": {},
   "outputs": [],
   "source": []
  },
  {
   "cell_type": "code",
   "execution_count": 84,
   "metadata": {},
   "outputs": [
    {
     "data": {
      "image/png": "[encoded data removed]",
      "text/plain": [
       "<Figure size 640x480 with 1 Axes>"
      ]
     },
     "metadata": {},
     "output_type": "display_data"
    }
   ],
   "source": [
    "img = Image.open(image_path_list[0])\n",
    "\n",
    "img_arr = np.array(img)\n",
    "\n",
    "colour = LOWER\n",
    "\n",
    "mask = np.all(img_arr == colour, axis=-1)\n",
    "part_img = np.zeros_like(img_arr)\n",
    "part_img[mask] = colour\n",
    "plt.imshow(part_img)\n",
    "plt.show()"
   ]
  },
  {
   "cell_type": "code",
   "execution_count": null,
   "metadata": {},
   "outputs": [],
   "source": []
  }
 ],
 "metadata": {
  "kernelspec": {
   "display_name": ".venv",
   "language": "python",
   "name": "python3"
  },
  "language_info": {
   "codemirror_mode": {
    "name": "ipython",
    "version": 3
   },
   "file_extension": ".py",
   "mimetype": "text/x-python",
   "name": "python",
   "nbconvert_exporter": "python",
   "pygments_lexer": "ipython3",
   "version": "3.10.12"
  }
 },
 "nbformat": 4,
 "nbformat_minor": 2
}
